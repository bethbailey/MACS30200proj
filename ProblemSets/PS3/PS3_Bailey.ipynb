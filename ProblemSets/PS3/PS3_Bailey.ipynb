{
 "cells": [
  {
   "cell_type": "markdown",
   "metadata": {},
   "source": [
    "# Part 1: Image Classification\n",
    "## 1. Set random seed"
   ]
  },
  {
   "cell_type": "code",
   "execution_count": 1,
   "metadata": {},
   "outputs": [],
   "source": [
    "import numpy as np\n",
    "import random\n",
    "random.seed(1234)"
   ]
  },
  {
   "cell_type": "markdown",
   "metadata": {},
   "source": [
    "## 2. Load and preprocess data"
   ]
  },
  {
   "cell_type": "code",
   "execution_count": 2,
   "metadata": {},
   "outputs": [
    {
     "name": "stderr",
     "output_type": "stream",
     "text": [
      "Using TensorFlow backend.\n"
     ]
    }
   ],
   "source": [
    "from keras.datasets import mnist\n",
    "(train_images, train_labels), (test_images, test_labels) = mnist.load_data()"
   ]
  },
  {
   "cell_type": "code",
   "execution_count": 3,
   "metadata": {},
   "outputs": [],
   "source": [
    "## Preprocess the data by converting the data to a 2D tensor with individual values between 0 and 1\n",
    "## and making it categorical. Will break into training and testing set with \"validation_split\" parameter\n",
    "## in model.\n",
    "train_images = train_images.reshape((60000, 28 * 28))\n",
    "train_images = train_images.astype('float32') / 255\n",
    "\n",
    "test_images = test_images.reshape((10000, 28 * 28))\n",
    "test_images = test_images.astype('float32') / 255\n",
    "\n",
    "from keras.utils import to_categorical\n",
    "train_labels = to_categorical(train_labels)\n",
    "test_labels = to_categorical(test_labels)"
   ]
  },
  {
   "cell_type": "markdown",
   "metadata": {},
   "source": [
    "## 3. Train Models\n",
    "### i. Initial test"
   ]
  },
  {
   "cell_type": "code",
   "execution_count": 4,
   "metadata": {},
   "outputs": [],
   "source": [
    "from keras import models\n",
    "from keras import layers\n",
    "network = models.Sequential()\n",
    "network.add(layers.Dense(512, activation='relu', input_shape=(28 * 28,)))\n",
    "network.add(layers.Dense(512, activation='relu'))\n",
    "network.add(layers.Dense(512, activation='relu'))\n",
    "network.add(layers.Dense(512, activation='relu'))\n",
    "network.add(layers.Dense(10, activation='softmax'))\n",
    "network.compile(optimizer='rmsprop', loss='categorical_crossentropy', metrics=['acc'])"
   ]
  },
  {
   "cell_type": "code",
   "execution_count": 5,
   "metadata": {},
   "outputs": [
    {
     "name": "stdout",
     "output_type": "stream",
     "text": [
      "Train on 50000 samples, validate on 10000 samples\n",
      "Epoch 1/200\n",
      "50000/50000 [==============================] - 2s 37us/step - loss: 0.5116 - acc: 0.8356 - val_loss: 0.1640 - val_acc: 0.9494\n",
      "Epoch 2/200\n",
      "50000/50000 [==============================] - 1s 16us/step - loss: 0.1518 - acc: 0.9535 - val_loss: 0.2670 - val_acc: 0.9217\n",
      "Epoch 3/200\n",
      "50000/50000 [==============================] - 1s 16us/step - loss: 0.0951 - acc: 0.9714 - val_loss: 0.1363 - val_acc: 0.9596\n",
      "Epoch 4/200\n",
      "50000/50000 [==============================] - 1s 16us/step - loss: 0.0639 - acc: 0.9810 - val_loss: 0.0966 - val_acc: 0.9726\n",
      "Epoch 5/200\n",
      "50000/50000 [==============================] - 1s 16us/step - loss: 0.0473 - acc: 0.9859 - val_loss: 0.1319 - val_acc: 0.9695\n",
      "Epoch 6/200\n",
      "50000/50000 [==============================] - 1s 16us/step - loss: 0.0350 - acc: 0.9889 - val_loss: 0.1137 - val_acc: 0.9710\n",
      "Epoch 7/200\n",
      "50000/50000 [==============================] - 1s 16us/step - loss: 0.0292 - acc: 0.9909 - val_loss: 0.0845 - val_acc: 0.9784\n",
      "Epoch 8/200\n",
      "50000/50000 [==============================] - 1s 16us/step - loss: 0.0247 - acc: 0.9931 - val_loss: 0.1009 - val_acc: 0.9757\n",
      "Epoch 9/200\n",
      "50000/50000 [==============================] - 1s 15us/step - loss: 0.0184 - acc: 0.9945 - val_loss: 0.1258 - val_acc: 0.9779\n",
      "Epoch 10/200\n",
      "50000/50000 [==============================] - 1s 15us/step - loss: 0.0174 - acc: 0.9950 - val_loss: 0.1135 - val_acc: 0.9764\n",
      "Epoch 11/200\n",
      "50000/50000 [==============================] - 1s 15us/step - loss: 0.0157 - acc: 0.9953 - val_loss: 0.1416 - val_acc: 0.9741\n",
      "Epoch 12/200\n",
      "50000/50000 [==============================] - 1s 15us/step - loss: 0.0143 - acc: 0.9959 - val_loss: 0.1166 - val_acc: 0.9780\n",
      "Epoch 13/200\n",
      "50000/50000 [==============================] - 1s 16us/step - loss: 0.0173 - acc: 0.9959 - val_loss: 0.0958 - val_acc: 0.9810\n",
      "Epoch 14/200\n",
      "50000/50000 [==============================] - 1s 16us/step - loss: 0.0111 - acc: 0.9969 - val_loss: 0.0972 - val_acc: 0.9828\n",
      "Epoch 15/200\n",
      "50000/50000 [==============================] - 1s 16us/step - loss: 0.0122 - acc: 0.9970 - val_loss: 0.1163 - val_acc: 0.9808\n",
      "Epoch 16/200\n",
      "50000/50000 [==============================] - 1s 16us/step - loss: 0.0114 - acc: 0.9972 - val_loss: 0.1098 - val_acc: 0.9801\n",
      "Epoch 17/200\n",
      "50000/50000 [==============================] - 1s 16us/step - loss: 0.0102 - acc: 0.9974 - val_loss: 0.1292 - val_acc: 0.9801\n",
      "Epoch 18/200\n",
      "50000/50000 [==============================] - 1s 15us/step - loss: 0.0091 - acc: 0.9978 - val_loss: 0.1218 - val_acc: 0.9828\n",
      "Epoch 19/200\n",
      "50000/50000 [==============================] - 1s 16us/step - loss: 0.0086 - acc: 0.9978 - val_loss: 0.1373 - val_acc: 0.9798\n",
      "Epoch 20/200\n",
      "50000/50000 [==============================] - 1s 16us/step - loss: 0.0092 - acc: 0.9978 - val_loss: 0.1234 - val_acc: 0.9815\n",
      "Epoch 21/200\n",
      "50000/50000 [==============================] - 1s 15us/step - loss: 0.0075 - acc: 0.9980 - val_loss: 0.1803 - val_acc: 0.9745\n",
      "Epoch 22/200\n",
      "50000/50000 [==============================] - 1s 16us/step - loss: 0.0068 - acc: 0.9983 - val_loss: 0.1276 - val_acc: 0.9836\n",
      "Epoch 23/200\n",
      "50000/50000 [==============================] - 1s 16us/step - loss: 0.0094 - acc: 0.9977 - val_loss: 0.1297 - val_acc: 0.9811\n",
      "Epoch 24/200\n",
      "50000/50000 [==============================] - 1s 16us/step - loss: 0.0085 - acc: 0.9980 - val_loss: 0.1337 - val_acc: 0.9804\n",
      "Epoch 25/200\n",
      "50000/50000 [==============================] - 1s 16us/step - loss: 0.0088 - acc: 0.9978 - val_loss: 0.1359 - val_acc: 0.9808\n",
      "Epoch 26/200\n",
      "50000/50000 [==============================] - 1s 16us/step - loss: 0.0081 - acc: 0.9982 - val_loss: 0.2305 - val_acc: 0.9712\n",
      "Epoch 27/200\n",
      "50000/50000 [==============================] - 1s 15us/step - loss: 0.0084 - acc: 0.9981 - val_loss: 0.1299 - val_acc: 0.9818\n",
      "Epoch 28/200\n",
      "50000/50000 [==============================] - 1s 16us/step - loss: 0.0070 - acc: 0.9983 - val_loss: 0.1494 - val_acc: 0.9811\n",
      "Epoch 29/200\n",
      "50000/50000 [==============================] - 1s 16us/step - loss: 0.0077 - acc: 0.9982 - val_loss: 0.1341 - val_acc: 0.9825\n",
      "Epoch 30/200\n",
      "50000/50000 [==============================] - 1s 15us/step - loss: 0.0074 - acc: 0.9985 - val_loss: 0.1590 - val_acc: 0.9814\n",
      "Epoch 31/200\n",
      "50000/50000 [==============================] - 1s 16us/step - loss: 0.0052 - acc: 0.9987 - val_loss: 0.1651 - val_acc: 0.9797\n",
      "Epoch 32/200\n",
      "50000/50000 [==============================] - 1s 16us/step - loss: 0.0095 - acc: 0.9981 - val_loss: 0.1452 - val_acc: 0.9808\n",
      "Epoch 33/200\n",
      "50000/50000 [==============================] - 1s 16us/step - loss: 0.0081 - acc: 0.9985 - val_loss: 0.1413 - val_acc: 0.9813\n",
      "Epoch 34/200\n",
      "50000/50000 [==============================] - 1s 16us/step - loss: 0.0079 - acc: 0.9985 - val_loss: 0.1451 - val_acc: 0.9807\n",
      "Epoch 35/200\n",
      "50000/50000 [==============================] - 1s 15us/step - loss: 0.0090 - acc: 0.9982 - val_loss: 0.1309 - val_acc: 0.9824\n",
      "Epoch 36/200\n",
      "50000/50000 [==============================] - 1s 15us/step - loss: 0.0065 - acc: 0.9986 - val_loss: 0.1543 - val_acc: 0.9809\n",
      "Epoch 37/200\n",
      "50000/50000 [==============================] - 1s 15us/step - loss: 0.0073 - acc: 0.9986 - val_loss: 0.1436 - val_acc: 0.9832\n",
      "Epoch 38/200\n",
      "50000/50000 [==============================] - 1s 16us/step - loss: 0.0081 - acc: 0.9984 - val_loss: 0.1414 - val_acc: 0.9811\n",
      "Epoch 39/200\n",
      "50000/50000 [==============================] - 1s 16us/step - loss: 0.0076 - acc: 0.9987 - val_loss: 0.1447 - val_acc: 0.9824\n",
      "Epoch 40/200\n",
      "50000/50000 [==============================] - 1s 15us/step - loss: 0.0060 - acc: 0.9988 - val_loss: 0.1613 - val_acc: 0.9813\n",
      "Epoch 41/200\n",
      "50000/50000 [==============================] - 1s 15us/step - loss: 0.0072 - acc: 0.9987 - val_loss: 0.1508 - val_acc: 0.9815\n",
      "Epoch 42/200\n",
      "50000/50000 [==============================] - 1s 15us/step - loss: 0.0078 - acc: 0.9986 - val_loss: 0.1591 - val_acc: 0.9812\n",
      "Epoch 43/200\n",
      "50000/50000 [==============================] - 1s 15us/step - loss: 0.0052 - acc: 0.9988 - val_loss: 0.1682 - val_acc: 0.9808\n",
      "Epoch 44/200\n",
      "50000/50000 [==============================] - 1s 15us/step - loss: 0.0073 - acc: 0.9986 - val_loss: 0.1587 - val_acc: 0.9822\n",
      "Epoch 45/200\n",
      "50000/50000 [==============================] - 1s 15us/step - loss: 0.0064 - acc: 0.9987 - val_loss: 0.1613 - val_acc: 0.9811\n",
      "Epoch 46/200\n",
      "50000/50000 [==============================] - 1s 15us/step - loss: 0.0054 - acc: 0.9991 - val_loss: 0.1765 - val_acc: 0.9813\n",
      "Epoch 47/200\n",
      "50000/50000 [==============================] - 1s 15us/step - loss: 0.0060 - acc: 0.9988 - val_loss: 0.1511 - val_acc: 0.9819\n",
      "Epoch 48/200\n",
      "50000/50000 [==============================] - 1s 15us/step - loss: 0.0083 - acc: 0.9986 - val_loss: 0.1777 - val_acc: 0.9792\n",
      "Epoch 49/200\n",
      "50000/50000 [==============================] - 1s 15us/step - loss: 0.0065 - acc: 0.9990 - val_loss: 0.1854 - val_acc: 0.9804\n",
      "Epoch 50/200\n",
      "50000/50000 [==============================] - 1s 15us/step - loss: 0.0096 - acc: 0.9984 - val_loss: 0.1365 - val_acc: 0.9826\n",
      "Epoch 51/200\n",
      "50000/50000 [==============================] - 1s 15us/step - loss: 0.0037 - acc: 0.9993 - val_loss: 0.1842 - val_acc: 0.9819\n",
      "Epoch 52/200\n",
      "50000/50000 [==============================] - 1s 15us/step - loss: 0.0077 - acc: 0.9988 - val_loss: 0.1517 - val_acc: 0.9816\n",
      "Epoch 53/200\n",
      "50000/50000 [==============================] - 1s 15us/step - loss: 0.0051 - acc: 0.9990 - val_loss: 0.1817 - val_acc: 0.9811\n",
      "Epoch 54/200\n",
      "50000/50000 [==============================] - 1s 15us/step - loss: 0.0053 - acc: 0.9991 - val_loss: 0.1610 - val_acc: 0.9820\n",
      "Epoch 55/200\n",
      "50000/50000 [==============================] - 1s 15us/step - loss: 0.0084 - acc: 0.9986 - val_loss: 0.1765 - val_acc: 0.9807\n",
      "Epoch 56/200\n",
      "50000/50000 [==============================] - 1s 15us/step - loss: 0.0071 - acc: 0.9988 - val_loss: 0.1490 - val_acc: 0.9830\n",
      "Epoch 57/200\n",
      "50000/50000 [==============================] - 1s 15us/step - loss: 0.0050 - acc: 0.9992 - val_loss: 0.1611 - val_acc: 0.9828\n",
      "Epoch 58/200\n",
      "50000/50000 [==============================] - 1s 15us/step - loss: 0.0077 - acc: 0.9987 - val_loss: 0.1593 - val_acc: 0.9816\n",
      "Epoch 59/200\n"
     ]
    },
    {
     "name": "stdout",
     "output_type": "stream",
     "text": [
      "50000/50000 [==============================] - 1s 15us/step - loss: 0.0075 - acc: 0.9987 - val_loss: 0.1513 - val_acc: 0.9835\n",
      "Epoch 60/200\n",
      "50000/50000 [==============================] - 1s 15us/step - loss: 0.0075 - acc: 0.9986 - val_loss: 0.1752 - val_acc: 0.9813\n",
      "Epoch 61/200\n",
      "50000/50000 [==============================] - 1s 15us/step - loss: 0.0092 - acc: 0.9986 - val_loss: 0.1498 - val_acc: 0.9833\n",
      "Epoch 62/200\n",
      "50000/50000 [==============================] - 1s 15us/step - loss: 0.0049 - acc: 0.9991 - val_loss: 0.1989 - val_acc: 0.9813\n",
      "Epoch 63/200\n",
      "50000/50000 [==============================] - 1s 15us/step - loss: 0.0052 - acc: 0.9991 - val_loss: 0.1867 - val_acc: 0.9801\n",
      "Epoch 64/200\n",
      "50000/50000 [==============================] - 1s 15us/step - loss: 0.0038 - acc: 0.9993 - val_loss: 0.2186 - val_acc: 0.9794\n",
      "Epoch 65/200\n",
      "50000/50000 [==============================] - 1s 15us/step - loss: 0.0091 - acc: 0.9986 - val_loss: 0.1669 - val_acc: 0.9823\n",
      "Epoch 66/200\n",
      "50000/50000 [==============================] - 1s 15us/step - loss: 0.0084 - acc: 0.9988 - val_loss: 0.1712 - val_acc: 0.9818\n",
      "Epoch 67/200\n",
      "50000/50000 [==============================] - 1s 15us/step - loss: 0.0053 - acc: 0.9990 - val_loss: 0.1870 - val_acc: 0.9824\n",
      "Epoch 68/200\n",
      "50000/50000 [==============================] - 1s 15us/step - loss: 0.0063 - acc: 0.9991 - val_loss: 0.1736 - val_acc: 0.9822\n",
      "Epoch 69/200\n",
      "50000/50000 [==============================] - 1s 15us/step - loss: 0.0053 - acc: 0.9992 - val_loss: 0.1721 - val_acc: 0.9825\n",
      "Epoch 70/200\n",
      "50000/50000 [==============================] - 1s 15us/step - loss: 0.0042 - acc: 0.9993 - val_loss: 0.1859 - val_acc: 0.9818\n",
      "Epoch 71/200\n",
      "50000/50000 [==============================] - 1s 15us/step - loss: 0.0141 - acc: 0.9984 - val_loss: 0.1632 - val_acc: 0.9825\n",
      "Epoch 72/200\n",
      "50000/50000 [==============================] - 1s 15us/step - loss: 0.0034 - acc: 0.9995 - val_loss: 0.1931 - val_acc: 0.9803\n",
      "Epoch 73/200\n",
      "50000/50000 [==============================] - 1s 15us/step - loss: 0.0054 - acc: 0.9990 - val_loss: 0.1790 - val_acc: 0.9813\n",
      "Epoch 74/200\n",
      "50000/50000 [==============================] - 1s 15us/step - loss: 0.0091 - acc: 0.9986 - val_loss: 0.1618 - val_acc: 0.9832\n",
      "Epoch 75/200\n",
      "50000/50000 [==============================] - 1s 15us/step - loss: 0.0059 - acc: 0.9992 - val_loss: 0.1586 - val_acc: 0.9829\n",
      "Epoch 76/200\n",
      "50000/50000 [==============================] - 1s 15us/step - loss: 0.0052 - acc: 0.9991 - val_loss: 0.1951 - val_acc: 0.9790\n",
      "Epoch 77/200\n",
      "50000/50000 [==============================] - 1s 15us/step - loss: 0.0058 - acc: 0.9991 - val_loss: 0.2004 - val_acc: 0.9798\n",
      "Epoch 78/200\n",
      "50000/50000 [==============================] - 1s 15us/step - loss: 0.0066 - acc: 0.9990 - val_loss: 0.2040 - val_acc: 0.9800\n",
      "Epoch 79/200\n",
      "50000/50000 [==============================] - 1s 15us/step - loss: 0.0041 - acc: 0.9992 - val_loss: 0.1979 - val_acc: 0.9812\n",
      "Epoch 80/200\n",
      "50000/50000 [==============================] - 1s 15us/step - loss: 0.0063 - acc: 0.9990 - val_loss: 0.2038 - val_acc: 0.9810\n",
      "Epoch 81/200\n",
      "50000/50000 [==============================] - 1s 15us/step - loss: 0.0064 - acc: 0.9992 - val_loss: 0.2109 - val_acc: 0.9822\n",
      "Epoch 82/200\n",
      "50000/50000 [==============================] - 1s 15us/step - loss: 0.0077 - acc: 0.9990 - val_loss: 0.2779 - val_acc: 0.9750\n",
      "Epoch 83/200\n",
      "50000/50000 [==============================] - 1s 15us/step - loss: 0.0051 - acc: 0.9993 - val_loss: 0.2001 - val_acc: 0.9819\n",
      "Epoch 84/200\n",
      "50000/50000 [==============================] - 1s 15us/step - loss: 0.0069 - acc: 0.9990 - val_loss: 0.1891 - val_acc: 0.9830\n",
      "Epoch 85/200\n",
      "50000/50000 [==============================] - 1s 15us/step - loss: 0.0049 - acc: 0.9993 - val_loss: 0.1787 - val_acc: 0.9830\n",
      "Epoch 86/200\n",
      "50000/50000 [==============================] - 1s 15us/step - loss: 0.0065 - acc: 0.9989 - val_loss: 0.1845 - val_acc: 0.9826\n",
      "Epoch 87/200\n",
      "50000/50000 [==============================] - 1s 15us/step - loss: 0.0073 - acc: 0.9988 - val_loss: 0.2061 - val_acc: 0.9809\n",
      "Epoch 88/200\n",
      "50000/50000 [==============================] - 1s 15us/step - loss: 0.0083 - acc: 0.9989 - val_loss: 0.1692 - val_acc: 0.9825\n",
      "Epoch 89/200\n",
      "50000/50000 [==============================] - 1s 15us/step - loss: 0.0047 - acc: 0.9993 - val_loss: 0.1937 - val_acc: 0.9822\n",
      "Epoch 90/200\n",
      "50000/50000 [==============================] - 1s 15us/step - loss: 0.0080 - acc: 0.9990 - val_loss: 0.1824 - val_acc: 0.9828\n",
      "Epoch 91/200\n",
      "50000/50000 [==============================] - 1s 15us/step - loss: 0.0051 - acc: 0.9992 - val_loss: 0.2074 - val_acc: 0.9808\n",
      "Epoch 92/200\n",
      "50000/50000 [==============================] - 1s 15us/step - loss: 0.0055 - acc: 0.9992 - val_loss: 0.1810 - val_acc: 0.9826\n",
      "Epoch 93/200\n",
      "50000/50000 [==============================] - 1s 15us/step - loss: 0.0044 - acc: 0.9992 - val_loss: 0.1750 - val_acc: 0.9832\n",
      "Epoch 94/200\n",
      "50000/50000 [==============================] - 1s 15us/step - loss: 0.0057 - acc: 0.9992 - val_loss: 0.1790 - val_acc: 0.9822\n",
      "Epoch 95/200\n",
      "50000/50000 [==============================] - 1s 15us/step - loss: 0.0059 - acc: 0.9990 - val_loss: 0.1696 - val_acc: 0.9831\n",
      "Epoch 96/200\n",
      "50000/50000 [==============================] - 1s 15us/step - loss: 0.0048 - acc: 0.9993 - val_loss: 0.1957 - val_acc: 0.9812\n",
      "Epoch 97/200\n",
      "50000/50000 [==============================] - 1s 15us/step - loss: 0.0053 - acc: 0.9992 - val_loss: 0.1794 - val_acc: 0.9828\n",
      "Epoch 98/200\n",
      "50000/50000 [==============================] - 1s 15us/step - loss: 0.0051 - acc: 0.9993 - val_loss: 0.1879 - val_acc: 0.9823\n",
      "Epoch 99/200\n",
      "50000/50000 [==============================] - 1s 15us/step - loss: 0.0096 - acc: 0.9989 - val_loss: 0.1896 - val_acc: 0.9822\n",
      "Epoch 100/200\n",
      "50000/50000 [==============================] - 1s 15us/step - loss: 0.0052 - acc: 0.9990 - val_loss: 0.1771 - val_acc: 0.9822\n",
      "Epoch 101/200\n",
      "50000/50000 [==============================] - 1s 15us/step - loss: 0.0053 - acc: 0.9992 - val_loss: 0.1706 - val_acc: 0.9823\n",
      "Epoch 102/200\n",
      "50000/50000 [==============================] - 1s 15us/step - loss: 0.0040 - acc: 0.9994 - val_loss: 0.1966 - val_acc: 0.9811\n",
      "Epoch 103/200\n",
      "50000/50000 [==============================] - 1s 15us/step - loss: 0.0110 - acc: 0.9987 - val_loss: 0.1985 - val_acc: 0.9810\n",
      "Epoch 104/200\n",
      "50000/50000 [==============================] - 1s 15us/step - loss: 0.0040 - acc: 0.9993 - val_loss: 0.1934 - val_acc: 0.9814\n",
      "Epoch 105/200\n",
      "50000/50000 [==============================] - 1s 15us/step - loss: 0.0074 - acc: 0.9991 - val_loss: 0.1827 - val_acc: 0.9838\n",
      "Epoch 106/200\n",
      "50000/50000 [==============================] - 1s 15us/step - loss: 0.0075 - acc: 0.9990 - val_loss: 0.1861 - val_acc: 0.9826\n",
      "Epoch 107/200\n",
      "50000/50000 [==============================] - 1s 15us/step - loss: 0.0042 - acc: 0.9993 - val_loss: 0.1759 - val_acc: 0.9809\n",
      "Epoch 108/200\n",
      "50000/50000 [==============================] - 1s 15us/step - loss: 0.0044 - acc: 0.9995 - val_loss: 0.2112 - val_acc: 0.9815\n",
      "Epoch 109/200\n",
      "50000/50000 [==============================] - 1s 15us/step - loss: 0.0091 - acc: 0.9988 - val_loss: 0.1979 - val_acc: 0.9802\n",
      "Epoch 110/200\n",
      "50000/50000 [==============================] - 1s 15us/step - loss: 0.0056 - acc: 0.9992 - val_loss: 0.1946 - val_acc: 0.9830\n",
      "Epoch 111/200\n",
      "50000/50000 [==============================] - 1s 15us/step - loss: 0.0071 - acc: 0.9990 - val_loss: 0.1793 - val_acc: 0.9823\n",
      "Epoch 112/200\n",
      "50000/50000 [==============================] - 1s 15us/step - loss: 0.0078 - acc: 0.9991 - val_loss: 0.1949 - val_acc: 0.9824\n",
      "Epoch 113/200\n",
      "50000/50000 [==============================] - 1s 15us/step - loss: 0.0073 - acc: 0.9990 - val_loss: 0.2191 - val_acc: 0.9785\n",
      "Epoch 114/200\n",
      "50000/50000 [==============================] - 1s 15us/step - loss: 0.0071 - acc: 0.9992 - val_loss: 0.1738 - val_acc: 0.9834\n",
      "Epoch 115/200\n",
      "50000/50000 [==============================] - 1s 15us/step - loss: 0.0075 - acc: 0.9991 - val_loss: 0.2068 - val_acc: 0.9809\n",
      "Epoch 116/200\n",
      "50000/50000 [==============================] - 1s 15us/step - loss: 0.0077 - acc: 0.9991 - val_loss: 0.1753 - val_acc: 0.9823\n",
      "Epoch 117/200\n",
      "50000/50000 [==============================] - 1s 15us/step - loss: 0.0044 - acc: 0.9993 - val_loss: 0.1797 - val_acc: 0.9828\n"
     ]
    },
    {
     "name": "stdout",
     "output_type": "stream",
     "text": [
      "Epoch 118/200\n",
      "50000/50000 [==============================] - 1s 15us/step - loss: 0.0059 - acc: 0.9992 - val_loss: 0.1908 - val_acc: 0.9827\n",
      "Epoch 119/200\n",
      "50000/50000 [==============================] - 1s 15us/step - loss: 0.0074 - acc: 0.9989 - val_loss: 0.2068 - val_acc: 0.9823\n",
      "Epoch 120/200\n",
      "50000/50000 [==============================] - 1s 15us/step - loss: 0.0082 - acc: 0.9991 - val_loss: 0.2517 - val_acc: 0.9781\n",
      "Epoch 121/200\n",
      "50000/50000 [==============================] - 1s 15us/step - loss: 0.0093 - acc: 0.9988 - val_loss: 0.1823 - val_acc: 0.9815\n",
      "Epoch 122/200\n",
      "50000/50000 [==============================] - 1s 15us/step - loss: 0.0059 - acc: 0.9989 - val_loss: 0.2047 - val_acc: 0.9816\n",
      "Epoch 123/200\n",
      "50000/50000 [==============================] - 1s 15us/step - loss: 0.0048 - acc: 0.9993 - val_loss: 0.1957 - val_acc: 0.9835\n",
      "Epoch 124/200\n",
      "50000/50000 [==============================] - 1s 15us/step - loss: 0.0083 - acc: 0.9990 - val_loss: 0.1942 - val_acc: 0.9826\n",
      "Epoch 125/200\n",
      "50000/50000 [==============================] - 1s 15us/step - loss: 0.0068 - acc: 0.9991 - val_loss: 0.2258 - val_acc: 0.9804\n",
      "Epoch 126/200\n",
      "50000/50000 [==============================] - 1s 15us/step - loss: 0.0056 - acc: 0.9992 - val_loss: 0.2074 - val_acc: 0.9816\n",
      "Epoch 127/200\n",
      "50000/50000 [==============================] - 1s 15us/step - loss: 0.0082 - acc: 0.9992 - val_loss: 0.1971 - val_acc: 0.9832\n",
      "Epoch 128/200\n",
      "50000/50000 [==============================] - 1s 15us/step - loss: 0.0026 - acc: 0.9998 - val_loss: 0.2543 - val_acc: 0.9787\n",
      "Epoch 129/200\n",
      "50000/50000 [==============================] - 1s 15us/step - loss: 0.0067 - acc: 0.9993 - val_loss: 0.2527 - val_acc: 0.9789\n",
      "Epoch 130/200\n",
      "50000/50000 [==============================] - 1s 15us/step - loss: 0.0092 - acc: 0.9989 - val_loss: 0.2227 - val_acc: 0.9791\n",
      "Epoch 131/200\n",
      "50000/50000 [==============================] - 1s 15us/step - loss: 0.0066 - acc: 0.9990 - val_loss: 0.1936 - val_acc: 0.9829\n",
      "Epoch 132/200\n",
      "50000/50000 [==============================] - 1s 15us/step - loss: 0.0023 - acc: 0.9998 - val_loss: 0.2064 - val_acc: 0.9827\n",
      "Epoch 133/200\n",
      "50000/50000 [==============================] - 1s 15us/step - loss: 0.0047 - acc: 0.9994 - val_loss: 0.2101 - val_acc: 0.9831\n",
      "Epoch 134/200\n",
      "50000/50000 [==============================] - 1s 15us/step - loss: 0.0116 - acc: 0.9989 - val_loss: 0.2030 - val_acc: 0.9820\n",
      "Epoch 135/200\n",
      "50000/50000 [==============================] - 1s 15us/step - loss: 0.0056 - acc: 0.9992 - val_loss: 0.1999 - val_acc: 0.9819\n",
      "Epoch 136/200\n",
      "50000/50000 [==============================] - 1s 15us/step - loss: 0.0088 - acc: 0.9990 - val_loss: 0.1926 - val_acc: 0.9821\n",
      "Epoch 137/200\n",
      "50000/50000 [==============================] - 1s 15us/step - loss: 0.0035 - acc: 0.9994 - val_loss: 0.1687 - val_acc: 0.9837\n",
      "Epoch 138/200\n",
      "50000/50000 [==============================] - 1s 15us/step - loss: 0.0049 - acc: 0.9993 - val_loss: 0.1834 - val_acc: 0.9823\n",
      "Epoch 139/200\n",
      "50000/50000 [==============================] - 1s 15us/step - loss: 0.0073 - acc: 0.9991 - val_loss: 0.1704 - val_acc: 0.9840\n",
      "Epoch 140/200\n",
      "50000/50000 [==============================] - 1s 15us/step - loss: 0.0026 - acc: 0.9997 - val_loss: 0.2010 - val_acc: 0.9831\n",
      "Epoch 141/200\n",
      "50000/50000 [==============================] - 1s 15us/step - loss: 0.0041 - acc: 0.9996 - val_loss: 0.2427 - val_acc: 0.9811\n",
      "Epoch 142/200\n",
      "50000/50000 [==============================] - 1s 15us/step - loss: 0.0102 - acc: 0.9989 - val_loss: 0.1928 - val_acc: 0.9833\n",
      "Epoch 143/200\n",
      "50000/50000 [==============================] - 1s 15us/step - loss: 0.0056 - acc: 0.9994 - val_loss: 0.2150 - val_acc: 0.9813\n",
      "Epoch 144/200\n",
      "50000/50000 [==============================] - 1s 15us/step - loss: 0.0070 - acc: 0.9993 - val_loss: 0.1973 - val_acc: 0.9829\n",
      "Epoch 145/200\n",
      "50000/50000 [==============================] - 1s 15us/step - loss: 0.0052 - acc: 0.9995 - val_loss: 0.1996 - val_acc: 0.9823\n",
      "Epoch 146/200\n",
      "50000/50000 [==============================] - 1s 15us/step - loss: 0.0087 - acc: 0.9990 - val_loss: 0.2099 - val_acc: 0.9812\n",
      "Epoch 147/200\n",
      "50000/50000 [==============================] - 1s 15us/step - loss: 0.0071 - acc: 0.9992 - val_loss: 0.1944 - val_acc: 0.9832\n",
      "Epoch 148/200\n",
      "50000/50000 [==============================] - 1s 15us/step - loss: 0.0071 - acc: 0.9993 - val_loss: 0.2046 - val_acc: 0.9809\n",
      "Epoch 149/200\n",
      "50000/50000 [==============================] - 1s 15us/step - loss: 0.0078 - acc: 0.9991 - val_loss: 0.2131 - val_acc: 0.9801\n",
      "Epoch 150/200\n",
      "50000/50000 [==============================] - 1s 15us/step - loss: 0.0052 - acc: 0.9994 - val_loss: 0.2257 - val_acc: 0.9811\n",
      "Epoch 151/200\n",
      "50000/50000 [==============================] - 1s 15us/step - loss: 0.0057 - acc: 0.9993 - val_loss: 0.2473 - val_acc: 0.9789\n",
      "Epoch 152/200\n",
      "50000/50000 [==============================] - 1s 15us/step - loss: 0.0113 - acc: 0.9987 - val_loss: 0.1900 - val_acc: 0.9818\n",
      "Epoch 153/200\n",
      "50000/50000 [==============================] - 1s 15us/step - loss: 0.0051 - acc: 0.9994 - val_loss: 0.1956 - val_acc: 0.9826\n",
      "Epoch 154/200\n",
      "50000/50000 [==============================] - 1s 15us/step - loss: 0.0064 - acc: 0.9993 - val_loss: 0.2074 - val_acc: 0.9831\n",
      "Epoch 155/200\n",
      "50000/50000 [==============================] - 1s 15us/step - loss: 0.0055 - acc: 0.9994 - val_loss: 0.2014 - val_acc: 0.9826\n",
      "Epoch 156/200\n",
      "50000/50000 [==============================] - 1s 15us/step - loss: 0.0106 - acc: 0.9989 - val_loss: 0.1977 - val_acc: 0.9819\n",
      "Epoch 157/200\n",
      "50000/50000 [==============================] - 1s 15us/step - loss: 0.0073 - acc: 0.9992 - val_loss: 0.1985 - val_acc: 0.9818\n",
      "Epoch 158/200\n",
      "50000/50000 [==============================] - 1s 15us/step - loss: 0.0110 - acc: 0.9986 - val_loss: 0.2144 - val_acc: 0.9808\n",
      "Epoch 159/200\n",
      "50000/50000 [==============================] - 1s 15us/step - loss: 0.0079 - acc: 0.9989 - val_loss: 0.2434 - val_acc: 0.9768\n",
      "Epoch 160/200\n",
      "50000/50000 [==============================] - 1s 15us/step - loss: 0.0029 - acc: 0.9996 - val_loss: 0.2161 - val_acc: 0.9801\n",
      "Epoch 161/200\n",
      "50000/50000 [==============================] - 1s 15us/step - loss: 0.0055 - acc: 0.9995 - val_loss: 0.1927 - val_acc: 0.9830\n",
      "Epoch 162/200\n",
      "50000/50000 [==============================] - 1s 15us/step - loss: 0.0083 - acc: 0.9991 - val_loss: 0.2080 - val_acc: 0.9816\n",
      "Epoch 163/200\n",
      "50000/50000 [==============================] - 1s 15us/step - loss: 0.0020 - acc: 0.9996 - val_loss: 0.1882 - val_acc: 0.9824\n",
      "Epoch 164/200\n",
      "50000/50000 [==============================] - 1s 15us/step - loss: 0.0064 - acc: 0.9993 - val_loss: 0.1944 - val_acc: 0.9828\n",
      "Epoch 165/200\n",
      "50000/50000 [==============================] - 1s 15us/step - loss: 0.0061 - acc: 0.9992 - val_loss: 0.1849 - val_acc: 0.9815\n",
      "Epoch 166/200\n",
      "50000/50000 [==============================] - 1s 15us/step - loss: 0.0088 - acc: 0.9989 - val_loss: 0.2108 - val_acc: 0.9800\n",
      "Epoch 167/200\n",
      "50000/50000 [==============================] - 1s 15us/step - loss: 0.0047 - acc: 0.9994 - val_loss: 0.2073 - val_acc: 0.9817\n",
      "Epoch 168/200\n",
      "50000/50000 [==============================] - 1s 15us/step - loss: 0.0089 - acc: 0.9989 - val_loss: 0.1907 - val_acc: 0.9827\n",
      "Epoch 169/200\n",
      "50000/50000 [==============================] - 1s 15us/step - loss: 0.0054 - acc: 0.9995 - val_loss: 0.2140 - val_acc: 0.9819\n",
      "Epoch 170/200\n",
      "50000/50000 [==============================] - 1s 15us/step - loss: 0.0067 - acc: 0.9994 - val_loss: 0.2012 - val_acc: 0.9818\n",
      "Epoch 171/200\n",
      "50000/50000 [==============================] - 1s 15us/step - loss: 0.0086 - acc: 0.9990 - val_loss: 0.2008 - val_acc: 0.9817\n",
      "Epoch 172/200\n",
      "50000/50000 [==============================] - 1s 15us/step - loss: 0.0054 - acc: 0.9995 - val_loss: 0.2076 - val_acc: 0.9813\n",
      "Epoch 173/200\n",
      "50000/50000 [==============================] - 1s 15us/step - loss: 0.0068 - acc: 0.9993 - val_loss: 0.2171 - val_acc: 0.9818\n",
      "Epoch 174/200\n",
      "50000/50000 [==============================] - 1s 15us/step - loss: 0.0081 - acc: 0.9992 - val_loss: 0.2254 - val_acc: 0.9805\n",
      "Epoch 175/200\n",
      "50000/50000 [==============================] - 1s 15us/step - loss: 0.0047 - acc: 0.9994 - val_loss: 0.1663 - val_acc: 0.9840\n",
      "Epoch 176/200\n"
     ]
    },
    {
     "name": "stdout",
     "output_type": "stream",
     "text": [
      "50000/50000 [==============================] - 1s 15us/step - loss: 0.0061 - acc: 0.9994 - val_loss: 0.1718 - val_acc: 0.9836\n",
      "Epoch 177/200\n",
      "50000/50000 [==============================] - 1s 15us/step - loss: 0.0046 - acc: 0.9994 - val_loss: 0.1836 - val_acc: 0.9836\n",
      "Epoch 178/200\n",
      "50000/50000 [==============================] - 1s 15us/step - loss: 0.0053 - acc: 0.9992 - val_loss: 0.2915 - val_acc: 0.9754\n",
      "Epoch 179/200\n",
      "50000/50000 [==============================] - 1s 15us/step - loss: 0.0091 - acc: 0.9989 - val_loss: 0.1856 - val_acc: 0.9827\n",
      "Epoch 180/200\n",
      "50000/50000 [==============================] - 1s 15us/step - loss: 0.0068 - acc: 0.9993 - val_loss: 0.2059 - val_acc: 0.9832\n",
      "Epoch 181/200\n",
      "50000/50000 [==============================] - 1s 15us/step - loss: 0.0084 - acc: 0.9992 - val_loss: 0.2008 - val_acc: 0.9817\n",
      "Epoch 182/200\n",
      "50000/50000 [==============================] - 1s 15us/step - loss: 0.0044 - acc: 0.9996 - val_loss: 0.2214 - val_acc: 0.9807\n",
      "Epoch 183/200\n",
      "50000/50000 [==============================] - 1s 15us/step - loss: 0.0010 - acc: 0.9999 - val_loss: 0.1894 - val_acc: 0.9838\n",
      "Epoch 184/200\n",
      "50000/50000 [==============================] - 1s 15us/step - loss: 0.0087 - acc: 0.9990 - val_loss: 0.2255 - val_acc: 0.9797\n",
      "Epoch 185/200\n",
      "50000/50000 [==============================] - 1s 15us/step - loss: 0.0086 - acc: 0.9990 - val_loss: 0.1880 - val_acc: 0.9829\n",
      "Epoch 186/200\n",
      "50000/50000 [==============================] - 1s 15us/step - loss: 0.0089 - acc: 0.9992 - val_loss: 0.2020 - val_acc: 0.9824\n",
      "Epoch 187/200\n",
      "50000/50000 [==============================] - 1s 15us/step - loss: 0.0073 - acc: 0.9991 - val_loss: 0.1880 - val_acc: 0.9826\n",
      "Epoch 188/200\n",
      "50000/50000 [==============================] - 1s 15us/step - loss: 0.0041 - acc: 0.9995 - val_loss: 0.1895 - val_acc: 0.9832\n",
      "Epoch 189/200\n",
      "50000/50000 [==============================] - 1s 15us/step - loss: 0.0061 - acc: 0.9993 - val_loss: 0.2365 - val_acc: 0.9809\n",
      "Epoch 190/200\n",
      "50000/50000 [==============================] - 1s 15us/step - loss: 0.0135 - acc: 0.9986 - val_loss: 0.2118 - val_acc: 0.9819\n",
      "Epoch 191/200\n",
      "50000/50000 [==============================] - 1s 15us/step - loss: 0.0082 - acc: 0.9990 - val_loss: 0.2409 - val_acc: 0.9790\n",
      "Epoch 192/200\n",
      "50000/50000 [==============================] - 1s 15us/step - loss: 0.0056 - acc: 0.9993 - val_loss: 0.1992 - val_acc: 0.9816\n",
      "Epoch 193/200\n",
      "50000/50000 [==============================] - 1s 15us/step - loss: 0.0063 - acc: 0.9993 - val_loss: 0.2396 - val_acc: 0.9805\n",
      "Epoch 194/200\n",
      "50000/50000 [==============================] - 1s 15us/step - loss: 0.0089 - acc: 0.9991 - val_loss: 0.2005 - val_acc: 0.9822\n",
      "Epoch 195/200\n",
      "50000/50000 [==============================] - 1s 15us/step - loss: 0.0059 - acc: 0.9994 - val_loss: 0.2097 - val_acc: 0.9816\n",
      "Epoch 196/200\n",
      "50000/50000 [==============================] - 1s 15us/step - loss: 0.0069 - acc: 0.9993 - val_loss: 0.1942 - val_acc: 0.9827\n",
      "Epoch 197/200\n",
      "50000/50000 [==============================] - 1s 15us/step - loss: 0.0059 - acc: 0.9993 - val_loss: 0.2317 - val_acc: 0.9802\n",
      "Epoch 198/200\n",
      "50000/50000 [==============================] - 1s 15us/step - loss: 0.0046 - acc: 0.9995 - val_loss: 0.2028 - val_acc: 0.9832\n",
      "Epoch 199/200\n",
      "50000/50000 [==============================] - 1s 15us/step - loss: 0.0039 - acc: 0.9995 - val_loss: 0.1913 - val_acc: 0.9828\n",
      "Epoch 200/200\n",
      "50000/50000 [==============================] - 1s 15us/step - loss: 0.0048 - acc: 0.9995 - val_loss: 0.2188 - val_acc: 0.9827\n"
     ]
    }
   ],
   "source": [
    "## Fit initial test\n",
    "history = network.fit(train_images, train_labels, epochs=200, batch_size=512, validation_split=1/6)"
   ]
  },
  {
   "cell_type": "code",
   "execution_count": 6,
   "metadata": {},
   "outputs": [
    {
     "name": "stdout",
     "output_type": "stream",
     "text": [
      "10000/10000 [==============================] - 1s 53us/step\n",
      "test_acc:  0.9835\n"
     ]
    }
   ],
   "source": [
    "test_loss, test_acc = network.evaluate(test_images, test_labels)\n",
    "print('test_acc: ', test_acc)"
   ]
  },
  {
   "cell_type": "code",
   "execution_count": 7,
   "metadata": {},
   "outputs": [
    {
     "data": {
      "text/plain": [
       "dict_keys(['val_loss', 'val_acc', 'loss', 'acc'])"
      ]
     },
     "execution_count": 7,
     "metadata": {},
     "output_type": "execute_result"
    }
   ],
   "source": [
    "history_dict = history.history\n",
    "history_dict.keys()"
   ]
  },
  {
   "cell_type": "code",
   "execution_count": 25,
   "metadata": {},
   "outputs": [
    {
     "data": {
      "image/png": "[encoded data removed]",
      "text/plain": [
       "<matplotlib.figure.Figure at 0x7fd8cc2e4b00>"
      ]
     },
     "metadata": {},
     "output_type": "display_data"
    }
   ],
   "source": [
    "# I initially plotted the validation set accuracy/loss against the training accuracy/loss to \n",
    "# see the comparison but I have removed the training loss\n",
    "import matplotlib.pyplot as plt\n",
    "% matplotlib inline\n",
    "\n",
    "# loss_values = history_dict['loss']\n",
    "val_loss_values = history_dict['val_loss']\n",
    "\n",
    "epochs = np.arange(1, len(val_loss_values) + 1)\n",
    "\n",
    "# plt.plot(epochs, loss_values, 'bo', label='Training loss')\n",
    "plt.plot(epochs, val_loss_values, label='Validation loss')\n",
    "plt.title('Validation Set Loss by Epoch')\n",
    "plt.xlabel('Epochs')\n",
    "plt.ylabel('Validation Loss')\n",
    "plt.legend()\n",
    "\n",
    "plt.show()"
   ]
  },
  {
   "cell_type": "code",
   "execution_count": 9,
   "metadata": {},
   "outputs": [
    {
     "data": {
      "image/png": "[encoded data removed]",
      "text/plain": [
       "<matplotlib.figure.Figure at 0x7fd928345710>"
      ]
     },
     "metadata": {},
     "output_type": "display_data"
    }
   ],
   "source": [
    "#acc_values = history_dict['acc']\n",
    "val_acc_values = history_dict['val_acc']\n",
    "\n",
    "#plt.plot(epochs, acc_values, 'bo', label='Training accuracy')\n",
    "plt.plot(epochs, val_acc_values, label='Validation accuracy')\n",
    "plt.title('Validation Set Accuracy by Epoch')\n",
    "plt.xlabel('Epochs')\n",
    "plt.ylabel('Validation Accuracy')\n",
    "plt.legend()\n",
    "\n",
    "plt.show()"
   ]
  },
  {
   "cell_type": "code",
   "execution_count": 18,
   "metadata": {},
   "outputs": [
    {
     "data": {
      "text/plain": [
       "7"
      ]
     },
     "execution_count": 18,
     "metadata": {},
     "output_type": "execute_result"
    }
   ],
   "source": [
    "# Identify the epoch where the model's performance degrades based on the validation set.\n",
    "number_epochs =  np.argmin(val_loss_values) + 1\n",
    "number_epochs"
   ]
  },
  {
   "cell_type": "code",
   "execution_count": 19,
   "metadata": {},
   "outputs": [
    {
     "data": {
      "text/plain": [
       "0.08451817724704742"
      ]
     },
     "execution_count": 19,
     "metadata": {},
     "output_type": "execute_result"
    }
   ],
   "source": [
    "min(val_loss_values)"
   ]
  },
  {
   "cell_type": "code",
   "execution_count": 20,
   "metadata": {},
   "outputs": [
    {
     "data": {
      "text/plain": [
       "139"
      ]
     },
     "execution_count": 20,
     "metadata": {},
     "output_type": "execute_result"
    }
   ],
   "source": [
    "number_epochs2 =  np.argmax(val_acc_values) + 1\n",
    "number_epochs2"
   ]
  },
  {
   "cell_type": "code",
   "execution_count": 21,
   "metadata": {},
   "outputs": [
    {
     "data": {
      "text/plain": [
       "0.9839999996185302"
      ]
     },
     "execution_count": 21,
     "metadata": {},
     "output_type": "execute_result"
    }
   ],
   "source": [
    "max(val_acc_values)"
   ]
  },
  {
   "cell_type": "markdown",
   "metadata": {},
   "source": [
    "The validation set quickly hits a low error rate and high accuracy rate of about 0.98 after around 10 epochs. Upon further inpection, the lowest loss rate is at 7 epochs (error rate of 0.08). The loss rate increases steadily after that, though the accuracy stays around the same with noise. This is because we are overfitting the data. I think the model's performance degrades around 20-25 epochs, because that is when the validation accuracy looks to steady in the graph."
   ]
  },
  {
   "cell_type": "markdown",
   "metadata": {},
   "source": [
    "### ii. Implement dropout"
   ]
  },
  {
   "cell_type": "code",
   "execution_count": 22,
   "metadata": {},
   "outputs": [],
   "source": [
    "dropout_network = models.Sequential()\n",
    "dropout_network.add(layers.Dense(512, activation='relu', input_shape=(28 * 28,)))\n",
    "dropout_network.add(layers.Dropout(0.5))\n",
    "dropout_network.add(layers.Dense(512, activation='relu'))\n",
    "dropout_network.add(layers.Dropout(0.5))\n",
    "dropout_network.add(layers.Dense(512, activation='relu'))\n",
    "dropout_network.add(layers.Dropout(0.5))\n",
    "dropout_network.add(layers.Dense(512, activation='relu'))\n",
    "dropout_network.add(layers.Dropout(0.5))\n",
    "dropout_network.add(layers.Dense(10, activation='softmax'))\n",
    "dropout_network.compile(optimizer='rmsprop', loss='categorical_crossentropy', metrics=['acc'])"
   ]
  },
  {
   "cell_type": "code",
   "execution_count": 23,
   "metadata": {},
   "outputs": [
    {
     "name": "stdout",
     "output_type": "stream",
     "text": [
      "Train on 50000 samples, validate on 10000 samples\n",
      "Epoch 1/200\n",
      "50000/50000 [==============================] - 1s 26us/step - loss: 0.7437 - acc: 0.7563 - val_loss: 0.1939 - val_acc: 0.9424\n",
      "Epoch 2/200\n",
      "50000/50000 [==============================] - 1s 18us/step - loss: 0.2782 - acc: 0.9196 - val_loss: 0.1406 - val_acc: 0.9594\n",
      "Epoch 3/200\n",
      "50000/50000 [==============================] - 1s 17us/step - loss: 0.2020 - acc: 0.9424 - val_loss: 0.1161 - val_acc: 0.9672\n",
      "Epoch 4/200\n",
      "50000/50000 [==============================] - 1s 17us/step - loss: 0.1669 - acc: 0.9523 - val_loss: 0.1227 - val_acc: 0.9684\n",
      "Epoch 5/200\n",
      "50000/50000 [==============================] - 1s 17us/step - loss: 0.1416 - acc: 0.9594 - val_loss: 0.0917 - val_acc: 0.9751\n",
      "Epoch 6/200\n",
      "50000/50000 [==============================] - 1s 17us/step - loss: 0.1279 - acc: 0.9641 - val_loss: 0.0889 - val_acc: 0.9764\n",
      "Epoch 7/200\n",
      "50000/50000 [==============================] - 1s 17us/step - loss: 0.1165 - acc: 0.9668 - val_loss: 0.0931 - val_acc: 0.9752\n",
      "Epoch 8/200\n",
      "50000/50000 [==============================] - 1s 17us/step - loss: 0.1028 - acc: 0.9705 - val_loss: 0.0874 - val_acc: 0.9773\n",
      "Epoch 9/200\n",
      "50000/50000 [==============================] - 1s 17us/step - loss: 0.0996 - acc: 0.9729 - val_loss: 0.0884 - val_acc: 0.9776\n",
      "Epoch 10/200\n",
      "50000/50000 [==============================] - 1s 17us/step - loss: 0.0973 - acc: 0.9732 - val_loss: 0.0806 - val_acc: 0.9807\n",
      "Epoch 11/200\n",
      "50000/50000 [==============================] - 1s 17us/step - loss: 0.0886 - acc: 0.9753 - val_loss: 0.0797 - val_acc: 0.9793\n",
      "Epoch 12/200\n",
      "50000/50000 [==============================] - 1s 17us/step - loss: 0.0832 - acc: 0.9761 - val_loss: 0.0914 - val_acc: 0.9785\n",
      "Epoch 13/200\n",
      "50000/50000 [==============================] - 1s 17us/step - loss: 0.0835 - acc: 0.9764 - val_loss: 0.0831 - val_acc: 0.9792\n",
      "Epoch 14/200\n",
      "50000/50000 [==============================] - 1s 17us/step - loss: 0.0774 - acc: 0.9785 - val_loss: 0.0833 - val_acc: 0.9787\n",
      "Epoch 15/200\n",
      "50000/50000 [==============================] - 1s 17us/step - loss: 0.0776 - acc: 0.9794 - val_loss: 0.0882 - val_acc: 0.9792\n",
      "Epoch 16/200\n",
      "50000/50000 [==============================] - 1s 17us/step - loss: 0.0722 - acc: 0.9806 - val_loss: 0.0815 - val_acc: 0.9816\n",
      "Epoch 17/200\n",
      "50000/50000 [==============================] - 1s 17us/step - loss: 0.0705 - acc: 0.9816 - val_loss: 0.0800 - val_acc: 0.9807\n",
      "Epoch 18/200\n",
      "50000/50000 [==============================] - 1s 17us/step - loss: 0.0669 - acc: 0.9819 - val_loss: 0.0834 - val_acc: 0.9812\n",
      "Epoch 19/200\n",
      "50000/50000 [==============================] - 1s 17us/step - loss: 0.0674 - acc: 0.9814 - val_loss: 0.0818 - val_acc: 0.9815\n",
      "Epoch 20/200\n",
      "50000/50000 [==============================] - 1s 17us/step - loss: 0.0663 - acc: 0.9827 - val_loss: 0.0789 - val_acc: 0.9828\n",
      "Epoch 21/200\n",
      "50000/50000 [==============================] - 1s 17us/step - loss: 0.0626 - acc: 0.9832 - val_loss: 0.0856 - val_acc: 0.9808\n",
      "Epoch 22/200\n",
      "50000/50000 [==============================] - 1s 17us/step - loss: 0.0662 - acc: 0.9831 - val_loss: 0.0776 - val_acc: 0.9826\n",
      "Epoch 23/200\n",
      "50000/50000 [==============================] - 1s 17us/step - loss: 0.0624 - acc: 0.9836 - val_loss: 0.0828 - val_acc: 0.9826\n",
      "Epoch 24/200\n",
      "50000/50000 [==============================] - 1s 17us/step - loss: 0.0586 - acc: 0.9841 - val_loss: 0.0877 - val_acc: 0.9829\n",
      "Epoch 25/200\n",
      "50000/50000 [==============================] - 1s 17us/step - loss: 0.0594 - acc: 0.9850 - val_loss: 0.0871 - val_acc: 0.9823\n",
      "Epoch 26/200\n",
      "50000/50000 [==============================] - 1s 17us/step - loss: 0.0595 - acc: 0.9852 - val_loss: 0.0781 - val_acc: 0.9836\n",
      "Epoch 27/200\n",
      "50000/50000 [==============================] - 1s 17us/step - loss: 0.0591 - acc: 0.9845 - val_loss: 0.0860 - val_acc: 0.9817\n",
      "Epoch 28/200\n",
      "50000/50000 [==============================] - 1s 17us/step - loss: 0.0609 - acc: 0.9849 - val_loss: 0.0881 - val_acc: 0.9814\n",
      "Epoch 29/200\n",
      "50000/50000 [==============================] - 1s 17us/step - loss: 0.0579 - acc: 0.9853 - val_loss: 0.0842 - val_acc: 0.9827\n",
      "Epoch 30/200\n",
      "50000/50000 [==============================] - 1s 17us/step - loss: 0.0569 - acc: 0.9859 - val_loss: 0.0912 - val_acc: 0.9806\n",
      "Epoch 31/200\n",
      "50000/50000 [==============================] - 1s 17us/step - loss: 0.0592 - acc: 0.9851 - val_loss: 0.0924 - val_acc: 0.9818\n",
      "Epoch 32/200\n",
      "50000/50000 [==============================] - 1s 17us/step - loss: 0.0548 - acc: 0.9863 - val_loss: 0.0882 - val_acc: 0.9834\n",
      "Epoch 33/200\n",
      "50000/50000 [==============================] - 1s 17us/step - loss: 0.0519 - acc: 0.9870 - val_loss: 0.0861 - val_acc: 0.9843\n",
      "Epoch 34/200\n",
      "50000/50000 [==============================] - 1s 17us/step - loss: 0.0545 - acc: 0.9868 - val_loss: 0.0801 - val_acc: 0.9835\n",
      "Epoch 35/200\n",
      "50000/50000 [==============================] - 1s 17us/step - loss: 0.0535 - acc: 0.9869 - val_loss: 0.0971 - val_acc: 0.9824\n",
      "Epoch 36/200\n",
      "50000/50000 [==============================] - 1s 17us/step - loss: 0.0564 - acc: 0.9867 - val_loss: 0.0883 - val_acc: 0.9829\n",
      "Epoch 37/200\n",
      "50000/50000 [==============================] - 1s 17us/step - loss: 0.0525 - acc: 0.9869 - val_loss: 0.0994 - val_acc: 0.9818\n",
      "Epoch 38/200\n",
      "50000/50000 [==============================] - 1s 17us/step - loss: 0.0501 - acc: 0.9875 - val_loss: 0.1018 - val_acc: 0.9829\n",
      "Epoch 39/200\n",
      "50000/50000 [==============================] - 1s 17us/step - loss: 0.0522 - acc: 0.9877 - val_loss: 0.0885 - val_acc: 0.9833\n",
      "Epoch 40/200\n",
      "50000/50000 [==============================] - 1s 17us/step - loss: 0.0561 - acc: 0.9870 - val_loss: 0.0887 - val_acc: 0.9823\n",
      "Epoch 41/200\n",
      "50000/50000 [==============================] - 1s 17us/step - loss: 0.0500 - acc: 0.9878 - val_loss: 0.0921 - val_acc: 0.9831\n",
      "Epoch 42/200\n",
      "50000/50000 [==============================] - 1s 17us/step - loss: 0.0512 - acc: 0.9878 - val_loss: 0.0895 - val_acc: 0.9820\n",
      "Epoch 43/200\n",
      "50000/50000 [==============================] - 1s 17us/step - loss: 0.0523 - acc: 0.9880 - val_loss: 0.0859 - val_acc: 0.9816\n",
      "Epoch 44/200\n",
      "50000/50000 [==============================] - 1s 17us/step - loss: 0.0484 - acc: 0.9884 - val_loss: 0.0890 - val_acc: 0.9833\n",
      "Epoch 45/200\n",
      "50000/50000 [==============================] - 1s 17us/step - loss: 0.0536 - acc: 0.9879 - val_loss: 0.0866 - val_acc: 0.9822\n",
      "Epoch 46/200\n",
      "50000/50000 [==============================] - 1s 17us/step - loss: 0.0473 - acc: 0.9890 - val_loss: 0.1000 - val_acc: 0.9817\n",
      "Epoch 47/200\n",
      "50000/50000 [==============================] - 1s 17us/step - loss: 0.0498 - acc: 0.9893 - val_loss: 0.0988 - val_acc: 0.9823\n",
      "Epoch 48/200\n",
      "50000/50000 [==============================] - 1s 17us/step - loss: 0.0507 - acc: 0.9888 - val_loss: 0.0964 - val_acc: 0.9822\n",
      "Epoch 49/200\n",
      "50000/50000 [==============================] - 1s 17us/step - loss: 0.0529 - acc: 0.9881 - val_loss: 0.0984 - val_acc: 0.9830\n",
      "Epoch 50/200\n",
      "50000/50000 [==============================] - 1s 17us/step - loss: 0.0515 - acc: 0.9890 - val_loss: 0.0985 - val_acc: 0.9827\n",
      "Epoch 51/200\n",
      "50000/50000 [==============================] - 1s 17us/step - loss: 0.0484 - acc: 0.9888 - val_loss: 0.0921 - val_acc: 0.9836\n",
      "Epoch 52/200\n",
      "50000/50000 [==============================] - 1s 17us/step - loss: 0.0540 - acc: 0.9889 - val_loss: 0.0957 - val_acc: 0.9821\n",
      "Epoch 53/200\n",
      "50000/50000 [==============================] - 1s 17us/step - loss: 0.0521 - acc: 0.9883 - val_loss: 0.1083 - val_acc: 0.9811\n",
      "Epoch 54/200\n",
      "50000/50000 [==============================] - 1s 17us/step - loss: 0.0513 - acc: 0.9886 - val_loss: 0.0946 - val_acc: 0.9824\n",
      "Epoch 55/200\n",
      "50000/50000 [==============================] - 1s 17us/step - loss: 0.0451 - acc: 0.9896 - val_loss: 0.0855 - val_acc: 0.9837\n",
      "Epoch 56/200\n",
      "50000/50000 [==============================] - 1s 17us/step - loss: 0.0474 - acc: 0.9902 - val_loss: 0.0996 - val_acc: 0.9820\n",
      "Epoch 57/200\n",
      "50000/50000 [==============================] - 1s 17us/step - loss: 0.0474 - acc: 0.9894 - val_loss: 0.0967 - val_acc: 0.9836\n",
      "Epoch 58/200\n",
      "50000/50000 [==============================] - 1s 17us/step - loss: 0.0492 - acc: 0.9897 - val_loss: 0.0931 - val_acc: 0.9840\n",
      "Epoch 59/200\n"
     ]
    },
    {
     "name": "stdout",
     "output_type": "stream",
     "text": [
      "50000/50000 [==============================] - 1s 17us/step - loss: 0.0493 - acc: 0.9891 - val_loss: 0.0930 - val_acc: 0.9847\n",
      "Epoch 60/200\n",
      "50000/50000 [==============================] - 1s 17us/step - loss: 0.0518 - acc: 0.9893 - val_loss: 0.0907 - val_acc: 0.9833\n",
      "Epoch 61/200\n",
      "50000/50000 [==============================] - 1s 17us/step - loss: 0.0530 - acc: 0.9897 - val_loss: 0.1031 - val_acc: 0.9815\n",
      "Epoch 62/200\n",
      "50000/50000 [==============================] - 1s 17us/step - loss: 0.0483 - acc: 0.9896 - val_loss: 0.1061 - val_acc: 0.9818\n",
      "Epoch 63/200\n",
      "50000/50000 [==============================] - 1s 17us/step - loss: 0.0501 - acc: 0.9899 - val_loss: 0.0947 - val_acc: 0.9837\n",
      "Epoch 64/200\n",
      "50000/50000 [==============================] - 1s 17us/step - loss: 0.0496 - acc: 0.9897 - val_loss: 0.1108 - val_acc: 0.9815\n",
      "Epoch 65/200\n",
      "50000/50000 [==============================] - 1s 17us/step - loss: 0.0516 - acc: 0.9892 - val_loss: 0.1021 - val_acc: 0.9822\n",
      "Epoch 66/200\n",
      "50000/50000 [==============================] - 1s 17us/step - loss: 0.0515 - acc: 0.9894 - val_loss: 0.1016 - val_acc: 0.9815\n",
      "Epoch 67/200\n",
      "50000/50000 [==============================] - 1s 17us/step - loss: 0.0509 - acc: 0.9895 - val_loss: 0.0975 - val_acc: 0.9825\n",
      "Epoch 68/200\n",
      "50000/50000 [==============================] - 1s 17us/step - loss: 0.0482 - acc: 0.9897 - val_loss: 0.0994 - val_acc: 0.9819\n",
      "Epoch 69/200\n",
      "50000/50000 [==============================] - 1s 17us/step - loss: 0.0506 - acc: 0.9901 - val_loss: 0.0899 - val_acc: 0.9815\n",
      "Epoch 70/200\n",
      "50000/50000 [==============================] - 1s 17us/step - loss: 0.0531 - acc: 0.9898 - val_loss: 0.1024 - val_acc: 0.9818\n",
      "Epoch 71/200\n",
      "50000/50000 [==============================] - 1s 17us/step - loss: 0.0516 - acc: 0.9897 - val_loss: 0.1028 - val_acc: 0.9814\n",
      "Epoch 72/200\n",
      "50000/50000 [==============================] - 1s 17us/step - loss: 0.0480 - acc: 0.9902 - val_loss: 0.1008 - val_acc: 0.9828\n",
      "Epoch 73/200\n",
      "50000/50000 [==============================] - 1s 17us/step - loss: 0.0478 - acc: 0.9903 - val_loss: 0.1000 - val_acc: 0.9841\n",
      "Epoch 74/200\n",
      "50000/50000 [==============================] - 1s 17us/step - loss: 0.0475 - acc: 0.9900 - val_loss: 0.1057 - val_acc: 0.9839\n",
      "Epoch 75/200\n",
      "50000/50000 [==============================] - 1s 17us/step - loss: 0.0487 - acc: 0.9909 - val_loss: 0.1086 - val_acc: 0.9836\n",
      "Epoch 76/200\n",
      "50000/50000 [==============================] - 1s 17us/step - loss: 0.0538 - acc: 0.9901 - val_loss: 0.1073 - val_acc: 0.9807\n",
      "Epoch 77/200\n",
      "50000/50000 [==============================] - 1s 17us/step - loss: 0.0479 - acc: 0.9904 - val_loss: 0.1085 - val_acc: 0.9830\n",
      "Epoch 78/200\n",
      "50000/50000 [==============================] - 1s 17us/step - loss: 0.0500 - acc: 0.9905 - val_loss: 0.1092 - val_acc: 0.9832\n",
      "Epoch 79/200\n",
      "50000/50000 [==============================] - 1s 17us/step - loss: 0.0485 - acc: 0.9910 - val_loss: 0.1089 - val_acc: 0.9835\n",
      "Epoch 80/200\n",
      "50000/50000 [==============================] - 1s 17us/step - loss: 0.0459 - acc: 0.9912 - val_loss: 0.1061 - val_acc: 0.9846\n",
      "Epoch 81/200\n",
      "50000/50000 [==============================] - 1s 17us/step - loss: 0.0535 - acc: 0.9909 - val_loss: 0.1109 - val_acc: 0.9840\n",
      "Epoch 82/200\n",
      "50000/50000 [==============================] - 1s 17us/step - loss: 0.0562 - acc: 0.9906 - val_loss: 0.1022 - val_acc: 0.9832\n",
      "Epoch 83/200\n",
      "50000/50000 [==============================] - 1s 17us/step - loss: 0.0527 - acc: 0.9911 - val_loss: 0.1087 - val_acc: 0.9839\n",
      "Epoch 84/200\n",
      "50000/50000 [==============================] - 1s 17us/step - loss: 0.0538 - acc: 0.9907 - val_loss: 0.1188 - val_acc: 0.9827\n",
      "Epoch 85/200\n",
      "50000/50000 [==============================] - 1s 17us/step - loss: 0.0514 - acc: 0.9909 - val_loss: 0.1137 - val_acc: 0.9824\n",
      "Epoch 86/200\n",
      "50000/50000 [==============================] - 1s 17us/step - loss: 0.0512 - acc: 0.9908 - val_loss: 0.1177 - val_acc: 0.9824\n",
      "Epoch 87/200\n",
      "50000/50000 [==============================] - 1s 17us/step - loss: 0.0499 - acc: 0.9913 - val_loss: 0.1082 - val_acc: 0.9824\n",
      "Epoch 88/200\n",
      "50000/50000 [==============================] - 1s 17us/step - loss: 0.0474 - acc: 0.9913 - val_loss: 0.1112 - val_acc: 0.9837\n",
      "Epoch 89/200\n",
      "50000/50000 [==============================] - 1s 17us/step - loss: 0.0520 - acc: 0.9907 - val_loss: 0.1039 - val_acc: 0.9838\n",
      "Epoch 90/200\n",
      "50000/50000 [==============================] - 1s 17us/step - loss: 0.0524 - acc: 0.9909 - val_loss: 0.1126 - val_acc: 0.9834\n",
      "Epoch 91/200\n",
      "50000/50000 [==============================] - 1s 17us/step - loss: 0.0524 - acc: 0.9910 - val_loss: 0.1113 - val_acc: 0.9837\n",
      "Epoch 92/200\n",
      "50000/50000 [==============================] - 1s 17us/step - loss: 0.0507 - acc: 0.9911 - val_loss: 0.1143 - val_acc: 0.9840\n",
      "Epoch 93/200\n",
      "50000/50000 [==============================] - 1s 17us/step - loss: 0.0525 - acc: 0.9906 - val_loss: 0.1124 - val_acc: 0.9831\n",
      "Epoch 94/200\n",
      "50000/50000 [==============================] - 1s 17us/step - loss: 0.0493 - acc: 0.9919 - val_loss: 0.1187 - val_acc: 0.9839\n",
      "Epoch 95/200\n",
      "50000/50000 [==============================] - 1s 17us/step - loss: 0.0570 - acc: 0.9912 - val_loss: 0.1089 - val_acc: 0.9849\n",
      "Epoch 96/200\n",
      "50000/50000 [==============================] - 1s 17us/step - loss: 0.0499 - acc: 0.9918 - val_loss: 0.1169 - val_acc: 0.9845\n",
      "Epoch 97/200\n",
      "50000/50000 [==============================] - 1s 17us/step - loss: 0.0545 - acc: 0.9904 - val_loss: 0.1220 - val_acc: 0.9837\n",
      "Epoch 98/200\n",
      "50000/50000 [==============================] - 1s 17us/step - loss: 0.0524 - acc: 0.9919 - val_loss: 0.1276 - val_acc: 0.9834\n",
      "Epoch 99/200\n",
      "50000/50000 [==============================] - 1s 17us/step - loss: 0.0558 - acc: 0.9913 - val_loss: 0.1243 - val_acc: 0.9834\n",
      "Epoch 100/200\n",
      "50000/50000 [==============================] - 1s 17us/step - loss: 0.0556 - acc: 0.9909 - val_loss: 0.1193 - val_acc: 0.9837\n",
      "Epoch 101/200\n",
      "50000/50000 [==============================] - 1s 17us/step - loss: 0.0537 - acc: 0.9907 - val_loss: 0.1214 - val_acc: 0.9848\n",
      "Epoch 102/200\n",
      "50000/50000 [==============================] - 1s 17us/step - loss: 0.0548 - acc: 0.9912 - val_loss: 0.1268 - val_acc: 0.9822\n",
      "Epoch 103/200\n",
      "50000/50000 [==============================] - 1s 17us/step - loss: 0.0625 - acc: 0.9898 - val_loss: 0.1241 - val_acc: 0.9821\n",
      "Epoch 104/200\n",
      "50000/50000 [==============================] - 1s 17us/step - loss: 0.0541 - acc: 0.9919 - val_loss: 0.1180 - val_acc: 0.9831\n",
      "Epoch 105/200\n",
      "50000/50000 [==============================] - 1s 17us/step - loss: 0.0582 - acc: 0.9902 - val_loss: 0.1225 - val_acc: 0.9833\n",
      "Epoch 106/200\n",
      "50000/50000 [==============================] - 1s 17us/step - loss: 0.0519 - acc: 0.9917 - val_loss: 0.1145 - val_acc: 0.9840\n",
      "Epoch 107/200\n",
      "50000/50000 [==============================] - 1s 17us/step - loss: 0.0511 - acc: 0.9911 - val_loss: 0.1250 - val_acc: 0.9827\n",
      "Epoch 108/200\n",
      "50000/50000 [==============================] - 1s 17us/step - loss: 0.0539 - acc: 0.9913 - val_loss: 0.1342 - val_acc: 0.9818\n",
      "Epoch 109/200\n",
      "50000/50000 [==============================] - 1s 17us/step - loss: 0.0525 - acc: 0.9911 - val_loss: 0.1192 - val_acc: 0.9831\n",
      "Epoch 110/200\n",
      "50000/50000 [==============================] - 1s 17us/step - loss: 0.0546 - acc: 0.9917 - val_loss: 0.1231 - val_acc: 0.9840\n",
      "Epoch 111/200\n",
      "50000/50000 [==============================] - 1s 17us/step - loss: 0.0521 - acc: 0.9914 - val_loss: 0.1369 - val_acc: 0.9813\n",
      "Epoch 112/200\n",
      "50000/50000 [==============================] - 1s 17us/step - loss: 0.0572 - acc: 0.9914 - val_loss: 0.1136 - val_acc: 0.9835\n",
      "Epoch 113/200\n",
      "50000/50000 [==============================] - 1s 17us/step - loss: 0.0601 - acc: 0.9905 - val_loss: 0.1239 - val_acc: 0.9830\n",
      "Epoch 114/200\n",
      "50000/50000 [==============================] - 1s 17us/step - loss: 0.0521 - acc: 0.9917 - val_loss: 0.1400 - val_acc: 0.9813\n",
      "Epoch 115/200\n",
      "50000/50000 [==============================] - 1s 17us/step - loss: 0.0548 - acc: 0.9918 - val_loss: 0.1367 - val_acc: 0.9839\n",
      "Epoch 116/200\n",
      "50000/50000 [==============================] - 1s 17us/step - loss: 0.0575 - acc: 0.9912 - val_loss: 0.1278 - val_acc: 0.9821\n",
      "Epoch 117/200\n",
      "50000/50000 [==============================] - 1s 17us/step - loss: 0.0537 - acc: 0.9921 - val_loss: 0.1331 - val_acc: 0.9830\n"
     ]
    },
    {
     "name": "stdout",
     "output_type": "stream",
     "text": [
      "Epoch 118/200\n",
      "50000/50000 [==============================] - 1s 17us/step - loss: 0.0614 - acc: 0.9909 - val_loss: 0.1263 - val_acc: 0.9846\n",
      "Epoch 119/200\n",
      "50000/50000 [==============================] - 1s 17us/step - loss: 0.0568 - acc: 0.9919 - val_loss: 0.1379 - val_acc: 0.9832\n",
      "Epoch 120/200\n",
      "50000/50000 [==============================] - 1s 17us/step - loss: 0.0639 - acc: 0.9910 - val_loss: 0.1220 - val_acc: 0.9839\n",
      "Epoch 121/200\n",
      "50000/50000 [==============================] - 1s 17us/step - loss: 0.0585 - acc: 0.9909 - val_loss: 0.1337 - val_acc: 0.9824\n",
      "Epoch 122/200\n",
      "50000/50000 [==============================] - 1s 17us/step - loss: 0.0551 - acc: 0.9916 - val_loss: 0.1301 - val_acc: 0.9821\n",
      "Epoch 123/200\n",
      "50000/50000 [==============================] - 1s 17us/step - loss: 0.0577 - acc: 0.9916 - val_loss: 0.1314 - val_acc: 0.9827\n",
      "Epoch 124/200\n",
      "50000/50000 [==============================] - 1s 17us/step - loss: 0.0585 - acc: 0.9923 - val_loss: 0.1362 - val_acc: 0.9833\n",
      "Epoch 125/200\n",
      "50000/50000 [==============================] - 1s 17us/step - loss: 0.0610 - acc: 0.9906 - val_loss: 0.1347 - val_acc: 0.9828\n",
      "Epoch 126/200\n",
      "50000/50000 [==============================] - 1s 17us/step - loss: 0.0650 - acc: 0.9906 - val_loss: 0.1316 - val_acc: 0.9835\n",
      "Epoch 127/200\n",
      "50000/50000 [==============================] - 1s 17us/step - loss: 0.0562 - acc: 0.9918 - val_loss: 0.1267 - val_acc: 0.9827\n",
      "Epoch 128/200\n",
      "50000/50000 [==============================] - 1s 17us/step - loss: 0.0585 - acc: 0.9916 - val_loss: 0.1381 - val_acc: 0.9831\n",
      "Epoch 129/200\n",
      "50000/50000 [==============================] - 1s 17us/step - loss: 0.0626 - acc: 0.9914 - val_loss: 0.1341 - val_acc: 0.9836\n",
      "Epoch 130/200\n",
      "50000/50000 [==============================] - 1s 17us/step - loss: 0.0648 - acc: 0.9914 - val_loss: 0.1382 - val_acc: 0.9801\n",
      "Epoch 131/200\n",
      "50000/50000 [==============================] - 1s 17us/step - loss: 0.0608 - acc: 0.9912 - val_loss: 0.1304 - val_acc: 0.9839\n",
      "Epoch 132/200\n",
      "50000/50000 [==============================] - 1s 17us/step - loss: 0.0530 - acc: 0.9928 - val_loss: 0.1357 - val_acc: 0.9836\n",
      "Epoch 133/200\n",
      "50000/50000 [==============================] - 1s 17us/step - loss: 0.0604 - acc: 0.9919 - val_loss: 0.1488 - val_acc: 0.9828\n",
      "Epoch 134/200\n",
      "50000/50000 [==============================] - 1s 17us/step - loss: 0.0653 - acc: 0.9910 - val_loss: 0.1338 - val_acc: 0.9828\n",
      "Epoch 135/200\n",
      "50000/50000 [==============================] - 1s 17us/step - loss: 0.0588 - acc: 0.9920 - val_loss: 0.1374 - val_acc: 0.9831\n",
      "Epoch 136/200\n",
      "50000/50000 [==============================] - 1s 17us/step - loss: 0.0621 - acc: 0.9919 - val_loss: 0.1418 - val_acc: 0.9841\n",
      "Epoch 137/200\n",
      "50000/50000 [==============================] - 1s 17us/step - loss: 0.0550 - acc: 0.9919 - val_loss: 0.1412 - val_acc: 0.9837\n",
      "Epoch 138/200\n",
      "50000/50000 [==============================] - 1s 17us/step - loss: 0.0637 - acc: 0.9915 - val_loss: 0.1406 - val_acc: 0.9842\n",
      "Epoch 139/200\n",
      "50000/50000 [==============================] - 1s 17us/step - loss: 0.0611 - acc: 0.9914 - val_loss: 0.1372 - val_acc: 0.9842\n",
      "Epoch 140/200\n",
      "50000/50000 [==============================] - 1s 17us/step - loss: 0.0627 - acc: 0.9914 - val_loss: 0.1556 - val_acc: 0.9827\n",
      "Epoch 141/200\n",
      "50000/50000 [==============================] - 1s 17us/step - loss: 0.0626 - acc: 0.9916 - val_loss: 0.1463 - val_acc: 0.9835\n",
      "Epoch 142/200\n",
      "50000/50000 [==============================] - 1s 17us/step - loss: 0.0594 - acc: 0.9918 - val_loss: 0.1419 - val_acc: 0.9831\n",
      "Epoch 143/200\n",
      "50000/50000 [==============================] - 1s 17us/step - loss: 0.0620 - acc: 0.9919 - val_loss: 0.1428 - val_acc: 0.9834\n",
      "Epoch 144/200\n",
      "50000/50000 [==============================] - 1s 17us/step - loss: 0.0599 - acc: 0.9915 - val_loss: 0.1337 - val_acc: 0.9836\n",
      "Epoch 145/200\n",
      "50000/50000 [==============================] - 1s 17us/step - loss: 0.0627 - acc: 0.9919 - val_loss: 0.1445 - val_acc: 0.9831\n",
      "Epoch 146/200\n",
      "50000/50000 [==============================] - 1s 17us/step - loss: 0.0631 - acc: 0.9917 - val_loss: 0.1512 - val_acc: 0.9821\n",
      "Epoch 147/200\n",
      "50000/50000 [==============================] - 1s 17us/step - loss: 0.0582 - acc: 0.9921 - val_loss: 0.1460 - val_acc: 0.9820\n",
      "Epoch 148/200\n",
      "50000/50000 [==============================] - 1s 17us/step - loss: 0.0618 - acc: 0.9917 - val_loss: 0.1511 - val_acc: 0.9833\n",
      "Epoch 149/200\n",
      "50000/50000 [==============================] - 1s 17us/step - loss: 0.0648 - acc: 0.9912 - val_loss: 0.1533 - val_acc: 0.9829\n",
      "Epoch 150/200\n",
      "50000/50000 [==============================] - 1s 17us/step - loss: 0.0579 - acc: 0.9922 - val_loss: 0.1586 - val_acc: 0.9824\n",
      "Epoch 151/200\n",
      "50000/50000 [==============================] - 1s 17us/step - loss: 0.0608 - acc: 0.9922 - val_loss: 0.1577 - val_acc: 0.9828\n",
      "Epoch 152/200\n",
      "50000/50000 [==============================] - 1s 17us/step - loss: 0.0620 - acc: 0.9920 - val_loss: 0.1482 - val_acc: 0.9836\n",
      "Epoch 153/200\n",
      "50000/50000 [==============================] - 1s 17us/step - loss: 0.0722 - acc: 0.9915 - val_loss: 0.1650 - val_acc: 0.9831\n",
      "Epoch 154/200\n",
      "50000/50000 [==============================] - 1s 17us/step - loss: 0.0701 - acc: 0.9908 - val_loss: 0.1539 - val_acc: 0.9827\n",
      "Epoch 155/200\n",
      "50000/50000 [==============================] - 1s 17us/step - loss: 0.0609 - acc: 0.9920 - val_loss: 0.1586 - val_acc: 0.9821\n",
      "Epoch 156/200\n",
      "50000/50000 [==============================] - 1s 17us/step - loss: 0.0699 - acc: 0.9917 - val_loss: 0.1616 - val_acc: 0.9830\n",
      "Epoch 157/200\n",
      "50000/50000 [==============================] - 1s 17us/step - loss: 0.0709 - acc: 0.9911 - val_loss: 0.1544 - val_acc: 0.9830\n",
      "Epoch 158/200\n",
      "50000/50000 [==============================] - 1s 17us/step - loss: 0.0713 - acc: 0.9911 - val_loss: 0.1431 - val_acc: 0.9835\n",
      "Epoch 159/200\n",
      "50000/50000 [==============================] - 1s 17us/step - loss: 0.0681 - acc: 0.9911 - val_loss: 0.1511 - val_acc: 0.9830\n",
      "Epoch 160/200\n",
      "50000/50000 [==============================] - 1s 17us/step - loss: 0.0674 - acc: 0.9913 - val_loss: 0.1469 - val_acc: 0.9841\n",
      "Epoch 161/200\n",
      "50000/50000 [==============================] - 1s 17us/step - loss: 0.0648 - acc: 0.9919 - val_loss: 0.1484 - val_acc: 0.9826\n",
      "Epoch 162/200\n",
      "50000/50000 [==============================] - 1s 17us/step - loss: 0.0584 - acc: 0.9925 - val_loss: 0.1456 - val_acc: 0.9845\n",
      "Epoch 163/200\n",
      "50000/50000 [==============================] - 1s 17us/step - loss: 0.0669 - acc: 0.9913 - val_loss: 0.1537 - val_acc: 0.9842\n",
      "Epoch 164/200\n",
      "50000/50000 [==============================] - 1s 17us/step - loss: 0.0700 - acc: 0.9916 - val_loss: 0.1567 - val_acc: 0.9836\n",
      "Epoch 165/200\n",
      "50000/50000 [==============================] - 1s 17us/step - loss: 0.0716 - acc: 0.9917 - val_loss: 0.1631 - val_acc: 0.9834\n",
      "Epoch 166/200\n",
      "50000/50000 [==============================] - 1s 17us/step - loss: 0.0668 - acc: 0.9916 - val_loss: 0.1460 - val_acc: 0.9838\n",
      "Epoch 167/200\n",
      "50000/50000 [==============================] - 1s 17us/step - loss: 0.0690 - acc: 0.9911 - val_loss: 0.1586 - val_acc: 0.9836\n",
      "Epoch 168/200\n",
      "50000/50000 [==============================] - 1s 17us/step - loss: 0.0701 - acc: 0.9914 - val_loss: 0.1487 - val_acc: 0.9840\n",
      "Epoch 169/200\n",
      "50000/50000 [==============================] - 1s 17us/step - loss: 0.0663 - acc: 0.9925 - val_loss: 0.1596 - val_acc: 0.9835\n",
      "Epoch 170/200\n",
      "50000/50000 [==============================] - 1s 17us/step - loss: 0.0734 - acc: 0.9915 - val_loss: 0.1574 - val_acc: 0.9839\n",
      "Epoch 171/200\n",
      "50000/50000 [==============================] - 1s 17us/step - loss: 0.0804 - acc: 0.9914 - val_loss: 0.1490 - val_acc: 0.9834\n",
      "Epoch 172/200\n",
      "50000/50000 [==============================] - 1s 17us/step - loss: 0.0709 - acc: 0.9915 - val_loss: 0.1452 - val_acc: 0.9845\n",
      "Epoch 173/200\n",
      "50000/50000 [==============================] - 1s 17us/step - loss: 0.0658 - acc: 0.9918 - val_loss: 0.1603 - val_acc: 0.9841\n",
      "Epoch 174/200\n",
      "50000/50000 [==============================] - 1s 17us/step - loss: 0.0756 - acc: 0.9916 - val_loss: 0.1481 - val_acc: 0.9835\n",
      "Epoch 175/200\n",
      "50000/50000 [==============================] - 1s 17us/step - loss: 0.0742 - acc: 0.9909 - val_loss: 0.1488 - val_acc: 0.9837\n",
      "Epoch 176/200\n"
     ]
    },
    {
     "name": "stdout",
     "output_type": "stream",
     "text": [
      "50000/50000 [==============================] - 1s 17us/step - loss: 0.0705 - acc: 0.9913 - val_loss: 0.1523 - val_acc: 0.9832\n",
      "Epoch 177/200\n",
      "50000/50000 [==============================] - 1s 17us/step - loss: 0.0686 - acc: 0.9923 - val_loss: 0.1648 - val_acc: 0.9830\n",
      "Epoch 178/200\n",
      "50000/50000 [==============================] - 1s 17us/step - loss: 0.0753 - acc: 0.9913 - val_loss: 0.1571 - val_acc: 0.9820\n",
      "Epoch 179/200\n",
      "50000/50000 [==============================] - 1s 17us/step - loss: 0.0720 - acc: 0.9913 - val_loss: 0.1675 - val_acc: 0.9832\n",
      "Epoch 180/200\n",
      "50000/50000 [==============================] - 1s 17us/step - loss: 0.0643 - acc: 0.9922 - val_loss: 0.1692 - val_acc: 0.9835\n",
      "Epoch 181/200\n",
      "50000/50000 [==============================] - 1s 17us/step - loss: 0.0789 - acc: 0.9910 - val_loss: 0.1580 - val_acc: 0.9834\n",
      "Epoch 182/200\n",
      "50000/50000 [==============================] - 1s 17us/step - loss: 0.0806 - acc: 0.9905 - val_loss: 0.1578 - val_acc: 0.9834\n",
      "Epoch 183/200\n",
      "50000/50000 [==============================] - 1s 17us/step - loss: 0.0758 - acc: 0.9908 - val_loss: 0.1616 - val_acc: 0.9821\n",
      "Epoch 184/200\n",
      "50000/50000 [==============================] - 1s 17us/step - loss: 0.0711 - acc: 0.9919 - val_loss: 0.1629 - val_acc: 0.9823\n",
      "Epoch 185/200\n",
      "50000/50000 [==============================] - 1s 17us/step - loss: 0.0738 - acc: 0.9920 - val_loss: 0.1702 - val_acc: 0.9835\n",
      "Epoch 186/200\n",
      "50000/50000 [==============================] - 1s 17us/step - loss: 0.0665 - acc: 0.9920 - val_loss: 0.1757 - val_acc: 0.9834\n",
      "Epoch 187/200\n",
      "50000/50000 [==============================] - 1s 17us/step - loss: 0.0720 - acc: 0.9915 - val_loss: 0.1668 - val_acc: 0.9828\n",
      "Epoch 188/200\n",
      "50000/50000 [==============================] - 1s 17us/step - loss: 0.0726 - acc: 0.9917 - val_loss: 0.1451 - val_acc: 0.9853\n",
      "Epoch 189/200\n",
      "50000/50000 [==============================] - 1s 17us/step - loss: 0.0704 - acc: 0.9917 - val_loss: 0.1583 - val_acc: 0.9827\n",
      "Epoch 190/200\n",
      "50000/50000 [==============================] - 1s 17us/step - loss: 0.0710 - acc: 0.9912 - val_loss: 0.1524 - val_acc: 0.9835\n",
      "Epoch 191/200\n",
      "50000/50000 [==============================] - 1s 17us/step - loss: 0.0687 - acc: 0.9921 - val_loss: 0.1551 - val_acc: 0.9827\n",
      "Epoch 192/200\n",
      "50000/50000 [==============================] - 1s 17us/step - loss: 0.0761 - acc: 0.9914 - val_loss: 0.1609 - val_acc: 0.9829\n",
      "Epoch 193/200\n",
      "50000/50000 [==============================] - 1s 17us/step - loss: 0.0846 - acc: 0.9907 - val_loss: 0.1682 - val_acc: 0.9831\n",
      "Epoch 194/200\n",
      "50000/50000 [==============================] - 1s 17us/step - loss: 0.0707 - acc: 0.9921 - val_loss: 0.1632 - val_acc: 0.9845\n",
      "Epoch 195/200\n",
      "50000/50000 [==============================] - 1s 17us/step - loss: 0.0722 - acc: 0.9920 - val_loss: 0.1731 - val_acc: 0.9825\n",
      "Epoch 196/200\n",
      "50000/50000 [==============================] - 1s 17us/step - loss: 0.0856 - acc: 0.9911 - val_loss: 0.1632 - val_acc: 0.9836\n",
      "Epoch 197/200\n",
      "50000/50000 [==============================] - 1s 17us/step - loss: 0.0820 - acc: 0.9910 - val_loss: 0.1688 - val_acc: 0.9831\n",
      "Epoch 198/200\n",
      "50000/50000 [==============================] - 1s 17us/step - loss: 0.0718 - acc: 0.9920 - val_loss: 0.1843 - val_acc: 0.9821\n",
      "Epoch 199/200\n",
      "50000/50000 [==============================] - 1s 17us/step - loss: 0.0836 - acc: 0.9908 - val_loss: 0.1600 - val_acc: 0.9831\n",
      "Epoch 200/200\n",
      "50000/50000 [==============================] - 1s 17us/step - loss: 0.0772 - acc: 0.9916 - val_loss: 0.1580 - val_acc: 0.9837\n"
     ]
    }
   ],
   "source": [
    "dropout_history = dropout_network.fit(train_images, train_labels, epochs=200, batch_size=512, validation_split=1/6)"
   ]
  },
  {
   "cell_type": "code",
   "execution_count": 26,
   "metadata": {},
   "outputs": [
    {
     "name": "stdout",
     "output_type": "stream",
     "text": [
      "10000/10000 [==============================] - 1s 55us/step\n",
      "dropout_test_acc:  0.9828\n"
     ]
    }
   ],
   "source": [
    "dropout_test_loss, dropout_test_acc = dropout_network.evaluate(test_images, test_labels)\n",
    "print('dropout_test_acc: ', dropout_test_acc)"
   ]
  },
  {
   "cell_type": "code",
   "execution_count": 27,
   "metadata": {},
   "outputs": [],
   "source": [
    "dropout_history_dict = dropout_history.history"
   ]
  },
  {
   "cell_type": "code",
   "execution_count": 29,
   "metadata": {},
   "outputs": [
    {
     "data": {
      "image/png": "[encoded data removed]",
      "text/plain": [
       "<matplotlib.figure.Figure at 0x7fd8cc2c65c0>"
      ]
     },
     "metadata": {},
     "output_type": "display_data"
    }
   ],
   "source": [
    "dropout_val_loss_values = dropout_history_dict['val_loss']\n",
    "\n",
    "plt.plot(epochs, val_loss_values, label='Initial Model Validation loss')\n",
    "plt.plot(epochs, dropout_val_loss_values, label='Dropout Validation loss')\n",
    "plt.title('Validation Set Loss by Epoch (with and without Dropout)')\n",
    "plt.xlabel('Epochs')\n",
    "plt.ylabel('Validation Loss')\n",
    "plt.legend()\n",
    "\n",
    "plt.show()"
   ]
  },
  {
   "cell_type": "code",
   "execution_count": 30,
   "metadata": {},
   "outputs": [
    {
     "data": {
      "image/png": "[encoded data removed]",
      "text/plain": [
       "<matplotlib.figure.Figure at 0x7fd8cc27da20>"
      ]
     },
     "metadata": {},
     "output_type": "display_data"
    }
   ],
   "source": [
    "dropout_val_acc_values = dropout_history_dict['val_acc']\n",
    "\n",
    "plt.plot(epochs, val_acc_values, label='Initial Model Validation Accuracy')\n",
    "plt.plot(epochs, dropout_val_acc_values, label='Dropout Validation Accuracy')\n",
    "plt.title('Validation Set Accuracy by Epoch (with and without Dropout)')\n",
    "plt.xlabel('Epochs')\n",
    "plt.ylabel('Validation Accuracy')\n",
    "plt.legend()\n",
    "\n",
    "plt.show()"
   ]
  },
  {
   "cell_type": "code",
   "execution_count": null,
   "metadata": {},
   "outputs": [],
   "source": [
    "# How does this new model perform relative to the old model?"
   ]
  },
  {
   "cell_type": "code",
   "execution_count": 31,
   "metadata": {},
   "outputs": [
    {
     "data": {
      "text/plain": [
       "188"
      ]
     },
     "execution_count": 31,
     "metadata": {},
     "output_type": "execute_result"
    }
   ],
   "source": [
    "dropout_number_epochs =  np.argmax(dropout_val_acc_values) + 1\n",
    "dropout_number_epochs"
   ]
  },
  {
   "cell_type": "code",
   "execution_count": 33,
   "metadata": {},
   "outputs": [
    {
     "data": {
      "text/plain": [
       "0.9852999996185303"
      ]
     },
     "execution_count": 33,
     "metadata": {},
     "output_type": "execute_result"
    }
   ],
   "source": [
    "max(dropout_val_acc_values)"
   ]
  },
  {
   "cell_type": "markdown",
   "metadata": {},
   "source": [
    "The prediction accuracy is only a little better (0.984 vs. 0.9853), but we can see from the loss that this dropout model, which randomly chooses which nodes to drop, has improved the speed of minimizing the loss and performs much better at higher epochs. This is because the random dropouts help prevent overfitting. The error graph is particularly telling because we do not see such a high increase in error after around the 10th epoch. This model, thus, performs better at higher epochs and overall than the initial model."
   ]
  },
  {
   "cell_type": "markdown",
   "metadata": {},
   "source": [
    "### iii. Weight regularization"
   ]
  },
  {
   "cell_type": "code",
   "execution_count": 35,
   "metadata": {},
   "outputs": [],
   "source": [
    "from keras import regularizers \n",
    "\n",
    "# Do l1 regularization.\n",
    "l1_reg_network = models.Sequential()\n",
    "l1_reg_network.add(layers.Dense(512, activation='relu', input_shape=(28 * 28,), \n",
    "                kernel_regularizer=regularizers.l1(0.001)))\n",
    "l1_reg_network.add(layers.Dense(512, activation='relu', kernel_regularizer=regularizers.l1(0.001)))\n",
    "l1_reg_network.add(layers.Dense(512, activation='relu', kernel_regularizer=regularizers.l1(0.001)))\n",
    "l1_reg_network.add(layers.Dense(512, activation='relu', kernel_regularizer=regularizers.l1(0.001)))\n",
    "l1_reg_network.add(layers.Dense(10, activation='softmax'))\n",
    "l1_reg_network.compile(optimizer='rmsprop', loss='categorical_crossentropy', metrics=['acc'])"
   ]
  },
  {
   "cell_type": "code",
   "execution_count": 36,
   "metadata": {},
   "outputs": [
    {
     "name": "stdout",
     "output_type": "stream",
     "text": [
      "Train on 50000 samples, validate on 10000 samples\n",
      "Epoch 1/200\n",
      "50000/50000 [==============================] - 1s 26us/step - loss: 13.9521 - acc: 0.6677 - val_loss: 4.2777 - val_acc: 0.7388\n",
      "Epoch 2/200\n",
      "50000/50000 [==============================] - 1s 17us/step - loss: 3.1281 - acc: 0.7938 - val_loss: 2.5875 - val_acc: 0.7925\n",
      "Epoch 3/200\n",
      "50000/50000 [==============================] - 1s 16us/step - loss: 2.2041 - acc: 0.8347 - val_loss: 2.0574 - val_acc: 0.8270\n",
      "Epoch 4/200\n",
      "50000/50000 [==============================] - 1s 16us/step - loss: 1.8828 - acc: 0.8558 - val_loss: 1.8446 - val_acc: 0.8478\n",
      "Epoch 5/200\n",
      "50000/50000 [==============================] - 1s 16us/step - loss: 1.6996 - acc: 0.8719 - val_loss: 1.6307 - val_acc: 0.8780\n",
      "Epoch 6/200\n",
      "50000/50000 [==============================] - 1s 16us/step - loss: 1.5714 - acc: 0.8853 - val_loss: 1.4989 - val_acc: 0.9001\n",
      "Epoch 7/200\n",
      "50000/50000 [==============================] - 1s 16us/step - loss: 1.4736 - acc: 0.8941 - val_loss: 1.3961 - val_acc: 0.9092\n",
      "Epoch 8/200\n",
      "50000/50000 [==============================] - 1s 16us/step - loss: 1.4037 - acc: 0.9024 - val_loss: 1.3322 - val_acc: 0.9195\n",
      "Epoch 9/200\n",
      "50000/50000 [==============================] - 1s 16us/step - loss: 1.3463 - acc: 0.9090 - val_loss: 1.2763 - val_acc: 0.9278\n",
      "Epoch 10/200\n",
      "50000/50000 [==============================] - 1s 16us/step - loss: 1.2991 - acc: 0.9162 - val_loss: 1.2681 - val_acc: 0.9245\n",
      "Epoch 11/200\n",
      "50000/50000 [==============================] - 1s 16us/step - loss: 1.2641 - acc: 0.9195 - val_loss: 1.2228 - val_acc: 0.9299\n",
      "Epoch 12/200\n",
      "50000/50000 [==============================] - 1s 16us/step - loss: 1.2365 - acc: 0.9216 - val_loss: 1.1865 - val_acc: 0.9368\n",
      "Epoch 13/200\n",
      "50000/50000 [==============================] - 1s 16us/step - loss: 1.2108 - acc: 0.9262 - val_loss: 1.2114 - val_acc: 0.9236\n",
      "Epoch 14/200\n",
      "50000/50000 [==============================] - 1s 16us/step - loss: 1.1889 - acc: 0.9281 - val_loss: 1.1569 - val_acc: 0.9374\n",
      "Epoch 15/200\n",
      "50000/50000 [==============================] - 1s 16us/step - loss: 1.1700 - acc: 0.9302 - val_loss: 1.1631 - val_acc: 0.9278\n",
      "Epoch 16/200\n",
      "50000/50000 [==============================] - 1s 17us/step - loss: 1.1531 - acc: 0.9316 - val_loss: 1.1068 - val_acc: 0.9474\n",
      "Epoch 17/200\n",
      "50000/50000 [==============================] - 1s 16us/step - loss: 1.1361 - acc: 0.9334 - val_loss: 1.1026 - val_acc: 0.9449\n",
      "Epoch 18/200\n",
      "50000/50000 [==============================] - 1s 16us/step - loss: 1.1222 - acc: 0.9364 - val_loss: 1.1058 - val_acc: 0.9414\n",
      "Epoch 19/200\n",
      "50000/50000 [==============================] - 1s 16us/step - loss: 1.1134 - acc: 0.9376 - val_loss: 1.1211 - val_acc: 0.9299\n",
      "Epoch 20/200\n",
      "50000/50000 [==============================] - 1s 16us/step - loss: 1.1060 - acc: 0.9379 - val_loss: 1.0770 - val_acc: 0.9465\n",
      "Epoch 21/200\n",
      "50000/50000 [==============================] - 1s 17us/step - loss: 1.0964 - acc: 0.9387 - val_loss: 1.0611 - val_acc: 0.9479\n",
      "Epoch 22/200\n",
      "50000/50000 [==============================] - 1s 16us/step - loss: 1.0890 - acc: 0.9395 - val_loss: 1.0918 - val_acc: 0.9387\n",
      "Epoch 23/200\n",
      "50000/50000 [==============================] - 1s 16us/step - loss: 1.0818 - acc: 0.9398 - val_loss: 1.0442 - val_acc: 0.9516\n",
      "Epoch 24/200\n",
      "50000/50000 [==============================] - 1s 16us/step - loss: 1.0730 - acc: 0.9416 - val_loss: 1.0492 - val_acc: 0.9500\n",
      "Epoch 25/200\n",
      "50000/50000 [==============================] - 1s 16us/step - loss: 1.0661 - acc: 0.9434 - val_loss: 1.0596 - val_acc: 0.9446\n",
      "Epoch 26/200\n",
      "50000/50000 [==============================] - 1s 16us/step - loss: 1.0607 - acc: 0.9437 - val_loss: 1.0554 - val_acc: 0.9450\n",
      "Epoch 27/200\n",
      "50000/50000 [==============================] - 1s 16us/step - loss: 1.0531 - acc: 0.9440 - val_loss: 1.0469 - val_acc: 0.9450\n",
      "Epoch 28/200\n",
      "50000/50000 [==============================] - 1s 16us/step - loss: 1.0508 - acc: 0.9441 - val_loss: 1.0220 - val_acc: 0.9510\n",
      "Epoch 29/200\n",
      "50000/50000 [==============================] - 1s 16us/step - loss: 1.0442 - acc: 0.9444 - val_loss: 1.0276 - val_acc: 0.9493\n",
      "Epoch 30/200\n",
      "50000/50000 [==============================] - 1s 16us/step - loss: 1.0372 - acc: 0.9463 - val_loss: 1.0391 - val_acc: 0.9433\n",
      "Epoch 31/200\n",
      "50000/50000 [==============================] - 1s 16us/step - loss: 1.0323 - acc: 0.9470 - val_loss: 1.0290 - val_acc: 0.9479\n",
      "Epoch 32/200\n",
      "50000/50000 [==============================] - 1s 16us/step - loss: 1.0283 - acc: 0.9459 - val_loss: 1.0299 - val_acc: 0.9443\n",
      "Epoch 33/200\n",
      "50000/50000 [==============================] - 1s 16us/step - loss: 1.0248 - acc: 0.9473 - val_loss: 1.0000 - val_acc: 0.9528\n",
      "Epoch 34/200\n",
      "50000/50000 [==============================] - 1s 16us/step - loss: 1.0196 - acc: 0.9468 - val_loss: 1.0077 - val_acc: 0.9500\n",
      "Epoch 35/200\n",
      "50000/50000 [==============================] - 1s 16us/step - loss: 1.0166 - acc: 0.9467 - val_loss: 1.0342 - val_acc: 0.9449\n",
      "Epoch 36/200\n",
      "50000/50000 [==============================] - 1s 16us/step - loss: 1.0113 - acc: 0.9484 - val_loss: 0.9837 - val_acc: 0.9559\n",
      "Epoch 37/200\n",
      "50000/50000 [==============================] - 1s 16us/step - loss: 1.0117 - acc: 0.9474 - val_loss: 1.0159 - val_acc: 0.9478\n",
      "Epoch 38/200\n",
      "50000/50000 [==============================] - 1s 16us/step - loss: 1.0064 - acc: 0.9476 - val_loss: 0.9987 - val_acc: 0.9512\n",
      "Epoch 39/200\n",
      "50000/50000 [==============================] - 1s 16us/step - loss: 1.0032 - acc: 0.9481 - val_loss: 0.9958 - val_acc: 0.9520\n",
      "Epoch 40/200\n",
      "50000/50000 [==============================] - 1s 16us/step - loss: 1.0010 - acc: 0.9490 - val_loss: 1.0314 - val_acc: 0.9396\n",
      "Epoch 41/200\n",
      "50000/50000 [==============================] - 1s 16us/step - loss: 0.9969 - acc: 0.9491 - val_loss: 1.0056 - val_acc: 0.9501\n",
      "Epoch 42/200\n",
      "50000/50000 [==============================] - 1s 16us/step - loss: 0.9955 - acc: 0.9488 - val_loss: 0.9924 - val_acc: 0.9508\n",
      "Epoch 43/200\n",
      "50000/50000 [==============================] - 1s 16us/step - loss: 0.9938 - acc: 0.9490 - val_loss: 1.0025 - val_acc: 0.9459\n",
      "Epoch 44/200\n",
      "50000/50000 [==============================] - 1s 16us/step - loss: 0.9886 - acc: 0.9501 - val_loss: 1.0188 - val_acc: 0.9403\n",
      "Epoch 45/200\n",
      "50000/50000 [==============================] - 1s 16us/step - loss: 0.9872 - acc: 0.9493 - val_loss: 0.9774 - val_acc: 0.9519\n",
      "Epoch 46/200\n",
      "50000/50000 [==============================] - 1s 16us/step - loss: 0.9846 - acc: 0.9498 - val_loss: 0.9820 - val_acc: 0.9532\n",
      "Epoch 47/200\n",
      "50000/50000 [==============================] - 1s 16us/step - loss: 0.9800 - acc: 0.9511 - val_loss: 1.0866 - val_acc: 0.9149\n",
      "Epoch 48/200\n",
      "50000/50000 [==============================] - 1s 16us/step - loss: 0.9810 - acc: 0.9499 - val_loss: 0.9927 - val_acc: 0.9444\n",
      "Epoch 49/200\n",
      "50000/50000 [==============================] - 1s 16us/step - loss: 0.9763 - acc: 0.9507 - val_loss: 0.9653 - val_acc: 0.9540\n",
      "Epoch 50/200\n",
      "50000/50000 [==============================] - 1s 16us/step - loss: 0.9754 - acc: 0.9507 - val_loss: 0.9630 - val_acc: 0.9537\n",
      "Epoch 51/200\n",
      "50000/50000 [==============================] - 1s 16us/step - loss: 0.9728 - acc: 0.9508 - val_loss: 0.9632 - val_acc: 0.9544\n",
      "Epoch 52/200\n",
      "50000/50000 [==============================] - 1s 16us/step - loss: 0.9674 - acc: 0.9515 - val_loss: 1.0201 - val_acc: 0.9352\n",
      "Epoch 53/200\n",
      "50000/50000 [==============================] - 1s 16us/step - loss: 0.9681 - acc: 0.9502 - val_loss: 0.9899 - val_acc: 0.9445\n",
      "Epoch 54/200\n",
      "50000/50000 [==============================] - 1s 16us/step - loss: 0.9662 - acc: 0.9515 - val_loss: 0.9497 - val_acc: 0.9581\n",
      "Epoch 55/200\n",
      "50000/50000 [==============================] - 1s 16us/step - loss: 0.9653 - acc: 0.9510 - val_loss: 0.9530 - val_acc: 0.9561\n",
      "Epoch 56/200\n",
      "50000/50000 [==============================] - 1s 16us/step - loss: 0.9641 - acc: 0.9517 - val_loss: 0.9758 - val_acc: 0.9483\n",
      "Epoch 57/200\n",
      "50000/50000 [==============================] - 1s 16us/step - loss: 0.9611 - acc: 0.9524 - val_loss: 0.9817 - val_acc: 0.9451\n",
      "Epoch 58/200\n",
      "50000/50000 [==============================] - 1s 16us/step - loss: 0.9581 - acc: 0.9519 - val_loss: 0.9475 - val_acc: 0.9557\n",
      "Epoch 59/200\n"
     ]
    },
    {
     "name": "stdout",
     "output_type": "stream",
     "text": [
      "50000/50000 [==============================] - 1s 16us/step - loss: 0.9608 - acc: 0.9506 - val_loss: 0.9833 - val_acc: 0.9458\n",
      "Epoch 60/200\n",
      "50000/50000 [==============================] - 1s 16us/step - loss: 0.9587 - acc: 0.9525 - val_loss: 0.9439 - val_acc: 0.9563\n",
      "Epoch 61/200\n",
      "50000/50000 [==============================] - 1s 16us/step - loss: 0.9563 - acc: 0.9525 - val_loss: 0.9697 - val_acc: 0.9486\n",
      "Epoch 62/200\n",
      "50000/50000 [==============================] - 1s 16us/step - loss: 0.9531 - acc: 0.9537 - val_loss: 0.9423 - val_acc: 0.9560\n",
      "Epoch 63/200\n",
      "50000/50000 [==============================] - 1s 16us/step - loss: 0.9537 - acc: 0.9521 - val_loss: 0.9457 - val_acc: 0.9546\n",
      "Epoch 64/200\n",
      "50000/50000 [==============================] - 1s 16us/step - loss: 0.9523 - acc: 0.9524 - val_loss: 0.9490 - val_acc: 0.9545\n",
      "Epoch 65/200\n",
      "50000/50000 [==============================] - 1s 16us/step - loss: 0.9524 - acc: 0.9522 - val_loss: 0.9592 - val_acc: 0.9508\n",
      "Epoch 66/200\n",
      "50000/50000 [==============================] - 1s 16us/step - loss: 0.9481 - acc: 0.9532 - val_loss: 0.9380 - val_acc: 0.9587\n",
      "Epoch 67/200\n",
      "50000/50000 [==============================] - 1s 16us/step - loss: 0.9494 - acc: 0.9529 - val_loss: 0.9413 - val_acc: 0.9550\n",
      "Epoch 68/200\n",
      "50000/50000 [==============================] - 1s 16us/step - loss: 0.9473 - acc: 0.9531 - val_loss: 0.9520 - val_acc: 0.9522\n",
      "Epoch 69/200\n",
      "50000/50000 [==============================] - 1s 16us/step - loss: 0.9459 - acc: 0.9527 - val_loss: 0.9310 - val_acc: 0.9579\n",
      "Epoch 70/200\n",
      "50000/50000 [==============================] - 1s 16us/step - loss: 0.9422 - acc: 0.9546 - val_loss: 0.9534 - val_acc: 0.9514\n",
      "Epoch 71/200\n",
      "50000/50000 [==============================] - 1s 16us/step - loss: 0.9421 - acc: 0.9531 - val_loss: 0.9349 - val_acc: 0.9552\n",
      "Epoch 72/200\n",
      "50000/50000 [==============================] - 1s 16us/step - loss: 0.9424 - acc: 0.9532 - val_loss: 0.9288 - val_acc: 0.9581\n",
      "Epoch 73/200\n",
      "50000/50000 [==============================] - 1s 16us/step - loss: 0.9413 - acc: 0.9538 - val_loss: 0.9279 - val_acc: 0.9571\n",
      "Epoch 74/200\n",
      "50000/50000 [==============================] - 1s 16us/step - loss: 0.9413 - acc: 0.9535 - val_loss: 0.9921 - val_acc: 0.9389\n",
      "Epoch 75/200\n",
      "50000/50000 [==============================] - 1s 16us/step - loss: 0.9402 - acc: 0.9538 - val_loss: 0.9373 - val_acc: 0.9553\n",
      "Epoch 76/200\n",
      "50000/50000 [==============================] - 1s 16us/step - loss: 0.9379 - acc: 0.9539 - val_loss: 0.9393 - val_acc: 0.9542\n",
      "Epoch 77/200\n",
      "50000/50000 [==============================] - 1s 16us/step - loss: 0.9379 - acc: 0.9539 - val_loss: 0.9488 - val_acc: 0.9494\n",
      "Epoch 78/200\n",
      "50000/50000 [==============================] - 1s 16us/step - loss: 0.9362 - acc: 0.9538 - val_loss: 0.9383 - val_acc: 0.9542\n",
      "Epoch 79/200\n",
      "50000/50000 [==============================] - 1s 16us/step - loss: 0.9378 - acc: 0.9540 - val_loss: 0.9261 - val_acc: 0.9590\n",
      "Epoch 80/200\n",
      "50000/50000 [==============================] - 1s 16us/step - loss: 0.9338 - acc: 0.9551 - val_loss: 0.9381 - val_acc: 0.9537\n",
      "Epoch 81/200\n",
      "50000/50000 [==============================] - 1s 16us/step - loss: 0.9345 - acc: 0.9537 - val_loss: 0.9450 - val_acc: 0.9506\n",
      "Epoch 82/200\n",
      "50000/50000 [==============================] - 1s 16us/step - loss: 0.9326 - acc: 0.9551 - val_loss: 0.9902 - val_acc: 0.9364\n",
      "Epoch 83/200\n",
      "50000/50000 [==============================] - 1s 16us/step - loss: 0.9306 - acc: 0.9557 - val_loss: 0.9586 - val_acc: 0.9467\n",
      "Epoch 84/200\n",
      "50000/50000 [==============================] - 1s 16us/step - loss: 0.9342 - acc: 0.9547 - val_loss: 0.9342 - val_acc: 0.9531\n",
      "Epoch 85/200\n",
      "50000/50000 [==============================] - 1s 17us/step - loss: 0.9310 - acc: 0.9555 - val_loss: 0.9346 - val_acc: 0.9543\n",
      "Epoch 86/200\n",
      "50000/50000 [==============================] - 1s 16us/step - loss: 0.9303 - acc: 0.9550 - val_loss: 0.9506 - val_acc: 0.9487\n",
      "Epoch 87/200\n",
      "50000/50000 [==============================] - 1s 17us/step - loss: 0.9290 - acc: 0.9549 - val_loss: 0.9267 - val_acc: 0.9550\n",
      "Epoch 88/200\n",
      "50000/50000 [==============================] - 1s 16us/step - loss: 0.9319 - acc: 0.9535 - val_loss: 0.9125 - val_acc: 0.9617\n",
      "Epoch 89/200\n",
      "50000/50000 [==============================] - 1s 16us/step - loss: 0.9275 - acc: 0.9552 - val_loss: 0.9198 - val_acc: 0.9581\n",
      "Epoch 90/200\n",
      "50000/50000 [==============================] - 1s 16us/step - loss: 0.9267 - acc: 0.9558 - val_loss: 0.9498 - val_acc: 0.9508\n",
      "Epoch 91/200\n",
      "50000/50000 [==============================] - 1s 16us/step - loss: 0.9282 - acc: 0.9556 - val_loss: 0.9274 - val_acc: 0.9539\n",
      "Epoch 92/200\n",
      "50000/50000 [==============================] - 1s 16us/step - loss: 0.9252 - acc: 0.9546 - val_loss: 0.9219 - val_acc: 0.9565\n",
      "Epoch 93/200\n",
      "50000/50000 [==============================] - 1s 17us/step - loss: 0.9267 - acc: 0.9542 - val_loss: 0.9188 - val_acc: 0.9572\n",
      "Epoch 94/200\n",
      "50000/50000 [==============================] - 1s 16us/step - loss: 0.9253 - acc: 0.9559 - val_loss: 0.9109 - val_acc: 0.9607\n",
      "Epoch 95/200\n",
      "50000/50000 [==============================] - 1s 16us/step - loss: 0.9243 - acc: 0.9549 - val_loss: 0.9148 - val_acc: 0.9591\n",
      "Epoch 96/200\n",
      "50000/50000 [==============================] - 1s 16us/step - loss: 0.9233 - acc: 0.9554 - val_loss: 0.9536 - val_acc: 0.9449\n",
      "Epoch 97/200\n",
      "50000/50000 [==============================] - 1s 16us/step - loss: 0.9215 - acc: 0.9566 - val_loss: 0.9158 - val_acc: 0.9595\n",
      "Epoch 98/200\n",
      "50000/50000 [==============================] - 1s 16us/step - loss: 0.9246 - acc: 0.9557 - val_loss: 0.9146 - val_acc: 0.9575\n",
      "Epoch 99/200\n",
      "50000/50000 [==============================] - 1s 16us/step - loss: 0.9224 - acc: 0.9555 - val_loss: 0.9276 - val_acc: 0.9545\n",
      "Epoch 100/200\n",
      "50000/50000 [==============================] - 1s 16us/step - loss: 0.9235 - acc: 0.9558 - val_loss: 0.9275 - val_acc: 0.9555\n",
      "Epoch 101/200\n",
      "50000/50000 [==============================] - 1s 16us/step - loss: 0.9234 - acc: 0.9555 - val_loss: 0.9339 - val_acc: 0.9498\n",
      "Epoch 102/200\n",
      "50000/50000 [==============================] - 1s 16us/step - loss: 0.9190 - acc: 0.9566 - val_loss: 0.9322 - val_acc: 0.9510\n",
      "Epoch 103/200\n",
      "50000/50000 [==============================] - 1s 16us/step - loss: 0.9244 - acc: 0.9554 - val_loss: 0.9309 - val_acc: 0.9542\n",
      "Epoch 104/200\n",
      "50000/50000 [==============================] - 1s 16us/step - loss: 0.9199 - acc: 0.9562 - val_loss: 0.9098 - val_acc: 0.9594\n",
      "Epoch 105/200\n",
      "50000/50000 [==============================] - 1s 16us/step - loss: 0.9209 - acc: 0.9557 - val_loss: 0.9596 - val_acc: 0.9440\n",
      "Epoch 106/200\n",
      "50000/50000 [==============================] - 1s 16us/step - loss: 0.9211 - acc: 0.9551 - val_loss: 0.9867 - val_acc: 0.9343\n",
      "Epoch 107/200\n",
      "50000/50000 [==============================] - 1s 16us/step - loss: 0.9201 - acc: 0.9555 - val_loss: 0.9724 - val_acc: 0.9378\n",
      "Epoch 108/200\n",
      "50000/50000 [==============================] - 1s 16us/step - loss: 0.9179 - acc: 0.9566 - val_loss: 0.9687 - val_acc: 0.9407\n",
      "Epoch 109/200\n",
      "50000/50000 [==============================] - 1s 16us/step - loss: 0.9168 - acc: 0.9561 - val_loss: 0.9974 - val_acc: 0.9333\n",
      "Epoch 110/200\n",
      "50000/50000 [==============================] - 1s 16us/step - loss: 0.9181 - acc: 0.9565 - val_loss: 0.9124 - val_acc: 0.9582\n",
      "Epoch 111/200\n",
      "50000/50000 [==============================] - 1s 16us/step - loss: 0.9190 - acc: 0.9566 - val_loss: 0.9196 - val_acc: 0.9564\n",
      "Epoch 112/200\n",
      "50000/50000 [==============================] - 1s 16us/step - loss: 0.9154 - acc: 0.9573 - val_loss: 0.9311 - val_acc: 0.9534\n",
      "Epoch 113/200\n",
      "50000/50000 [==============================] - 1s 16us/step - loss: 0.9169 - acc: 0.9565 - val_loss: 0.9135 - val_acc: 0.9600\n",
      "Epoch 114/200\n",
      "50000/50000 [==============================] - 1s 16us/step - loss: 0.9154 - acc: 0.9572 - val_loss: 0.9111 - val_acc: 0.9586\n",
      "Epoch 115/200\n",
      "50000/50000 [==============================] - 1s 16us/step - loss: 0.9162 - acc: 0.9565 - val_loss: 0.9211 - val_acc: 0.9548\n",
      "Epoch 116/200\n",
      "50000/50000 [==============================] - 1s 16us/step - loss: 0.9140 - acc: 0.9570 - val_loss: 0.9147 - val_acc: 0.9557\n",
      "Epoch 117/200\n",
      "50000/50000 [==============================] - 1s 16us/step - loss: 0.9149 - acc: 0.9559 - val_loss: 0.9254 - val_acc: 0.9533\n"
     ]
    },
    {
     "name": "stdout",
     "output_type": "stream",
     "text": [
      "Epoch 118/200\n",
      "50000/50000 [==============================] - 1s 16us/step - loss: 0.9137 - acc: 0.9567 - val_loss: 0.9233 - val_acc: 0.9551\n",
      "Epoch 119/200\n",
      "50000/50000 [==============================] - 1s 16us/step - loss: 0.9136 - acc: 0.9566 - val_loss: 0.9211 - val_acc: 0.9535\n",
      "Epoch 120/200\n",
      "50000/50000 [==============================] - 1s 16us/step - loss: 0.9124 - acc: 0.9582 - val_loss: 0.9098 - val_acc: 0.9575\n",
      "Epoch 121/200\n",
      "50000/50000 [==============================] - 1s 16us/step - loss: 0.9094 - acc: 0.9581 - val_loss: 0.9629 - val_acc: 0.9432\n",
      "Epoch 122/200\n",
      "50000/50000 [==============================] - 1s 16us/step - loss: 0.9116 - acc: 0.9581 - val_loss: 0.9099 - val_acc: 0.9575\n",
      "Epoch 123/200\n",
      "50000/50000 [==============================] - 1s 16us/step - loss: 0.9123 - acc: 0.9567 - val_loss: 0.9313 - val_acc: 0.9525\n",
      "Epoch 124/200\n",
      "50000/50000 [==============================] - 1s 16us/step - loss: 0.9125 - acc: 0.9567 - val_loss: 0.9350 - val_acc: 0.9514\n",
      "Epoch 125/200\n",
      "50000/50000 [==============================] - 1s 16us/step - loss: 0.9137 - acc: 0.9572 - val_loss: 0.9096 - val_acc: 0.9601\n",
      "Epoch 126/200\n",
      "50000/50000 [==============================] - 1s 16us/step - loss: 0.9087 - acc: 0.9584 - val_loss: 0.9071 - val_acc: 0.9603\n",
      "Epoch 127/200\n",
      "50000/50000 [==============================] - 1s 16us/step - loss: 0.9104 - acc: 0.9577 - val_loss: 0.9098 - val_acc: 0.9592\n",
      "Epoch 128/200\n",
      "50000/50000 [==============================] - 1s 16us/step - loss: 0.9099 - acc: 0.9583 - val_loss: 0.9723 - val_acc: 0.9357\n",
      "Epoch 129/200\n",
      "50000/50000 [==============================] - 1s 16us/step - loss: 0.9092 - acc: 0.9575 - val_loss: 0.9317 - val_acc: 0.9516\n",
      "Epoch 130/200\n",
      "50000/50000 [==============================] - 1s 16us/step - loss: 0.9090 - acc: 0.9577 - val_loss: 0.9748 - val_acc: 0.9378\n",
      "Epoch 131/200\n",
      "50000/50000 [==============================] - 1s 16us/step - loss: 0.9094 - acc: 0.9570 - val_loss: 0.9139 - val_acc: 0.9554\n",
      "Epoch 132/200\n",
      "50000/50000 [==============================] - 1s 16us/step - loss: 0.9082 - acc: 0.9576 - val_loss: 0.9440 - val_acc: 0.9475\n",
      "Epoch 133/200\n",
      "50000/50000 [==============================] - 1s 16us/step - loss: 0.9074 - acc: 0.9579 - val_loss: 0.9117 - val_acc: 0.9582\n",
      "Epoch 134/200\n",
      "50000/50000 [==============================] - 1s 16us/step - loss: 0.9085 - acc: 0.9576 - val_loss: 0.9165 - val_acc: 0.9561\n",
      "Epoch 135/200\n",
      "50000/50000 [==============================] - 1s 16us/step - loss: 0.9085 - acc: 0.9577 - val_loss: 0.8971 - val_acc: 0.9621\n",
      "Epoch 136/200\n",
      "50000/50000 [==============================] - 1s 16us/step - loss: 0.9065 - acc: 0.9574 - val_loss: 0.9614 - val_acc: 0.9414\n",
      "Epoch 137/200\n",
      "50000/50000 [==============================] - 1s 16us/step - loss: 0.9086 - acc: 0.9575 - val_loss: 0.8946 - val_acc: 0.9621\n",
      "Epoch 138/200\n",
      "50000/50000 [==============================] - 1s 16us/step - loss: 0.9049 - acc: 0.9581 - val_loss: 0.9373 - val_acc: 0.9482\n",
      "Epoch 139/200\n",
      "50000/50000 [==============================] - 1s 16us/step - loss: 0.9067 - acc: 0.9578 - val_loss: 0.9199 - val_acc: 0.9544\n",
      "Epoch 140/200\n",
      "50000/50000 [==============================] - 1s 16us/step - loss: 0.9057 - acc: 0.9578 - val_loss: 0.9460 - val_acc: 0.9449\n",
      "Epoch 141/200\n",
      "50000/50000 [==============================] - 1s 16us/step - loss: 0.9080 - acc: 0.9567 - val_loss: 0.9201 - val_acc: 0.9545\n",
      "Epoch 142/200\n",
      "50000/50000 [==============================] - 1s 16us/step - loss: 0.9060 - acc: 0.9579 - val_loss: 0.9010 - val_acc: 0.9589\n",
      "Epoch 143/200\n",
      "50000/50000 [==============================] - 1s 16us/step - loss: 0.9045 - acc: 0.9580 - val_loss: 0.8981 - val_acc: 0.9625\n",
      "Epoch 144/200\n",
      "50000/50000 [==============================] - 1s 16us/step - loss: 0.9059 - acc: 0.9573 - val_loss: 0.9004 - val_acc: 0.9600\n",
      "Epoch 145/200\n",
      "50000/50000 [==============================] - 1s 16us/step - loss: 0.9028 - acc: 0.9581 - val_loss: 0.9069 - val_acc: 0.9583\n",
      "Epoch 146/200\n",
      "50000/50000 [==============================] - 1s 16us/step - loss: 0.9029 - acc: 0.9583 - val_loss: 0.9300 - val_acc: 0.9527\n",
      "Epoch 147/200\n",
      "50000/50000 [==============================] - 1s 16us/step - loss: 0.9009 - acc: 0.9589 - val_loss: 0.9914 - val_acc: 0.9336\n",
      "Epoch 148/200\n",
      "50000/50000 [==============================] - 1s 16us/step - loss: 0.9031 - acc: 0.9578 - val_loss: 0.9698 - val_acc: 0.9393\n",
      "Epoch 149/200\n",
      "50000/50000 [==============================] - 1s 16us/step - loss: 0.9039 - acc: 0.9578 - val_loss: 0.9329 - val_acc: 0.9510\n",
      "Epoch 150/200\n",
      "50000/50000 [==============================] - 1s 16us/step - loss: 0.9030 - acc: 0.9583 - val_loss: 0.9708 - val_acc: 0.9401\n",
      "Epoch 151/200\n",
      "50000/50000 [==============================] - 1s 16us/step - loss: 0.9013 - acc: 0.9591 - val_loss: 0.9045 - val_acc: 0.9566\n",
      "Epoch 152/200\n",
      "50000/50000 [==============================] - 1s 16us/step - loss: 0.9026 - acc: 0.9578 - val_loss: 0.9356 - val_acc: 0.9484\n",
      "Epoch 153/200\n",
      "50000/50000 [==============================] - 1s 16us/step - loss: 0.9001 - acc: 0.9582 - val_loss: 0.8918 - val_acc: 0.9608\n",
      "Epoch 154/200\n",
      "50000/50000 [==============================] - 1s 16us/step - loss: 0.9018 - acc: 0.9577 - val_loss: 0.9029 - val_acc: 0.9577\n",
      "Epoch 155/200\n",
      "50000/50000 [==============================] - 1s 16us/step - loss: 0.8986 - acc: 0.9586 - val_loss: 0.8930 - val_acc: 0.9616\n",
      "Epoch 156/200\n",
      "50000/50000 [==============================] - 1s 16us/step - loss: 0.9012 - acc: 0.9587 - val_loss: 0.9459 - val_acc: 0.9451\n",
      "Epoch 157/200\n",
      "50000/50000 [==============================] - 1s 16us/step - loss: 0.9004 - acc: 0.9586 - val_loss: 0.8892 - val_acc: 0.9628\n",
      "Epoch 158/200\n",
      "50000/50000 [==============================] - 1s 16us/step - loss: 0.9003 - acc: 0.9577 - val_loss: 0.9349 - val_acc: 0.9486\n",
      "Epoch 159/200\n",
      "50000/50000 [==============================] - 1s 16us/step - loss: 0.9007 - acc: 0.9573 - val_loss: 0.9389 - val_acc: 0.9474\n",
      "Epoch 160/200\n",
      "50000/50000 [==============================] - 1s 16us/step - loss: 0.8981 - acc: 0.9595 - val_loss: 0.8924 - val_acc: 0.9628\n",
      "Epoch 161/200\n",
      "50000/50000 [==============================] - 1s 16us/step - loss: 0.8990 - acc: 0.9579 - val_loss: 0.9224 - val_acc: 0.9533\n",
      "Epoch 162/200\n",
      "50000/50000 [==============================] - 1s 16us/step - loss: 0.8983 - acc: 0.9591 - val_loss: 0.8863 - val_acc: 0.9644\n",
      "Epoch 163/200\n",
      "50000/50000 [==============================] - 1s 16us/step - loss: 0.8999 - acc: 0.9582 - val_loss: 0.9061 - val_acc: 0.9581\n",
      "Epoch 164/200\n",
      "50000/50000 [==============================] - 1s 16us/step - loss: 0.8974 - acc: 0.9588 - val_loss: 0.9136 - val_acc: 0.9562\n",
      "Epoch 165/200\n",
      "50000/50000 [==============================] - 1s 16us/step - loss: 0.8991 - acc: 0.9582 - val_loss: 0.9430 - val_acc: 0.9461\n",
      "Epoch 166/200\n",
      "50000/50000 [==============================] - 1s 16us/step - loss: 0.8977 - acc: 0.9587 - val_loss: 0.9341 - val_acc: 0.9473\n",
      "Epoch 167/200\n",
      "50000/50000 [==============================] - 1s 16us/step - loss: 0.8993 - acc: 0.9584 - val_loss: 0.8953 - val_acc: 0.9619\n",
      "Epoch 168/200\n",
      "50000/50000 [==============================] - 1s 16us/step - loss: 0.8955 - acc: 0.9603 - val_loss: 0.9652 - val_acc: 0.9350\n",
      "Epoch 169/200\n",
      "50000/50000 [==============================] - 1s 16us/step - loss: 0.8976 - acc: 0.9583 - val_loss: 0.9049 - val_acc: 0.9569\n",
      "Epoch 170/200\n",
      "50000/50000 [==============================] - 1s 16us/step - loss: 0.8986 - acc: 0.9584 - val_loss: 0.9220 - val_acc: 0.9530\n",
      "Epoch 171/200\n",
      "50000/50000 [==============================] - 1s 16us/step - loss: 0.8961 - acc: 0.9597 - val_loss: 0.9229 - val_acc: 0.9522\n",
      "Epoch 172/200\n",
      "50000/50000 [==============================] - 1s 16us/step - loss: 0.8963 - acc: 0.9592 - val_loss: 0.9147 - val_acc: 0.9556\n",
      "Epoch 173/200\n",
      "50000/50000 [==============================] - 1s 16us/step - loss: 0.8944 - acc: 0.9591 - val_loss: 0.9005 - val_acc: 0.9596\n",
      "Epoch 174/200\n",
      "50000/50000 [==============================] - 1s 16us/step - loss: 0.8937 - acc: 0.9598 - val_loss: 0.9300 - val_acc: 0.9513\n",
      "Epoch 175/200\n",
      "50000/50000 [==============================] - 1s 16us/step - loss: 0.8955 - acc: 0.9584 - val_loss: 0.8982 - val_acc: 0.9588\n",
      "Epoch 176/200\n"
     ]
    },
    {
     "name": "stdout",
     "output_type": "stream",
     "text": [
      "50000/50000 [==============================] - 1s 16us/step - loss: 0.8963 - acc: 0.9584 - val_loss: 0.9028 - val_acc: 0.9560\n",
      "Epoch 177/200\n",
      "50000/50000 [==============================] - 1s 16us/step - loss: 0.8938 - acc: 0.9593 - val_loss: 0.9144 - val_acc: 0.9546\n",
      "Epoch 178/200\n",
      "50000/50000 [==============================] - 1s 16us/step - loss: 0.8926 - acc: 0.9595 - val_loss: 0.9007 - val_acc: 0.9579\n",
      "Epoch 179/200\n",
      "50000/50000 [==============================] - 1s 16us/step - loss: 0.8947 - acc: 0.9586 - val_loss: 0.8991 - val_acc: 0.9597\n",
      "Epoch 180/200\n",
      "50000/50000 [==============================] - 1s 16us/step - loss: 0.8937 - acc: 0.9601 - val_loss: 0.9550 - val_acc: 0.9415\n",
      "Epoch 181/200\n",
      "50000/50000 [==============================] - 1s 16us/step - loss: 0.8944 - acc: 0.9586 - val_loss: 0.9583 - val_acc: 0.9387\n",
      "Epoch 182/200\n",
      "50000/50000 [==============================] - 1s 16us/step - loss: 0.8934 - acc: 0.9596 - val_loss: 0.9621 - val_acc: 0.9392\n",
      "Epoch 183/200\n",
      "50000/50000 [==============================] - 1s 16us/step - loss: 0.8923 - acc: 0.9592 - val_loss: 0.9094 - val_acc: 0.9559\n",
      "Epoch 184/200\n",
      "50000/50000 [==============================] - 1s 16us/step - loss: 0.8922 - acc: 0.9592 - val_loss: 0.9648 - val_acc: 0.9366\n",
      "Epoch 185/200\n",
      "50000/50000 [==============================] - 1s 16us/step - loss: 0.8921 - acc: 0.9597 - val_loss: 0.9077 - val_acc: 0.9570\n",
      "Epoch 186/200\n",
      "50000/50000 [==============================] - 1s 16us/step - loss: 0.8931 - acc: 0.9588 - val_loss: 0.9090 - val_acc: 0.9569\n",
      "Epoch 187/200\n",
      "50000/50000 [==============================] - 1s 16us/step - loss: 0.8910 - acc: 0.9594 - val_loss: 0.9318 - val_acc: 0.9450\n",
      "Epoch 188/200\n",
      "50000/50000 [==============================] - 1s 16us/step - loss: 0.8938 - acc: 0.9586 - val_loss: 0.8820 - val_acc: 0.9661\n",
      "Epoch 189/200\n",
      "50000/50000 [==============================] - 1s 16us/step - loss: 0.8909 - acc: 0.9593 - val_loss: 0.8845 - val_acc: 0.9640\n",
      "Epoch 190/200\n",
      "50000/50000 [==============================] - 1s 16us/step - loss: 0.8896 - acc: 0.9604 - val_loss: 0.8973 - val_acc: 0.9593\n",
      "Epoch 191/200\n",
      "50000/50000 [==============================] - 1s 17us/step - loss: 0.8898 - acc: 0.9600 - val_loss: 0.8909 - val_acc: 0.9614\n",
      "Epoch 192/200\n",
      "50000/50000 [==============================] - 1s 16us/step - loss: 0.8906 - acc: 0.9594 - val_loss: 0.8970 - val_acc: 0.9582\n",
      "Epoch 193/200\n",
      "50000/50000 [==============================] - 1s 16us/step - loss: 0.8887 - acc: 0.9604 - val_loss: 0.9213 - val_acc: 0.9524\n",
      "Epoch 194/200\n",
      "50000/50000 [==============================] - 1s 16us/step - loss: 0.8902 - acc: 0.9599 - val_loss: 0.9170 - val_acc: 0.9546\n",
      "Epoch 195/200\n",
      "50000/50000 [==============================] - 1s 16us/step - loss: 0.8915 - acc: 0.9584 - val_loss: 0.8850 - val_acc: 0.9626\n",
      "Epoch 196/200\n",
      "50000/50000 [==============================] - 1s 16us/step - loss: 0.8903 - acc: 0.9591 - val_loss: 0.9139 - val_acc: 0.9525\n",
      "Epoch 197/200\n",
      "50000/50000 [==============================] - 1s 16us/step - loss: 0.8880 - acc: 0.9603 - val_loss: 0.8859 - val_acc: 0.9637\n",
      "Epoch 198/200\n",
      "50000/50000 [==============================] - 1s 16us/step - loss: 0.8889 - acc: 0.9596 - val_loss: 0.9279 - val_acc: 0.9508\n",
      "Epoch 199/200\n",
      "50000/50000 [==============================] - 1s 16us/step - loss: 0.8862 - acc: 0.9606 - val_loss: 0.8944 - val_acc: 0.9592\n",
      "Epoch 200/200\n",
      "50000/50000 [==============================] - 1s 16us/step - loss: 0.8870 - acc: 0.9601 - val_loss: 0.9018 - val_acc: 0.9565\n"
     ]
    }
   ],
   "source": [
    "l1_reg_history = l1_reg_network.fit(train_images, train_labels, epochs=200, batch_size=512, validation_split=1/6)"
   ]
  },
  {
   "cell_type": "code",
   "execution_count": 37,
   "metadata": {},
   "outputs": [
    {
     "name": "stdout",
     "output_type": "stream",
     "text": [
      "10000/10000 [==============================] - 1s 63us/step\n",
      "l1_reg_test_acc:  0.9543\n"
     ]
    }
   ],
   "source": [
    "l1_reg_test_loss, l1_reg_test_acc = l1_reg_network.evaluate(test_images, test_labels)\n",
    "print('l1_reg_test_acc: ', l1_reg_test_acc)\n",
    "l1_reg_history_dict = l1_reg_history.history"
   ]
  },
  {
   "cell_type": "code",
   "execution_count": 38,
   "metadata": {},
   "outputs": [],
   "source": [
    "# Do l2 regularization.\n",
    "l2_reg_network = models.Sequential()\n",
    "l2_reg_network.add(layers.Dense(512, activation='relu', input_shape=(28 * 28,), \n",
    "                kernel_regularizer=regularizers.l2(0.001)))\n",
    "l2_reg_network.add(layers.Dense(512, activation='relu', kernel_regularizer=regularizers.l2(0.001)))\n",
    "l2_reg_network.add(layers.Dense(512, activation='relu', kernel_regularizer=regularizers.l2(0.001)))\n",
    "l2_reg_network.add(layers.Dense(512, activation='relu', kernel_regularizer=regularizers.l2(0.001)))\n",
    "l2_reg_network.add(layers.Dense(10, activation='softmax'))\n",
    "l2_reg_network.compile(optimizer='rmsprop', loss='categorical_crossentropy', metrics=['acc'])"
   ]
  },
  {
   "cell_type": "code",
   "execution_count": 39,
   "metadata": {},
   "outputs": [
    {
     "name": "stdout",
     "output_type": "stream",
     "text": [
      "Train on 50000 samples, validate on 10000 samples\n",
      "Epoch 1/200\n",
      "50000/50000 [==============================] - 1s 26us/step - loss: 1.7926 - acc: 0.8244 - val_loss: 1.0435 - val_acc: 0.9354\n",
      "Epoch 2/200\n",
      "50000/50000 [==============================] - 1s 16us/step - loss: 0.8363 - acc: 0.9349 - val_loss: 0.5819 - val_acc: 0.9661\n",
      "Epoch 3/200\n",
      "50000/50000 [==============================] - 1s 16us/step - loss: 0.5298 - acc: 0.9541 - val_loss: 0.4682 - val_acc: 0.9485\n",
      "Epoch 4/200\n",
      "50000/50000 [==============================] - 1s 16us/step - loss: 0.4033 - acc: 0.9597 - val_loss: 0.3323 - val_acc: 0.9710\n",
      "Epoch 5/200\n",
      "50000/50000 [==============================] - 1s 16us/step - loss: 0.3260 - acc: 0.9665 - val_loss: 0.3223 - val_acc: 0.9613\n",
      "Epoch 6/200\n",
      "50000/50000 [==============================] - 1s 16us/step - loss: 0.2866 - acc: 0.9681 - val_loss: 0.2513 - val_acc: 0.9767\n",
      "Epoch 7/200\n",
      "50000/50000 [==============================] - 1s 16us/step - loss: 0.2512 - acc: 0.9718 - val_loss: 0.2509 - val_acc: 0.9686\n",
      "Epoch 8/200\n",
      "50000/50000 [==============================] - 1s 16us/step - loss: 0.2337 - acc: 0.9737 - val_loss: 0.2209 - val_acc: 0.9749\n",
      "Epoch 9/200\n",
      "50000/50000 [==============================] - 1s 16us/step - loss: 0.2169 - acc: 0.9766 - val_loss: 0.2262 - val_acc: 0.9717\n",
      "Epoch 10/200\n",
      "50000/50000 [==============================] - 1s 16us/step - loss: 0.2051 - acc: 0.9772 - val_loss: 0.2095 - val_acc: 0.9737\n",
      "Epoch 11/200\n",
      "50000/50000 [==============================] - 1s 16us/step - loss: 0.1910 - acc: 0.9795 - val_loss: 0.1936 - val_acc: 0.9786\n",
      "Epoch 12/200\n",
      "50000/50000 [==============================] - 1s 16us/step - loss: 0.1851 - acc: 0.9800 - val_loss: 0.1931 - val_acc: 0.9760\n",
      "Epoch 13/200\n",
      "50000/50000 [==============================] - 1s 16us/step - loss: 0.1807 - acc: 0.9795 - val_loss: 0.2076 - val_acc: 0.9709\n",
      "Epoch 14/200\n",
      "50000/50000 [==============================] - 1s 16us/step - loss: 0.1698 - acc: 0.9817 - val_loss: 0.1763 - val_acc: 0.9789\n",
      "Epoch 15/200\n",
      "50000/50000 [==============================] - 1s 16us/step - loss: 0.1676 - acc: 0.9812 - val_loss: 0.2227 - val_acc: 0.9660\n",
      "Epoch 16/200\n",
      "50000/50000 [==============================] - 1s 16us/step - loss: 0.1567 - acc: 0.9840 - val_loss: 0.2594 - val_acc: 0.9528\n",
      "Epoch 17/200\n",
      "50000/50000 [==============================] - 1s 16us/step - loss: 0.1552 - acc: 0.9830 - val_loss: 0.1755 - val_acc: 0.9770\n",
      "Epoch 18/200\n",
      "50000/50000 [==============================] - 1s 16us/step - loss: 0.1495 - acc: 0.9836 - val_loss: 0.1649 - val_acc: 0.9780\n",
      "Epoch 19/200\n",
      "50000/50000 [==============================] - 1s 16us/step - loss: 0.1464 - acc: 0.9846 - val_loss: 0.1591 - val_acc: 0.9799\n",
      "Epoch 20/200\n",
      "50000/50000 [==============================] - 1s 16us/step - loss: 0.1440 - acc: 0.9852 - val_loss: 0.2035 - val_acc: 0.9653\n",
      "Epoch 21/200\n",
      "50000/50000 [==============================] - 1s 16us/step - loss: 0.1388 - acc: 0.9851 - val_loss: 0.3316 - val_acc: 0.9214\n",
      "Epoch 22/200\n",
      "50000/50000 [==============================] - 1s 16us/step - loss: 0.1383 - acc: 0.9853 - val_loss: 0.1814 - val_acc: 0.9730\n",
      "Epoch 23/200\n",
      "50000/50000 [==============================] - 1s 16us/step - loss: 0.1360 - acc: 0.9853 - val_loss: 0.1633 - val_acc: 0.9776\n",
      "Epoch 24/200\n",
      "50000/50000 [==============================] - 1s 16us/step - loss: 0.1320 - acc: 0.9869 - val_loss: 0.1746 - val_acc: 0.9734\n",
      "Epoch 25/200\n",
      "50000/50000 [==============================] - 1s 16us/step - loss: 0.1286 - acc: 0.9870 - val_loss: 0.1633 - val_acc: 0.9765\n",
      "Epoch 26/200\n",
      "50000/50000 [==============================] - 1s 16us/step - loss: 0.1280 - acc: 0.9863 - val_loss: 0.1682 - val_acc: 0.9754\n",
      "Epoch 27/200\n",
      "50000/50000 [==============================] - 1s 16us/step - loss: 0.1304 - acc: 0.9854 - val_loss: 0.1727 - val_acc: 0.9734\n",
      "Epoch 28/200\n",
      "50000/50000 [==============================] - 1s 16us/step - loss: 0.1215 - acc: 0.9880 - val_loss: 0.1573 - val_acc: 0.9790\n",
      "Epoch 29/200\n",
      "50000/50000 [==============================] - 1s 16us/step - loss: 0.1241 - acc: 0.9870 - val_loss: 0.1776 - val_acc: 0.9702\n",
      "Epoch 30/200\n",
      "50000/50000 [==============================] - 1s 16us/step - loss: 0.1188 - acc: 0.9884 - val_loss: 0.1637 - val_acc: 0.9738\n",
      "Epoch 31/200\n",
      "50000/50000 [==============================] - 1s 16us/step - loss: 0.1212 - acc: 0.9867 - val_loss: 0.1440 - val_acc: 0.9805\n",
      "Epoch 32/200\n",
      "50000/50000 [==============================] - 1s 16us/step - loss: 0.1150 - acc: 0.9889 - val_loss: 0.4583 - val_acc: 0.9083\n",
      "Epoch 33/200\n",
      "50000/50000 [==============================] - 1s 16us/step - loss: 0.1185 - acc: 0.9880 - val_loss: 0.1566 - val_acc: 0.9776\n",
      "Epoch 34/200\n",
      "50000/50000 [==============================] - 1s 16us/step - loss: 0.1164 - acc: 0.9883 - val_loss: 0.1432 - val_acc: 0.9798\n",
      "Epoch 35/200\n",
      "50000/50000 [==============================] - 1s 16us/step - loss: 0.1167 - acc: 0.9879 - val_loss: 0.2126 - val_acc: 0.9623\n",
      "Epoch 36/200\n",
      "50000/50000 [==============================] - 1s 16us/step - loss: 0.1131 - acc: 0.9885 - val_loss: 0.2070 - val_acc: 0.9629\n",
      "Epoch 37/200\n",
      "50000/50000 [==============================] - 1s 16us/step - loss: 0.1111 - acc: 0.9891 - val_loss: 0.1506 - val_acc: 0.9767\n",
      "Epoch 38/200\n",
      "50000/50000 [==============================] - 1s 16us/step - loss: 0.1119 - acc: 0.9885 - val_loss: 0.1448 - val_acc: 0.9793\n",
      "Epoch 39/200\n",
      "50000/50000 [==============================] - 1s 16us/step - loss: 0.1146 - acc: 0.9881 - val_loss: 0.1388 - val_acc: 0.9802\n",
      "Epoch 40/200\n",
      "50000/50000 [==============================] - 1s 16us/step - loss: 0.1084 - acc: 0.9894 - val_loss: 0.1575 - val_acc: 0.9744\n",
      "Epoch 41/200\n",
      "50000/50000 [==============================] - 1s 16us/step - loss: 0.1117 - acc: 0.9888 - val_loss: 0.1617 - val_acc: 0.9731\n",
      "Epoch 42/200\n",
      "50000/50000 [==============================] - 1s 16us/step - loss: 0.1073 - acc: 0.9894 - val_loss: 0.1582 - val_acc: 0.9751\n",
      "Epoch 43/200\n",
      "50000/50000 [==============================] - 1s 16us/step - loss: 0.1099 - acc: 0.9882 - val_loss: 0.2357 - val_acc: 0.9514\n",
      "Epoch 44/200\n",
      "50000/50000 [==============================] - 1s 16us/step - loss: 0.1085 - acc: 0.9888 - val_loss: 0.1292 - val_acc: 0.9831\n",
      "Epoch 45/200\n",
      "50000/50000 [==============================] - 1s 16us/step - loss: 0.1088 - acc: 0.9882 - val_loss: 0.1509 - val_acc: 0.9765\n",
      "Epoch 46/200\n",
      "50000/50000 [==============================] - 1s 16us/step - loss: 0.1047 - acc: 0.9900 - val_loss: 0.1346 - val_acc: 0.9809\n",
      "Epoch 47/200\n",
      "50000/50000 [==============================] - 1s 16us/step - loss: 0.1043 - acc: 0.9896 - val_loss: 0.1384 - val_acc: 0.9805\n",
      "Epoch 48/200\n",
      "50000/50000 [==============================] - 1s 16us/step - loss: 0.1018 - acc: 0.9905 - val_loss: 0.1627 - val_acc: 0.9728\n",
      "Epoch 49/200\n",
      "50000/50000 [==============================] - 1s 16us/step - loss: 0.1028 - acc: 0.9899 - val_loss: 0.1719 - val_acc: 0.9698\n",
      "Epoch 50/200\n",
      "50000/50000 [==============================] - 1s 16us/step - loss: 0.1078 - acc: 0.9883 - val_loss: 0.1274 - val_acc: 0.9816\n",
      "Epoch 51/200\n",
      "50000/50000 [==============================] - 1s 16us/step - loss: 0.0982 - acc: 0.9913 - val_loss: 0.1358 - val_acc: 0.9825\n",
      "Epoch 52/200\n",
      "50000/50000 [==============================] - 1s 16us/step - loss: 0.1085 - acc: 0.9882 - val_loss: 0.1334 - val_acc: 0.9810\n",
      "Epoch 53/200\n",
      "50000/50000 [==============================] - 1s 16us/step - loss: 0.0986 - acc: 0.9909 - val_loss: 0.1331 - val_acc: 0.9815\n",
      "Epoch 54/200\n",
      "50000/50000 [==============================] - 1s 16us/step - loss: 0.1057 - acc: 0.9883 - val_loss: 0.1310 - val_acc: 0.9828\n",
      "Epoch 55/200\n",
      "50000/50000 [==============================] - 1s 16us/step - loss: 0.1008 - acc: 0.9906 - val_loss: 0.1391 - val_acc: 0.9798\n",
      "Epoch 56/200\n",
      "50000/50000 [==============================] - 1s 16us/step - loss: 0.0960 - acc: 0.9914 - val_loss: 0.1354 - val_acc: 0.9806\n",
      "Epoch 57/200\n",
      "50000/50000 [==============================] - 1s 16us/step - loss: 0.1009 - acc: 0.9894 - val_loss: 0.1568 - val_acc: 0.9745\n",
      "Epoch 58/200\n",
      "50000/50000 [==============================] - 1s 16us/step - loss: 0.0956 - acc: 0.9910 - val_loss: 0.2035 - val_acc: 0.9634\n",
      "Epoch 59/200\n"
     ]
    },
    {
     "name": "stdout",
     "output_type": "stream",
     "text": [
      "50000/50000 [==============================] - 1s 16us/step - loss: 0.0998 - acc: 0.9896 - val_loss: 0.1327 - val_acc: 0.9799\n",
      "Epoch 60/200\n",
      "50000/50000 [==============================] - 1s 16us/step - loss: 0.0958 - acc: 0.9913 - val_loss: 0.1465 - val_acc: 0.9773\n",
      "Epoch 61/200\n",
      "50000/50000 [==============================] - 1s 16us/step - loss: 0.0989 - acc: 0.9902 - val_loss: 0.1270 - val_acc: 0.9818\n",
      "Epoch 62/200\n",
      "50000/50000 [==============================] - 1s 16us/step - loss: 0.0952 - acc: 0.9908 - val_loss: 0.1377 - val_acc: 0.9783\n",
      "Epoch 63/200\n",
      "50000/50000 [==============================] - 1s 16us/step - loss: 0.0940 - acc: 0.9911 - val_loss: 0.1338 - val_acc: 0.9812\n",
      "Epoch 64/200\n",
      "50000/50000 [==============================] - 1s 16us/step - loss: 0.0946 - acc: 0.9913 - val_loss: 0.1826 - val_acc: 0.9697\n",
      "Epoch 65/200\n",
      "50000/50000 [==============================] - 1s 16us/step - loss: 0.0985 - acc: 0.9901 - val_loss: 0.1283 - val_acc: 0.9821\n",
      "Epoch 66/200\n",
      "50000/50000 [==============================] - 1s 16us/step - loss: 0.0927 - acc: 0.9912 - val_loss: 0.1938 - val_acc: 0.9643\n",
      "Epoch 67/200\n",
      "50000/50000 [==============================] - 1s 16us/step - loss: 0.0954 - acc: 0.9905 - val_loss: 0.1332 - val_acc: 0.9797\n",
      "Epoch 68/200\n",
      "50000/50000 [==============================] - 1s 16us/step - loss: 0.0987 - acc: 0.9900 - val_loss: 0.1342 - val_acc: 0.9796\n",
      "Epoch 69/200\n",
      "50000/50000 [==============================] - 1s 16us/step - loss: 0.0952 - acc: 0.9909 - val_loss: 0.1410 - val_acc: 0.9778\n",
      "Epoch 70/200\n",
      "50000/50000 [==============================] - 1s 16us/step - loss: 0.0920 - acc: 0.9908 - val_loss: 0.1284 - val_acc: 0.9819\n",
      "Epoch 71/200\n",
      "50000/50000 [==============================] - 1s 16us/step - loss: 0.0942 - acc: 0.9909 - val_loss: 0.1438 - val_acc: 0.9773\n",
      "Epoch 72/200\n",
      "50000/50000 [==============================] - 1s 16us/step - loss: 0.0957 - acc: 0.9904 - val_loss: 0.1243 - val_acc: 0.9817\n",
      "Epoch 73/200\n",
      "50000/50000 [==============================] - 1s 16us/step - loss: 0.0936 - acc: 0.9910 - val_loss: 0.1507 - val_acc: 0.9754\n",
      "Epoch 74/200\n",
      "50000/50000 [==============================] - 1s 16us/step - loss: 0.0905 - acc: 0.9917 - val_loss: 0.3778 - val_acc: 0.9105\n",
      "Epoch 75/200\n",
      "50000/50000 [==============================] - 1s 16us/step - loss: 0.0903 - acc: 0.9916 - val_loss: 0.1382 - val_acc: 0.9791\n",
      "Epoch 76/200\n",
      "50000/50000 [==============================] - 1s 16us/step - loss: 0.0932 - acc: 0.9907 - val_loss: 0.1324 - val_acc: 0.9800\n",
      "Epoch 77/200\n",
      "50000/50000 [==============================] - 1s 16us/step - loss: 0.0913 - acc: 0.9920 - val_loss: 0.1481 - val_acc: 0.9762\n",
      "Epoch 78/200\n",
      "50000/50000 [==============================] - 1s 16us/step - loss: 0.0920 - acc: 0.9909 - val_loss: 0.1540 - val_acc: 0.9749\n",
      "Epoch 79/200\n",
      "50000/50000 [==============================] - 1s 16us/step - loss: 0.0926 - acc: 0.9911 - val_loss: 0.1531 - val_acc: 0.9733\n",
      "Epoch 80/200\n",
      "50000/50000 [==============================] - 1s 16us/step - loss: 0.0877 - acc: 0.9921 - val_loss: 0.1334 - val_acc: 0.9787\n",
      "Epoch 81/200\n",
      "50000/50000 [==============================] - 1s 16us/step - loss: 0.0920 - acc: 0.9902 - val_loss: 0.1532 - val_acc: 0.9745\n",
      "Epoch 82/200\n",
      "50000/50000 [==============================] - 1s 16us/step - loss: 0.0873 - acc: 0.9917 - val_loss: 0.1776 - val_acc: 0.9684\n",
      "Epoch 83/200\n",
      "50000/50000 [==============================] - 1s 16us/step - loss: 0.0892 - acc: 0.9915 - val_loss: 0.1305 - val_acc: 0.9801\n",
      "Epoch 84/200\n",
      "50000/50000 [==============================] - 1s 16us/step - loss: 0.0905 - acc: 0.9909 - val_loss: 0.1267 - val_acc: 0.9817\n",
      "Epoch 85/200\n",
      "50000/50000 [==============================] - 1s 16us/step - loss: 0.0877 - acc: 0.9920 - val_loss: 0.1635 - val_acc: 0.9709\n",
      "Epoch 86/200\n",
      "50000/50000 [==============================] - 1s 16us/step - loss: 0.0873 - acc: 0.9920 - val_loss: 0.1323 - val_acc: 0.9803\n",
      "Epoch 87/200\n",
      "50000/50000 [==============================] - 1s 16us/step - loss: 0.0905 - acc: 0.9904 - val_loss: 0.1308 - val_acc: 0.9795\n",
      "Epoch 88/200\n",
      "50000/50000 [==============================] - 1s 16us/step - loss: 0.0877 - acc: 0.9915 - val_loss: 0.1463 - val_acc: 0.9760\n",
      "Epoch 89/200\n",
      "50000/50000 [==============================] - 1s 16us/step - loss: 0.0899 - acc: 0.9912 - val_loss: 0.2612 - val_acc: 0.9423\n",
      "Epoch 90/200\n",
      "50000/50000 [==============================] - 1s 16us/step - loss: 0.0907 - acc: 0.9905 - val_loss: 0.1396 - val_acc: 0.9783\n",
      "Epoch 91/200\n",
      "50000/50000 [==============================] - 1s 16us/step - loss: 0.0895 - acc: 0.9916 - val_loss: 0.1274 - val_acc: 0.9809\n",
      "Epoch 92/200\n",
      "50000/50000 [==============================] - 1s 16us/step - loss: 0.0870 - acc: 0.9917 - val_loss: 0.1229 - val_acc: 0.9815\n",
      "Epoch 93/200\n",
      "50000/50000 [==============================] - 1s 16us/step - loss: 0.0865 - acc: 0.9917 - val_loss: 0.1289 - val_acc: 0.9804\n",
      "Epoch 94/200\n",
      "50000/50000 [==============================] - 1s 16us/step - loss: 0.0845 - acc: 0.9918 - val_loss: 0.1355 - val_acc: 0.9793\n",
      "Epoch 95/200\n",
      "50000/50000 [==============================] - 1s 16us/step - loss: 0.0874 - acc: 0.9913 - val_loss: 0.1242 - val_acc: 0.9816\n",
      "Epoch 96/200\n",
      "50000/50000 [==============================] - 1s 16us/step - loss: 0.0850 - acc: 0.9927 - val_loss: 0.1391 - val_acc: 0.9780\n",
      "Epoch 97/200\n",
      "50000/50000 [==============================] - 1s 16us/step - loss: 0.0880 - acc: 0.9912 - val_loss: 0.1303 - val_acc: 0.9789\n",
      "Epoch 98/200\n",
      "50000/50000 [==============================] - 1s 16us/step - loss: 0.0891 - acc: 0.9911 - val_loss: 0.1218 - val_acc: 0.9831\n",
      "Epoch 99/200\n",
      "50000/50000 [==============================] - 1s 16us/step - loss: 0.0858 - acc: 0.9923 - val_loss: 0.1294 - val_acc: 0.9794\n",
      "Epoch 100/200\n",
      "50000/50000 [==============================] - 1s 16us/step - loss: 0.0853 - acc: 0.9921 - val_loss: 0.1492 - val_acc: 0.9735\n",
      "Epoch 101/200\n",
      "50000/50000 [==============================] - 1s 16us/step - loss: 0.0889 - acc: 0.9907 - val_loss: 0.1250 - val_acc: 0.9811\n",
      "Epoch 102/200\n",
      "50000/50000 [==============================] - 1s 16us/step - loss: 0.0841 - acc: 0.9921 - val_loss: 0.1269 - val_acc: 0.9806\n",
      "Epoch 103/200\n",
      "50000/50000 [==============================] - 1s 16us/step - loss: 0.0892 - acc: 0.9906 - val_loss: 0.1308 - val_acc: 0.9790\n",
      "Epoch 104/200\n",
      "50000/50000 [==============================] - 1s 16us/step - loss: 0.0846 - acc: 0.9918 - val_loss: 0.1576 - val_acc: 0.9728\n",
      "Epoch 105/200\n",
      "50000/50000 [==============================] - 1s 16us/step - loss: 0.0853 - acc: 0.9918 - val_loss: 0.1418 - val_acc: 0.9761\n",
      "Epoch 106/200\n",
      "50000/50000 [==============================] - 1s 16us/step - loss: 0.0894 - acc: 0.9904 - val_loss: 0.1507 - val_acc: 0.9743\n",
      "Epoch 107/200\n",
      "50000/50000 [==============================] - 1s 16us/step - loss: 0.0846 - acc: 0.9924 - val_loss: 0.1440 - val_acc: 0.9765\n",
      "Epoch 108/200\n",
      "50000/50000 [==============================] - 1s 16us/step - loss: 0.0853 - acc: 0.9917 - val_loss: 0.1248 - val_acc: 0.9809\n",
      "Epoch 109/200\n",
      "50000/50000 [==============================] - 1s 16us/step - loss: 0.0826 - acc: 0.9925 - val_loss: 0.1500 - val_acc: 0.9741\n",
      "Epoch 110/200\n",
      "50000/50000 [==============================] - 1s 16us/step - loss: 0.0840 - acc: 0.9919 - val_loss: 0.1562 - val_acc: 0.9722\n",
      "Epoch 111/200\n",
      "50000/50000 [==============================] - 1s 16us/step - loss: 0.0900 - acc: 0.9903 - val_loss: 0.1243 - val_acc: 0.9817\n",
      "Epoch 112/200\n",
      "50000/50000 [==============================] - 1s 16us/step - loss: 0.0816 - acc: 0.9928 - val_loss: 0.1310 - val_acc: 0.9781\n",
      "Epoch 113/200\n",
      "50000/50000 [==============================] - 1s 16us/step - loss: 0.0851 - acc: 0.9919 - val_loss: 0.1281 - val_acc: 0.9789\n",
      "Epoch 114/200\n",
      "50000/50000 [==============================] - 1s 16us/step - loss: 0.0868 - acc: 0.9913 - val_loss: 0.1209 - val_acc: 0.9815\n",
      "Epoch 115/200\n",
      "50000/50000 [==============================] - 1s 16us/step - loss: 0.0838 - acc: 0.9919 - val_loss: 0.1308 - val_acc: 0.9792\n",
      "Epoch 116/200\n",
      "50000/50000 [==============================] - 1s 16us/step - loss: 0.0865 - acc: 0.9907 - val_loss: 0.1519 - val_acc: 0.9722\n",
      "Epoch 117/200\n",
      "50000/50000 [==============================] - 1s 16us/step - loss: 0.0836 - acc: 0.9919 - val_loss: 0.1217 - val_acc: 0.9803\n"
     ]
    },
    {
     "name": "stdout",
     "output_type": "stream",
     "text": [
      "Epoch 118/200\n",
      "50000/50000 [==============================] - 1s 16us/step - loss: 0.0805 - acc: 0.9928 - val_loss: 0.1445 - val_acc: 0.9744\n",
      "Epoch 119/200\n",
      "50000/50000 [==============================] - 1s 16us/step - loss: 0.0832 - acc: 0.9922 - val_loss: 0.1816 - val_acc: 0.9671\n",
      "Epoch 120/200\n",
      "50000/50000 [==============================] - 1s 16us/step - loss: 0.0836 - acc: 0.9917 - val_loss: 0.1527 - val_acc: 0.9706\n",
      "Epoch 121/200\n",
      "50000/50000 [==============================] - 1s 16us/step - loss: 0.0839 - acc: 0.9915 - val_loss: 0.1336 - val_acc: 0.9804\n",
      "Epoch 122/200\n",
      "50000/50000 [==============================] - 1s 16us/step - loss: 0.0833 - acc: 0.9921 - val_loss: 0.1372 - val_acc: 0.9764\n",
      "Epoch 123/200\n",
      "50000/50000 [==============================] - 1s 16us/step - loss: 0.0819 - acc: 0.9921 - val_loss: 0.1853 - val_acc: 0.9622\n",
      "Epoch 124/200\n",
      "50000/50000 [==============================] - 1s 16us/step - loss: 0.0836 - acc: 0.9916 - val_loss: 0.1540 - val_acc: 0.9752\n",
      "Epoch 125/200\n",
      "50000/50000 [==============================] - 1s 16us/step - loss: 0.0798 - acc: 0.9926 - val_loss: 0.1530 - val_acc: 0.9730\n",
      "Epoch 126/200\n",
      "50000/50000 [==============================] - 1s 16us/step - loss: 0.0845 - acc: 0.9915 - val_loss: 0.1217 - val_acc: 0.9812\n",
      "Epoch 127/200\n",
      "50000/50000 [==============================] - 1s 16us/step - loss: 0.0802 - acc: 0.9925 - val_loss: 0.1207 - val_acc: 0.9810\n",
      "Epoch 128/200\n",
      "50000/50000 [==============================] - 1s 16us/step - loss: 0.0798 - acc: 0.9928 - val_loss: 0.1188 - val_acc: 0.9809\n",
      "Epoch 129/200\n",
      "50000/50000 [==============================] - 1s 16us/step - loss: 0.0828 - acc: 0.9913 - val_loss: 0.1361 - val_acc: 0.9764\n",
      "Epoch 130/200\n",
      "50000/50000 [==============================] - 1s 17us/step - loss: 0.0834 - acc: 0.9917 - val_loss: 0.1232 - val_acc: 0.9803\n",
      "Epoch 131/200\n",
      "50000/50000 [==============================] - 1s 16us/step - loss: 0.0805 - acc: 0.9927 - val_loss: 0.1194 - val_acc: 0.9817\n",
      "Epoch 132/200\n",
      "50000/50000 [==============================] - 1s 16us/step - loss: 0.0793 - acc: 0.9926 - val_loss: 0.1300 - val_acc: 0.9781\n",
      "Epoch 133/200\n",
      "50000/50000 [==============================] - 1s 16us/step - loss: 0.0851 - acc: 0.9911 - val_loss: 0.1251 - val_acc: 0.9800\n",
      "Epoch 134/200\n",
      "50000/50000 [==============================] - 1s 16us/step - loss: 0.0796 - acc: 0.9928 - val_loss: 0.1374 - val_acc: 0.9779\n",
      "Epoch 135/200\n",
      "50000/50000 [==============================] - 1s 16us/step - loss: 0.0829 - acc: 0.9916 - val_loss: 0.1314 - val_acc: 0.9779\n",
      "Epoch 136/200\n",
      "50000/50000 [==============================] - 1s 16us/step - loss: 0.0788 - acc: 0.9923 - val_loss: 0.1344 - val_acc: 0.9767\n",
      "Epoch 137/200\n",
      "50000/50000 [==============================] - 1s 16us/step - loss: 0.0850 - acc: 0.9909 - val_loss: 0.1243 - val_acc: 0.9805\n",
      "Epoch 138/200\n",
      "50000/50000 [==============================] - 1s 16us/step - loss: 0.0778 - acc: 0.9931 - val_loss: 0.1732 - val_acc: 0.9687\n",
      "Epoch 139/200\n",
      "50000/50000 [==============================] - 1s 16us/step - loss: 0.0850 - acc: 0.9905 - val_loss: 0.1298 - val_acc: 0.9775\n",
      "Epoch 140/200\n",
      "50000/50000 [==============================] - 1s 16us/step - loss: 0.0789 - acc: 0.9924 - val_loss: 0.1463 - val_acc: 0.9742\n",
      "Epoch 141/200\n",
      "50000/50000 [==============================] - 1s 16us/step - loss: 0.0786 - acc: 0.9926 - val_loss: 0.1355 - val_acc: 0.9765\n",
      "Epoch 142/200\n",
      "50000/50000 [==============================] - 1s 16us/step - loss: 0.0837 - acc: 0.9912 - val_loss: 0.1241 - val_acc: 0.9797\n",
      "Epoch 143/200\n",
      "50000/50000 [==============================] - 1s 16us/step - loss: 0.0790 - acc: 0.9925 - val_loss: 0.1436 - val_acc: 0.9757\n",
      "Epoch 144/200\n",
      "50000/50000 [==============================] - 1s 16us/step - loss: 0.0811 - acc: 0.9920 - val_loss: 0.1323 - val_acc: 0.9793\n",
      "Epoch 145/200\n",
      "50000/50000 [==============================] - 1s 16us/step - loss: 0.0803 - acc: 0.9922 - val_loss: 0.1577 - val_acc: 0.9723\n",
      "Epoch 146/200\n",
      "50000/50000 [==============================] - 1s 16us/step - loss: 0.0799 - acc: 0.9923 - val_loss: 0.1183 - val_acc: 0.9819\n",
      "Epoch 147/200\n",
      "50000/50000 [==============================] - 1s 16us/step - loss: 0.0811 - acc: 0.9922 - val_loss: 0.1244 - val_acc: 0.9803\n",
      "Epoch 148/200\n",
      "50000/50000 [==============================] - 1s 16us/step - loss: 0.0776 - acc: 0.9927 - val_loss: 0.1208 - val_acc: 0.9813\n",
      "Epoch 149/200\n",
      "50000/50000 [==============================] - 1s 16us/step - loss: 0.0829 - acc: 0.9913 - val_loss: 0.1288 - val_acc: 0.9801\n",
      "Epoch 150/200\n",
      "50000/50000 [==============================] - 1s 16us/step - loss: 0.0772 - acc: 0.9931 - val_loss: 0.1830 - val_acc: 0.9633\n",
      "Epoch 151/200\n",
      "50000/50000 [==============================] - 1s 16us/step - loss: 0.0849 - acc: 0.9910 - val_loss: 0.1226 - val_acc: 0.9824\n",
      "Epoch 152/200\n",
      "50000/50000 [==============================] - 1s 16us/step - loss: 0.0766 - acc: 0.9930 - val_loss: 0.1219 - val_acc: 0.9813\n",
      "Epoch 153/200\n",
      "50000/50000 [==============================] - 1s 16us/step - loss: 0.0774 - acc: 0.9925 - val_loss: 0.1231 - val_acc: 0.9798\n",
      "Epoch 154/200\n",
      "50000/50000 [==============================] - 1s 16us/step - loss: 0.0784 - acc: 0.9923 - val_loss: 0.1312 - val_acc: 0.9788\n",
      "Epoch 155/200\n",
      "50000/50000 [==============================] - 1s 16us/step - loss: 0.0812 - acc: 0.9914 - val_loss: 0.1223 - val_acc: 0.9813\n",
      "Epoch 156/200\n",
      "50000/50000 [==============================] - 1s 16us/step - loss: 0.0770 - acc: 0.9930 - val_loss: 0.1333 - val_acc: 0.9761\n",
      "Epoch 157/200\n",
      "50000/50000 [==============================] - 1s 16us/step - loss: 0.0774 - acc: 0.9926 - val_loss: 0.1266 - val_acc: 0.9798\n",
      "Epoch 158/200\n",
      "50000/50000 [==============================] - 1s 16us/step - loss: 0.0814 - acc: 0.9917 - val_loss: 0.1161 - val_acc: 0.9817\n",
      "Epoch 159/200\n",
      "50000/50000 [==============================] - 1s 16us/step - loss: 0.0837 - acc: 0.9916 - val_loss: 0.1444 - val_acc: 0.9765\n",
      "Epoch 160/200\n",
      "50000/50000 [==============================] - 1s 16us/step - loss: 0.0808 - acc: 0.9922 - val_loss: 0.1481 - val_acc: 0.9730\n",
      "Epoch 161/200\n",
      "50000/50000 [==============================] - 1s 16us/step - loss: 0.0763 - acc: 0.9930 - val_loss: 0.1175 - val_acc: 0.9828\n",
      "Epoch 162/200\n",
      "50000/50000 [==============================] - 1s 16us/step - loss: 0.0769 - acc: 0.9926 - val_loss: 0.1848 - val_acc: 0.9661\n",
      "Epoch 163/200\n",
      "50000/50000 [==============================] - 1s 16us/step - loss: 0.0797 - acc: 0.9921 - val_loss: 0.1391 - val_acc: 0.9770\n",
      "Epoch 164/200\n",
      "50000/50000 [==============================] - 1s 16us/step - loss: 0.0762 - acc: 0.9930 - val_loss: 0.1350 - val_acc: 0.9762\n",
      "Epoch 165/200\n",
      "50000/50000 [==============================] - 1s 16us/step - loss: 0.0767 - acc: 0.9931 - val_loss: 0.1341 - val_acc: 0.9758\n",
      "Epoch 166/200\n",
      "50000/50000 [==============================] - 1s 16us/step - loss: 0.0790 - acc: 0.9919 - val_loss: 0.1251 - val_acc: 0.9797\n",
      "Epoch 167/200\n",
      "50000/50000 [==============================] - 1s 16us/step - loss: 0.0804 - acc: 0.9918 - val_loss: 0.1192 - val_acc: 0.9813\n",
      "Epoch 168/200\n",
      "50000/50000 [==============================] - 1s 16us/step - loss: 0.0756 - acc: 0.9931 - val_loss: 0.1214 - val_acc: 0.9810\n",
      "Epoch 169/200\n",
      "50000/50000 [==============================] - 1s 16us/step - loss: 0.0791 - acc: 0.9924 - val_loss: 0.1236 - val_acc: 0.9787\n",
      "Epoch 170/200\n",
      "50000/50000 [==============================] - 1s 16us/step - loss: 0.0799 - acc: 0.9918 - val_loss: 0.1157 - val_acc: 0.9826\n",
      "Epoch 171/200\n",
      "50000/50000 [==============================] - 1s 16us/step - loss: 0.0752 - acc: 0.9932 - val_loss: 0.1691 - val_acc: 0.9702\n",
      "Epoch 172/200\n",
      "50000/50000 [==============================] - 1s 16us/step - loss: 0.0797 - acc: 0.9919 - val_loss: 0.1346 - val_acc: 0.9770\n",
      "Epoch 173/200\n",
      "50000/50000 [==============================] - 1s 16us/step - loss: 0.0754 - acc: 0.9929 - val_loss: 0.1373 - val_acc: 0.9757\n",
      "Epoch 174/200\n",
      "50000/50000 [==============================] - 1s 16us/step - loss: 0.0765 - acc: 0.9924 - val_loss: 0.1172 - val_acc: 0.9817\n",
      "Epoch 175/200\n",
      "50000/50000 [==============================] - 1s 16us/step - loss: 0.0746 - acc: 0.9929 - val_loss: 0.1393 - val_acc: 0.9771\n",
      "Epoch 176/200\n"
     ]
    },
    {
     "name": "stdout",
     "output_type": "stream",
     "text": [
      "50000/50000 [==============================] - 1s 16us/step - loss: 0.0758 - acc: 0.9927 - val_loss: 0.1212 - val_acc: 0.9799\n",
      "Epoch 177/200\n",
      "50000/50000 [==============================] - 1s 16us/step - loss: 0.0761 - acc: 0.9923 - val_loss: 0.1219 - val_acc: 0.9814\n",
      "Epoch 178/200\n",
      "50000/50000 [==============================] - 1s 16us/step - loss: 0.0752 - acc: 0.9929 - val_loss: 0.2660 - val_acc: 0.9451\n",
      "Epoch 179/200\n",
      "50000/50000 [==============================] - 1s 16us/step - loss: 0.0799 - acc: 0.9915 - val_loss: 0.1216 - val_acc: 0.9807\n",
      "Epoch 180/200\n",
      "50000/50000 [==============================] - 1s 16us/step - loss: 0.0757 - acc: 0.9930 - val_loss: 0.1181 - val_acc: 0.9820\n",
      "Epoch 181/200\n",
      "50000/50000 [==============================] - 1s 16us/step - loss: 0.0759 - acc: 0.9930 - val_loss: 0.1492 - val_acc: 0.9737\n",
      "Epoch 182/200\n",
      "50000/50000 [==============================] - 1s 16us/step - loss: 0.0773 - acc: 0.9925 - val_loss: 0.1332 - val_acc: 0.9783\n",
      "Epoch 183/200\n",
      "50000/50000 [==============================] - 1s 16us/step - loss: 0.0775 - acc: 0.9919 - val_loss: 0.1141 - val_acc: 0.9821\n",
      "Epoch 184/200\n",
      "50000/50000 [==============================] - 1s 16us/step - loss: 0.0755 - acc: 0.9924 - val_loss: 0.1211 - val_acc: 0.9808\n",
      "Epoch 185/200\n",
      "50000/50000 [==============================] - 1s 16us/step - loss: 0.0773 - acc: 0.9923 - val_loss: 0.1380 - val_acc: 0.9762\n",
      "Epoch 186/200\n",
      "50000/50000 [==============================] - 1s 16us/step - loss: 0.0734 - acc: 0.9933 - val_loss: 0.1184 - val_acc: 0.9815\n",
      "Epoch 187/200\n",
      "50000/50000 [==============================] - 1s 16us/step - loss: 0.0766 - acc: 0.9921 - val_loss: 0.1306 - val_acc: 0.9775\n",
      "Epoch 188/200\n",
      "50000/50000 [==============================] - 1s 16us/step - loss: 0.0751 - acc: 0.9928 - val_loss: 0.1288 - val_acc: 0.9786\n",
      "Epoch 189/200\n",
      "50000/50000 [==============================] - 1s 16us/step - loss: 0.0748 - acc: 0.9926 - val_loss: 0.1299 - val_acc: 0.9799\n",
      "Epoch 190/200\n",
      "50000/50000 [==============================] - 1s 16us/step - loss: 0.0734 - acc: 0.9936 - val_loss: 0.1777 - val_acc: 0.9667\n",
      "Epoch 191/200\n",
      "50000/50000 [==============================] - 1s 16us/step - loss: 0.0768 - acc: 0.9929 - val_loss: 0.2024 - val_acc: 0.9600\n",
      "Epoch 192/200\n",
      "50000/50000 [==============================] - 1s 16us/step - loss: 0.0796 - acc: 0.9911 - val_loss: 0.1217 - val_acc: 0.9815\n",
      "Epoch 193/200\n",
      "50000/50000 [==============================] - 1s 16us/step - loss: 0.0748 - acc: 0.9927 - val_loss: 0.1305 - val_acc: 0.9773\n",
      "Epoch 194/200\n",
      "50000/50000 [==============================] - 1s 16us/step - loss: 0.0757 - acc: 0.9927 - val_loss: 0.1312 - val_acc: 0.9772\n",
      "Epoch 195/200\n",
      "50000/50000 [==============================] - 1s 16us/step - loss: 0.0761 - acc: 0.9926 - val_loss: 0.1481 - val_acc: 0.9740\n",
      "Epoch 196/200\n",
      "50000/50000 [==============================] - 1s 16us/step - loss: 0.0779 - acc: 0.9921 - val_loss: 0.1292 - val_acc: 0.9793\n",
      "Epoch 197/200\n",
      "50000/50000 [==============================] - 1s 16us/step - loss: 0.0745 - acc: 0.9929 - val_loss: 0.1399 - val_acc: 0.9776\n",
      "Epoch 198/200\n",
      "50000/50000 [==============================] - 1s 16us/step - loss: 0.0765 - acc: 0.9922 - val_loss: 0.2103 - val_acc: 0.9592\n",
      "Epoch 199/200\n",
      "50000/50000 [==============================] - 1s 16us/step - loss: 0.0762 - acc: 0.9924 - val_loss: 0.1421 - val_acc: 0.9758\n",
      "Epoch 200/200\n",
      "50000/50000 [==============================] - 1s 16us/step - loss: 0.0754 - acc: 0.9928 - val_loss: 0.1234 - val_acc: 0.9796\n"
     ]
    }
   ],
   "source": [
    "l2_reg_history = l2_reg_network.fit(train_images, train_labels, epochs=200, batch_size=512, validation_split=1/6)"
   ]
  },
  {
   "cell_type": "code",
   "execution_count": 40,
   "metadata": {},
   "outputs": [
    {
     "name": "stdout",
     "output_type": "stream",
     "text": [
      "10000/10000 [==============================] - 1s 63us/step\n",
      "l2_reg_test_acc:  0.9797\n"
     ]
    }
   ],
   "source": [
    "l2_reg_test_loss, l2_reg_test_acc = l2_reg_network.evaluate(test_images, test_labels)\n",
    "print('l2_reg_test_acc: ', l2_reg_test_acc)\n",
    "l2_reg_history_dict = l2_reg_history.history"
   ]
  },
  {
   "cell_type": "code",
   "execution_count": 41,
   "metadata": {},
   "outputs": [
    {
     "data": {
      "image/png": "[encoded data removed]",
      "text/plain": [
       "<matplotlib.figure.Figure at 0x7fd8c9a02c88>"
      ]
     },
     "metadata": {},
     "output_type": "display_data"
    }
   ],
   "source": [
    "# Plot all the validation losses.\n",
    "l1_reg_val_loss_values = l1_reg_history_dict['val_loss']\n",
    "l2_reg_val_loss_values = l2_reg_history_dict['val_loss']\n",
    "\n",
    "plt.plot(epochs, val_loss_values, label='Initial Model Validation loss')\n",
    "plt.plot(epochs, dropout_val_loss_values, label='Dropout Validation loss')\n",
    "plt.plot(epochs, l1_reg_val_loss_values, label='L1 Validation loss')\n",
    "plt.plot(epochs, l2_reg_val_loss_values, label='L2 Validation loss')\n",
    "plt.title('Validation Set Loss by Epoch')\n",
    "plt.xlabel('Epochs')\n",
    "plt.ylabel('Validation Loss')\n",
    "plt.legend()\n",
    "\n",
    "plt.show()"
   ]
  },
  {
   "cell_type": "code",
   "execution_count": 42,
   "metadata": {},
   "outputs": [
    {
     "data": {
      "image/png": "[encoded data removed]",
      "text/plain": [
       "<matplotlib.figure.Figure at 0x7fd8ccfbd7b8>"
      ]
     },
     "metadata": {},
     "output_type": "display_data"
    }
   ],
   "source": [
    "# Plot all the validation accuracies.\n",
    "l1_reg_val_acc_values = l1_reg_history_dict['val_acc']\n",
    "l2_reg_val_acc_values = l2_reg_history_dict['val_acc']\n",
    "\n",
    "plt.plot(epochs, val_acc_values, label='Initial Model Validation Accuracy')\n",
    "plt.plot(epochs, dropout_val_acc_values, label='Dropout Validation Accuracy')\n",
    "plt.plot(epochs, l1_reg_val_acc_values, label='L1 Validation Accuracy')\n",
    "plt.plot(epochs, l2_reg_val_acc_values, label='L2 Validation Accuracy')\n",
    "plt.title('Validation Set Accuracy by Epoch')\n",
    "plt.xlabel('Epochs')\n",
    "plt.ylabel('Validation Accuracy')\n",
    "plt.legend()\n",
    "\n",
    "plt.show()"
   ]
  },
  {
   "cell_type": "code",
   "execution_count": 43,
   "metadata": {},
   "outputs": [
    {
     "name": "stdout",
     "output_type": "stream",
     "text": [
      "Initial model min: 0.08451817724704742 at epochs 7\n",
      "Dropout model min: 0.07756790056228638 at epochs 22\n",
      "L1 Reg model min: 0.8819913440704346 at epochs 188\n",
      "L2 Reg model min: 0.1141149885892868 at epochs 183\n"
     ]
    }
   ],
   "source": [
    "# Which model appears to perform the best from a loss standpoint?\n",
    "initial_min = np.min(val_loss_values)\n",
    "initial_epochs = np.argmin(val_loss_values) + 1\n",
    "dropout_min = np.min(dropout_val_loss_values)\n",
    "dropout_epochs = np.argmin(dropout_val_loss_values) + 1\n",
    "l1_reg_min = np.min(l1_reg_val_loss_values)\n",
    "l1_epochs = np.argmin(l1_reg_val_loss_values) + 1\n",
    "l2_reg_min = np.min(l2_reg_val_loss_values)\n",
    "l2_epochs = np.argmin(l2_reg_val_loss_values) + 1\n",
    "print(\"Initial model min:\", initial_min, \"at epochs\", initial_epochs)\n",
    "print(\"Dropout model min:\", dropout_min, \"at epochs\", dropout_epochs)\n",
    "print(\"L1 Reg model min:\", l1_reg_min, \"at epochs\", l1_epochs)\n",
    "print(\"L2 Reg model min:\", l2_reg_min, \"at epochs\", l2_epochs)"
   ]
  },
  {
   "cell_type": "code",
   "execution_count": 44,
   "metadata": {},
   "outputs": [
    {
     "name": "stdout",
     "output_type": "stream",
     "text": [
      "Initial model max acc: 0.9839999996185302 at epochs 139\n",
      "Dropout model max acc: 0.9423999992370605 at epochs 188\n",
      "L1 Reg model max acc: 0.738799999332428 at epochs 188\n",
      "L2 Reg model max acc: 0.9082999997138977 at epochs 44\n"
     ]
    }
   ],
   "source": [
    "# Which model appears to perform the best from an accuracy standpoint?\n",
    "ainitial_min = np.max(val_acc_values)\n",
    "ainitial_epochs = np.argmax(val_acc_values) + 1\n",
    "adropout_min = np.min(dropout_val_acc_values)\n",
    "adropout_epochs = np.argmax(dropout_val_acc_values) + 1\n",
    "al1_reg_min = np.min(l1_reg_val_acc_values)\n",
    "al1_epochs = np.argmax(l1_reg_val_acc_values) + 1\n",
    "al2_reg_min = np.min(l2_reg_val_acc_values)\n",
    "al2_epochs = np.argmax(l2_reg_val_acc_values) + 1\n",
    "print(\"Initial model max acc:\", ainitial_min, \"at epochs\", ainitial_epochs)\n",
    "print(\"Dropout model max acc:\", adropout_min, \"at epochs\", adropout_epochs)\n",
    "print(\"L1 Reg model max acc:\", al1_reg_min, \"at epochs\", al1_epochs)\n",
    "print(\"L2 Reg model max acc:\", al2_reg_min, \"at epochs\", al2_epochs)"
   ]
  },
  {
   "cell_type": "markdown",
   "metadata": {},
   "source": [
    "The model that performs the best in terms of minimizing the loss rate is the dropout model, but the initial model performs slightly better on max accuracy. However, in order to avoid overfitting, I will use the dropout model for the final model."
   ]
  },
  {
   "cell_type": "markdown",
   "metadata": {},
   "source": [
    "### iv. Final model"
   ]
  },
  {
   "cell_type": "code",
   "execution_count": 45,
   "metadata": {},
   "outputs": [
    {
     "name": "stdout",
     "output_type": "stream",
     "text": [
      "number_epochs =  22\n"
     ]
    }
   ],
   "source": [
    "# Find the lowest epoch:\n",
    "number_epochs =  np.argmin(dropout_val_loss_values) + 1\n",
    "print(\"number_epochs = \", number_epochs)"
   ]
  },
  {
   "cell_type": "code",
   "execution_count": 50,
   "metadata": {},
   "outputs": [],
   "source": [
    "all_dropout_network = models.Sequential()\n",
    "all_dropout_network.add(layers.Dense(512, activation='relu', input_shape=(28 * 28,)))\n",
    "all_dropout_network.add(layers.Dropout(0.5))\n",
    "all_dropout_network.add(layers.Dense(512, activation='relu'))\n",
    "all_dropout_network.add(layers.Dropout(0.5))\n",
    "all_dropout_network.add(layers.Dense(512, activation='relu'))\n",
    "all_dropout_network.add(layers.Dropout(0.5))\n",
    "all_dropout_network.add(layers.Dense(512, activation='relu'))\n",
    "all_dropout_network.add(layers.Dropout(0.5))\n",
    "all_dropout_network.add(layers.Dense(10, activation='softmax'))\n",
    "all_dropout_network.compile(optimizer='rmsprop', loss='categorical_crossentropy', metrics=['acc'])"
   ]
  },
  {
   "cell_type": "code",
   "execution_count": 51,
   "metadata": {},
   "outputs": [
    {
     "name": "stdout",
     "output_type": "stream",
     "text": [
      "Epoch 1/22\n",
      "60000/60000 [==============================] - 1s 24us/step - loss: 0.6480 - acc: 0.7887\n",
      "Epoch 2/22\n",
      "60000/60000 [==============================] - 1s 17us/step - loss: 0.2450 - acc: 0.9287\n",
      "Epoch 3/22\n",
      "60000/60000 [==============================] - 1s 16us/step - loss: 0.1856 - acc: 0.9472\n",
      "Epoch 4/22\n",
      "60000/60000 [==============================] - 1s 16us/step - loss: 0.1547 - acc: 0.9565\n",
      "Epoch 5/22\n",
      "60000/60000 [==============================] - 1s 16us/step - loss: 0.1378 - acc: 0.9613\n",
      "Epoch 6/22\n",
      "60000/60000 [==============================] - 1s 16us/step - loss: 0.1189 - acc: 0.9671\n",
      "Epoch 7/22\n",
      "60000/60000 [==============================] - 1s 16us/step - loss: 0.1103 - acc: 0.9690\n",
      "Epoch 8/22\n",
      "60000/60000 [==============================] - 1s 16us/step - loss: 0.1035 - acc: 0.9715\n",
      "Epoch 9/22\n",
      "60000/60000 [==============================] - 1s 16us/step - loss: 0.0968 - acc: 0.9732\n",
      "Epoch 10/22\n",
      "60000/60000 [==============================] - 1s 16us/step - loss: 0.0920 - acc: 0.9753\n",
      "Epoch 11/22\n",
      "60000/60000 [==============================] - 1s 16us/step - loss: 0.0852 - acc: 0.9775\n",
      "Epoch 12/22\n",
      "60000/60000 [==============================] - 1s 16us/step - loss: 0.0831 - acc: 0.9771\n",
      "Epoch 13/22\n",
      "60000/60000 [==============================] - 1s 16us/step - loss: 0.0781 - acc: 0.9780\n",
      "Epoch 14/22\n",
      "60000/60000 [==============================] - 1s 16us/step - loss: 0.0786 - acc: 0.9792\n",
      "Epoch 15/22\n",
      "60000/60000 [==============================] - 1s 16us/step - loss: 0.0761 - acc: 0.9798\n",
      "Epoch 16/22\n",
      "60000/60000 [==============================] - 1s 16us/step - loss: 0.0730 - acc: 0.9806\n",
      "Epoch 17/22\n",
      "60000/60000 [==============================] - 1s 16us/step - loss: 0.0706 - acc: 0.9814\n",
      "Epoch 18/22\n",
      "60000/60000 [==============================] - 1s 16us/step - loss: 0.0715 - acc: 0.9818\n",
      "Epoch 19/22\n",
      "60000/60000 [==============================] - 1s 16us/step - loss: 0.0674 - acc: 0.9830\n",
      "Epoch 20/22\n",
      "60000/60000 [==============================] - 1s 16us/step - loss: 0.0673 - acc: 0.9826\n",
      "Epoch 21/22\n",
      "60000/60000 [==============================] - 1s 16us/step - loss: 0.0637 - acc: 0.9832\n",
      "Epoch 22/22\n",
      "60000/60000 [==============================] - 1s 16us/step - loss: 0.0638 - acc: 0.9835\n"
     ]
    }
   ],
   "source": [
    "# Do dropout with epochs and entire dataset.\n",
    "all_data_dropout_reg_history = all_dropout_network.fit(train_images, train_labels, epochs=number_epochs,\n",
    "                                             batch_size=512)"
   ]
  },
  {
   "cell_type": "code",
   "execution_count": 52,
   "metadata": {},
   "outputs": [
    {
     "name": "stdout",
     "output_type": "stream",
     "text": [
      "10000/10000 [==============================] - 1s 65us/step\n",
      "Test set loss with dropout with all data is  0.0781968228991881\n",
      "Test set accuracy with dropout with all data is  0.9832\n"
     ]
    }
   ],
   "source": [
    "all_data_dropout_test_loss, all_data_dropout_test_acc = all_dropout_network.evaluate(test_images, test_labels)\n",
    "print('Test set loss with dropout with all data is ', all_data_dropout_test_loss)\n",
    "print('Test set accuracy with dropout with all data is ', all_data_dropout_test_acc)"
   ]
  },
  {
   "cell_type": "code",
   "execution_count": null,
   "metadata": {},
   "outputs": [],
   "source": [
    "# How well does your model perform to the baseline from chapter 2.1 in the book?"
   ]
  },
  {
   "cell_type": "markdown",
   "metadata": {},
   "source": [
    "The baseline model in the book has an accuracy of 0.9785. Thus, with accuracy of 0.9832, this model performs slightly better."
   ]
  },
  {
   "cell_type": "markdown",
   "metadata": {},
   "source": [
    "# Part 2: Scalar Regression"
   ]
  },
  {
   "cell_type": "code",
   "execution_count": 54,
   "metadata": {},
   "outputs": [
    {
     "name": "stdout",
     "output_type": "stream",
     "text": [
      "Downloading data from https://s3.amazonaws.com/keras-datasets/boston_housing.npz\n",
      "57344/57026 [==============================] - 0s 1us/step\n"
     ]
    }
   ],
   "source": [
    "from keras.datasets import boston_housing\n",
    "(train_data, train_targets), (test_data, test_targets) = boston_housing.load_data()"
   ]
  },
  {
   "cell_type": "code",
   "execution_count": 55,
   "metadata": {},
   "outputs": [
    {
     "data": {
      "text/plain": [
       "(404, 13)"
      ]
     },
     "execution_count": 55,
     "metadata": {},
     "output_type": "execute_result"
    }
   ],
   "source": [
    "train_data.shape"
   ]
  },
  {
   "cell_type": "code",
   "execution_count": 56,
   "metadata": {},
   "outputs": [
    {
     "data": {
      "text/plain": [
       "(102, 13)"
      ]
     },
     "execution_count": 56,
     "metadata": {},
     "output_type": "execute_result"
    }
   ],
   "source": [
    "test_data.shape"
   ]
  },
  {
   "cell_type": "code",
   "execution_count": 57,
   "metadata": {},
   "outputs": [
    {
     "data": {
      "text/plain": [
       "array([15.2, 42.3, 50. , 21.1, 17.7, 18.5, 11.3, 15.6, 15.6, 14.4, 12.1,\n",
       "       17.9, 23.1, 19.9, 15.7,  8.8, 50. , 22.5, 24.1, 27.5, 10.9, 30.8,\n",
       "       32.9, 24. , 18.5, 13.3, 22.9, 34.7, 16.6, 17.5, 22.3, 16.1, 14.9,\n",
       "       23.1, 34.9, 25. , 13.9, 13.1, 20.4, 20. , 15.2, 24.7, 22.2, 16.7,\n",
       "       12.7, 15.6, 18.4, 21. , 30.1, 15.1, 18.7,  9.6, 31.5, 24.8, 19.1,\n",
       "       22. , 14.5, 11. , 32. , 29.4, 20.3, 24.4, 14.6, 19.5, 14.1, 14.3,\n",
       "       15.6, 10.5,  6.3, 19.3, 19.3, 13.4, 36.4, 17.8, 13.5, 16.5,  8.3,\n",
       "       14.3, 16. , 13.4, 28.6, 43.5, 20.2, 22. , 23. , 20.7, 12.5, 48.5,\n",
       "       14.6, 13.4, 23.7, 50. , 21.7, 39.8, 38.7, 22.2, 34.9, 22.5, 31.1,\n",
       "       28.7, 46. , 41.7, 21. , 26.6, 15. , 24.4, 13.3, 21.2, 11.7, 21.7,\n",
       "       19.4, 50. , 22.8, 19.7, 24.7, 36.2, 14.2, 18.9, 18.3, 20.6, 24.6,\n",
       "       18.2,  8.7, 44. , 10.4, 13.2, 21.2, 37. , 30.7, 22.9, 20. , 19.3,\n",
       "       31.7, 32. , 23.1, 18.8, 10.9, 50. , 19.6,  5. , 14.4, 19.8, 13.8,\n",
       "       19.6, 23.9, 24.5, 25. , 19.9, 17.2, 24.6, 13.5, 26.6, 21.4, 11.9,\n",
       "       22.6, 19.6,  8.5, 23.7, 23.1, 22.4, 20.5, 23.6, 18.4, 35.2, 23.1,\n",
       "       27.9, 20.6, 23.7, 28. , 13.6, 27.1, 23.6, 20.6, 18.2, 21.7, 17.1,\n",
       "        8.4, 25.3, 13.8, 22.2, 18.4, 20.7, 31.6, 30.5, 20.3,  8.8, 19.2,\n",
       "       19.4, 23.1, 23. , 14.8, 48.8, 22.6, 33.4, 21.1, 13.6, 32.2, 13.1,\n",
       "       23.4, 18.9, 23.9, 11.8, 23.3, 22.8, 19.6, 16.7, 13.4, 22.2, 20.4,\n",
       "       21.8, 26.4, 14.9, 24.1, 23.8, 12.3, 29.1, 21. , 19.5, 23.3, 23.8,\n",
       "       17.8, 11.5, 21.7, 19.9, 25. , 33.4, 28.5, 21.4, 24.3, 27.5, 33.1,\n",
       "       16.2, 23.3, 48.3, 22.9, 22.8, 13.1, 12.7, 22.6, 15. , 15.3, 10.5,\n",
       "       24. , 18.5, 21.7, 19.5, 33.2, 23.2,  5. , 19.1, 12.7, 22.3, 10.2,\n",
       "       13.9, 16.3, 17. , 20.1, 29.9, 17.2, 37.3, 45.4, 17.8, 23.2, 29. ,\n",
       "       22. , 18. , 17.4, 34.6, 20.1, 25. , 15.6, 24.8, 28.2, 21.2, 21.4,\n",
       "       23.8, 31. , 26.2, 17.4, 37.9, 17.5, 20. ,  8.3, 23.9,  8.4, 13.8,\n",
       "        7.2, 11.7, 17.1, 21.6, 50. , 16.1, 20.4, 20.6, 21.4, 20.6, 36.5,\n",
       "        8.5, 24.8, 10.8, 21.9, 17.3, 18.9, 36.2, 14.9, 18.2, 33.3, 21.8,\n",
       "       19.7, 31.6, 24.8, 19.4, 22.8,  7.5, 44.8, 16.8, 18.7, 50. , 50. ,\n",
       "       19.5, 20.1, 50. , 17.2, 20.8, 19.3, 41.3, 20.4, 20.5, 13.8, 16.5,\n",
       "       23.9, 20.6, 31.5, 23.3, 16.8, 14. , 33.8, 36.1, 12.8, 18.3, 18.7,\n",
       "       19.1, 29. , 30.1, 50. , 50. , 22. , 11.9, 37.6, 50. , 22.7, 20.8,\n",
       "       23.5, 27.9, 50. , 19.3, 23.9, 22.6, 15.2, 21.7, 19.2, 43.8, 20.3,\n",
       "       33.2, 19.9, 22.5, 32.7, 22. , 17.1, 19. , 15. , 16.1, 25.1, 23.7,\n",
       "       28.7, 37.2, 22.6, 16.4, 25. , 29.8, 22.1, 17.4, 18.1, 30.3, 17.5,\n",
       "       24.7, 12.6, 26.5, 28.7, 13.3, 10.4, 24.4, 23. , 20. , 17.8,  7. ,\n",
       "       11.8, 24.4, 13.8, 19.4, 25.2, 19.4, 19.4, 29.1])"
      ]
     },
     "execution_count": 57,
     "metadata": {},
     "output_type": "execute_result"
    }
   ],
   "source": [
    "train_targets"
   ]
  },
  {
   "cell_type": "code",
   "execution_count": 58,
   "metadata": {},
   "outputs": [],
   "source": [
    "# Normalizing the data.\n",
    "mean = train_data.mean(axis=0)\n",
    "train_data -= mean\n",
    "std = train_data.std(axis=0)\n",
    "train_data /= std \n",
    "\n",
    "test_data -= mean\n",
    "test_data /= std"
   ]
  },
  {
   "cell_type": "code",
   "execution_count": 89,
   "metadata": {},
   "outputs": [],
   "source": [
    "# Build the simple model from the book.\n",
    "def build_simple_model():\n",
    "    model = models.Sequential()\n",
    "    model.add(layers.Dense(64, activation='relu', input_shape=(train_data.shape[1],)))\n",
    "    model.add(layers.Dense(64, activation='relu'))\n",
    "    model.add(layers.Dense(1))\n",
    "    model.compile(optimizer='rmsprop', loss='mse', metrics=['mae'])\n",
    "    return model"
   ]
  },
  {
   "cell_type": "code",
   "execution_count": 92,
   "metadata": {},
   "outputs": [],
   "source": [
    "# Add k-fold validation.\n",
    "from sklearn.model_selection import KFold\n",
    "\n",
    "k = 10\n",
    "num_val_samples = len(train_data) // k\n",
    "num_epochs = 20"
   ]
  },
  {
   "cell_type": "code",
   "execution_count": 93,
   "metadata": {},
   "outputs": [],
   "source": [
    "def ten_fold_validate(model, k, num_epochs):\n",
    "    all_scores = []\n",
    "    kf = KFold(n_splits = k)\n",
    "    fold = 0\n",
    "    for train_index, test_index in kf.split(train_data):\n",
    "        fold +=1 \n",
    "        data_train, data_test = train_data[train_index], train_data[test_index]\n",
    "        target_train, target_test = train_targets[train_index], train_targets[test_index]\n",
    "        history = model.fit(data_train, target_train, epochs=num_epochs, batch_size=1, verbose=0)\n",
    "        val_mse, val_mae = model.evaluate(data_test, target_test)\n",
    "        all_scores.append(val_mse)\n",
    "        \n",
    "    return all_scores"
   ]
  },
  {
   "cell_type": "code",
   "execution_count": 110,
   "metadata": {},
   "outputs": [],
   "source": [
    "model = build_simple_model()"
   ]
  },
  {
   "cell_type": "code",
   "execution_count": 111,
   "metadata": {},
   "outputs": [
    {
     "name": "stdout",
     "output_type": "stream",
     "text": [
      "41/41 [==============================] - 0s 4ms/step\n",
      "41/41 [==============================] - 0s 76us/step\n",
      "41/41 [==============================] - 0s 88us/step\n",
      "41/41 [==============================] - 0s 108us/step\n",
      "40/40 [==============================] - 0s 99us/step\n",
      "40/40 [==============================] - 0s 105us/step\n",
      "40/40 [==============================] - 0s 77us/step\n",
      "40/40 [==============================] - 0s 114us/step\n",
      "40/40 [==============================] - 0s 103us/step\n",
      "40/40 [==============================] - 0s 81us/step\n"
     ]
    }
   ],
   "source": [
    "simple_model_scores = ten_fold_validate(model, k, num_epochs)"
   ]
  },
  {
   "cell_type": "code",
   "execution_count": 112,
   "metadata": {},
   "outputs": [
    {
     "name": "stdout",
     "output_type": "stream",
     "text": [
      "MSEs for k-folds are: [10.241899519431882, 4.2919387003270595, 4.981634535440585, 7.254169673454471, 4.092068481445312, 3.736579084396362, 4.530733203887939, 13.521775817871093, 1.759094738960266, 2.769433116912842]\n",
      "Mean of all MSEs for simple model is: 5.717932687212781\n",
      "Min of all MSEs for simple model is: 1.759094738960266\n"
     ]
    }
   ],
   "source": [
    "print(\"MSEs for k-folds are:\", simple_model_scores)\n",
    "print(\"Mean of all MSEs for simple model is:\", np.mean(simple_model_scores))\n",
    "print(\"Min of all MSEs for simple model is:\", np.min(simple_model_scores))"
   ]
  },
  {
   "cell_type": "code",
   "execution_count": 97,
   "metadata": {},
   "outputs": [],
   "source": [
    "# Let's try this model with a regularizers because the data is small.\n",
    "def l2_regularizer_model():\n",
    "    model = models.Sequential()\n",
    "    model.add(layers.Dense(64, activation='relu', input_shape=(train_data.shape[1],), \n",
    "                           kernel_regularizer=regularizers.l2(0.001)))\n",
    "    model.add(layers.Dense(64, activation='relu', kernel_regularizer=regularizers.l2(0.001)))\n",
    "    model.add(layers.Dense(1))\n",
    "    model.compile(optimizer='rmsprop', loss='mse', metrics=['mae'])\n",
    "    return model"
   ]
  },
  {
   "cell_type": "code",
   "execution_count": 98,
   "metadata": {},
   "outputs": [],
   "source": [
    "l2_model = l2_regularizer_model()"
   ]
  },
  {
   "cell_type": "code",
   "execution_count": 99,
   "metadata": {},
   "outputs": [
    {
     "name": "stdout",
     "output_type": "stream",
     "text": [
      "41/41 [==============================] - 0s 4ms/step\n",
      "41/41 [==============================] - 0s 114us/step\n",
      "41/41 [==============================] - 0s 92us/step\n",
      "41/41 [==============================] - 0s 107us/step\n",
      "40/40 [==============================] - 0s 108us/step\n",
      "40/40 [==============================] - 0s 118us/step\n",
      "40/40 [==============================] - 0s 85us/step\n",
      "40/40 [==============================] - 0s 95us/step\n",
      "40/40 [==============================] - 0s 108us/step\n",
      "40/40 [==============================] - 0s 114us/step\n"
     ]
    }
   ],
   "source": [
    "l2_model_scores = ten_fold_validate(l2_model, k, num_epochs)"
   ]
  },
  {
   "cell_type": "code",
   "execution_count": 105,
   "metadata": {},
   "outputs": [
    {
     "name": "stdout",
     "output_type": "stream",
     "text": [
      "MSEs for k-folds are: [18.231876821052737, 3.9139602475050017, 4.700092990223954, 7.610664228113686, 4.886154651641846, 3.3631733894348144, 6.96262264251709, 16.221623420715332, 3.7767295122146605, 2.65163049697876]\n",
      "Mean of all MSEs for l2 model is: 7.231852840039788\n",
      "Min of all MSEs for l2 model is: 2.65163049697876\n"
     ]
    }
   ],
   "source": [
    "print(\"MSEs for k-folds are:\", l2_model_scores)\n",
    "print(\"Mean of all MSEs for l2 model is:\", np.mean(l2_model_scores))\n",
    "print(\"Min of all MSEs for l2 model is:\", np.min(l2_model_scores))"
   ]
  },
  {
   "cell_type": "code",
   "execution_count": 101,
   "metadata": {},
   "outputs": [],
   "source": [
    "# That didn't help. Let's see about an l1 regularizer.\n",
    "def l1_regularizer_model():\n",
    "    model = models.Sequential()\n",
    "    model.add(layers.Dense(64, activation='relu', input_shape=(train_data.shape[1],), \n",
    "                           kernel_regularizer=regularizers.l1(0.001)))\n",
    "    model.add(layers.Dense(64, activation='relu', kernel_regularizer=regularizers.l1(0.001)))\n",
    "    model.add(layers.Dense(1))\n",
    "    model.compile(optimizer='rmsprop', loss='mse', metrics=['mae'])\n",
    "    return model"
   ]
  },
  {
   "cell_type": "code",
   "execution_count": 102,
   "metadata": {},
   "outputs": [],
   "source": [
    "l1_model = l1_regularizer_model()"
   ]
  },
  {
   "cell_type": "code",
   "execution_count": 103,
   "metadata": {},
   "outputs": [
    {
     "name": "stdout",
     "output_type": "stream",
     "text": [
      "41/41 [==============================] - 0s 5ms/step\n",
      "41/41 [==============================] - 0s 133us/step\n",
      "41/41 [==============================] - 0s 88us/step\n",
      "41/41 [==============================] - 0s 93us/step\n",
      "40/40 [==============================] - 0s 114us/step\n",
      "40/40 [==============================] - 0s 87us/step\n",
      "40/40 [==============================] - 0s 89us/step\n",
      "40/40 [==============================] - 0s 121us/step\n",
      "40/40 [==============================] - 0s 122us/step\n",
      "40/40 [==============================] - 0s 105us/step\n"
     ]
    }
   ],
   "source": [
    "l1_model_scores = ten_fold_validate(l1_model, k, num_epochs)"
   ]
  },
  {
   "cell_type": "code",
   "execution_count": 106,
   "metadata": {},
   "outputs": [
    {
     "name": "stdout",
     "output_type": "stream",
     "text": [
      "MSEs for k-folds are: [14.021243188439346, 4.992438851333246, 5.517086715233035, 10.554497125672132, 5.113930320739746, 6.28759126663208, 5.541040515899658, 16.082028007507326, 4.217559909820556, 3.2672250270843506]\n",
      "Mean of all MSEs for l1 model is: 7.559464092836146\n",
      "Min of all MSEs for l1 model is: 3.2672250270843506\n"
     ]
    }
   ],
   "source": [
    "print(\"MSEs for k-folds are:\", l1_model_scores)\n",
    "print(\"Mean of all MSEs for l1 model is:\", np.mean(l1_model_scores))\n",
    "print(\"Min of all MSEs for l1 model is:\", np.min(l1_model_scores))"
   ]
  },
  {
   "cell_type": "code",
   "execution_count": 107,
   "metadata": {},
   "outputs": [],
   "source": [
    "# That didn't help either. What if we add another layer?\n",
    "def build_three_model():\n",
    "    model = models.Sequential()\n",
    "    model.add(layers.Dense(64, activation='relu', input_shape=(train_data.shape[1],)))\n",
    "    model.add(layers.Dense(64, activation='relu'))\n",
    "    model.add(layers.Dense(64, activation='relu'))\n",
    "    model.add(layers.Dense(1))\n",
    "    model.compile(optimizer='rmsprop', loss='mse', metrics=['mae'])\n",
    "    return model"
   ]
  },
  {
   "cell_type": "code",
   "execution_count": 113,
   "metadata": {},
   "outputs": [],
   "source": [
    "three_model = build_three_model()"
   ]
  },
  {
   "cell_type": "code",
   "execution_count": 116,
   "metadata": {},
   "outputs": [
    {
     "name": "stdout",
     "output_type": "stream",
     "text": [
      "41/41 [==============================] - 0s 4ms/step\n",
      "41/41 [==============================] - 0s 85us/step\n",
      "41/41 [==============================] - 0s 85us/step\n",
      "41/41 [==============================] - 0s 101us/step\n",
      "40/40 [==============================] - 0s 110us/step\n",
      "40/40 [==============================] - 0s 117us/step\n",
      "40/40 [==============================] - 0s 119us/step\n",
      "40/40 [==============================] - 0s 115us/step\n",
      "40/40 [==============================] - 0s 85us/step\n",
      "40/40 [==============================] - 0s 95us/step\n"
     ]
    }
   ],
   "source": [
    "three_model_scores = ten_fold_validate(three_model, k, num_epochs)"
   ]
  },
  {
   "cell_type": "code",
   "execution_count": 117,
   "metadata": {},
   "outputs": [
    {
     "name": "stdout",
     "output_type": "stream",
     "text": [
      "MSEs for k-folds are: [13.61239287911392, 3.774333186265899, 5.426161684641024, 7.0614274013333205, 3.329938507080078, 4.590503787994384, 4.555862760543823, 7.288073539733887, 2.1272178173065184, 1.961483907699585]\n",
      "Mean of all MSEs for three layer model is: 5.3727395471712445\n",
      "Min of all MSEs for three layer model is: 1.961483907699585\n"
     ]
    }
   ],
   "source": [
    "print(\"MSEs for k-folds are:\", three_model_scores)\n",
    "print(\"Mean of all MSEs for three layer model is:\", np.mean(three_model_scores))\n",
    "print(\"Min of all MSEs for three layer model is:\", np.min(three_model_scores))"
   ]
  },
  {
   "cell_type": "code",
   "execution_count": 118,
   "metadata": {},
   "outputs": [],
   "source": [
    "# This helped a the average MSE a little bit. So we'll add a layer. Now, let's see what happens with more epochs. \n",
    "# I'm going to use 80 because it was used in the book example.\n",
    "num_epochs = 80\n",
    "three_model = build_three_model()"
   ]
  },
  {
   "cell_type": "code",
   "execution_count": 119,
   "metadata": {},
   "outputs": [
    {
     "name": "stdout",
     "output_type": "stream",
     "text": [
      "41/41 [==============================] - 0s 5ms/step\n",
      "41/41 [==============================] - 0s 94us/step\n",
      "41/41 [==============================] - 0s 131us/step\n",
      "41/41 [==============================] - 0s 116us/step\n",
      "40/40 [==============================] - 0s 123us/step\n",
      "40/40 [==============================] - 0s 118us/step\n",
      "40/40 [==============================] - 0s 85us/step\n",
      "40/40 [==============================] - 0s 108us/step\n",
      "40/40 [==============================] - 0s 93us/step\n",
      "40/40 [==============================] - 0s 91us/step\n"
     ]
    }
   ],
   "source": [
    "three_model_scores_80 = ten_fold_validate(three_model, k, num_epochs)"
   ]
  },
  {
   "cell_type": "code",
   "execution_count": 120,
   "metadata": {
    "scrolled": true
   },
   "outputs": [
    {
     "name": "stdout",
     "output_type": "stream",
     "text": [
      "MSEs for k-folds are: [10.378064210821943, 4.87749336987007, 7.000841303569515, 4.07940569447308, 2.6220977783203123, 2.0968018531799317, 1.8333664417266846, 5.963688659667969, 1.9384735107421875, 0.836293637752533]\n",
      "Mean of all MSEs for three layer model with 80 epochs is: 4.162652646012423\n",
      "Min of all MSEs for three layer model with 80 epochs is: 0.836293637752533\n"
     ]
    }
   ],
   "source": [
    "print(\"MSEs for k-folds are:\", three_model_scores_80)\n",
    "print(\"Mean of all MSEs for three layer model with 80 epochs is:\", np.mean(three_model_scores_80))\n",
    "print(\"Min of all MSEs for three layer model with 80 epochs is:\", np.min(three_model_scores_80))"
   ]
  },
  {
   "cell_type": "code",
   "execution_count": 138,
   "metadata": {},
   "outputs": [],
   "source": [
    "# This is lower, but we risk overfitting. Let's see what 30 epochs is like.\n",
    "num_epochs = 30\n",
    "three_model = build_three_model()"
   ]
  },
  {
   "cell_type": "code",
   "execution_count": 139,
   "metadata": {},
   "outputs": [
    {
     "name": "stdout",
     "output_type": "stream",
     "text": [
      "41/41 [==============================] - 0s 6ms/step\n",
      "41/41 [==============================] - 0s 96us/step\n",
      "41/41 [==============================] - 0s 92us/step\n",
      "41/41 [==============================] - 0s 104us/step\n",
      "40/40 [==============================] - 0s 122us/step\n",
      "40/40 [==============================] - 0s 88us/step\n",
      "40/40 [==============================] - 0s 110us/step\n",
      "40/40 [==============================] - 0s 113us/step\n",
      "40/40 [==============================] - 0s 94us/step\n",
      "40/40 [==============================] - 0s 118us/step\n"
     ]
    }
   ],
   "source": [
    "three_model_scores_30 = ten_fold_validate(three_model, k, num_epochs)"
   ]
  },
  {
   "cell_type": "code",
   "execution_count": 141,
   "metadata": {},
   "outputs": [
    {
     "name": "stdout",
     "output_type": "stream",
     "text": [
      "MSEs for k-folds are: [14.903701084416086, 5.362037507499137, 5.18535837313024, 7.447247167912925, 7.900524711608886, 3.561469841003418, 3.9208202362060547, 5.032571768760681, 2.1887470483779907, 1.3277640104293824]\n",
      "Mean of all MSEs for three layer model with 30 epochs is: 5.68302417493448\n",
      "Min of all MSEs for three layer model with 30 epochs is: 1.3277640104293824\n"
     ]
    }
   ],
   "source": [
    "print(\"MSEs for k-folds are:\", three_model_scores_30)\n",
    "print(\"Mean of all MSEs for three layer model with 30 epochs is:\", np.mean(three_model_scores_30))\n",
    "print(\"Min of all MSEs for three layer model with 30 epochs is:\", np.min(three_model_scores_30))"
   ]
  },
  {
   "cell_type": "code",
   "execution_count": 175,
   "metadata": {},
   "outputs": [],
   "source": [
    "# 80 epochs looks the best. Now let's test it using the entire training set, for our final model.\n",
    "final_model = models.Sequential()\n",
    "final_model.add(layers.Dense(64, activation='relu', input_shape=(train_data.shape[1],)))\n",
    "final_model.add(layers.Dense(64, activation='relu'))\n",
    "final_model.add(layers.Dense(64, activation='relu'))\n",
    "final_model.add(layers.Dense(1))\n",
    "final_model.compile(optimizer='rmsprop', loss='mse', metrics=['mae'])"
   ]
  },
  {
   "cell_type": "code",
   "execution_count": 176,
   "metadata": {},
   "outputs": [
    {
     "name": "stdout",
     "output_type": "stream",
     "text": [
      "Epoch 1/80\n",
      "404/404 [==============================] - 2s 5ms/step - loss: 113.0253 - mean_absolute_error: 7.0219\n",
      "Epoch 2/80\n",
      "404/404 [==============================] - 1s 3ms/step - loss: 20.3432 - mean_absolute_error: 3.0435\n",
      "Epoch 3/80\n",
      "404/404 [==============================] - 1s 3ms/step - loss: 16.6263 - mean_absolute_error: 2.8357\n",
      "Epoch 4/80\n",
      "404/404 [==============================] - 1s 3ms/step - loss: 14.2945 - mean_absolute_error: 2.6107\n",
      "Epoch 5/80\n",
      "404/404 [==============================] - 1s 3ms/step - loss: 13.1772 - mean_absolute_error: 2.4616\n",
      "Epoch 6/80\n",
      "404/404 [==============================] - 1s 3ms/step - loss: 11.9938 - mean_absolute_error: 2.3685\n",
      "Epoch 7/80\n",
      "404/404 [==============================] - 1s 3ms/step - loss: 11.1535 - mean_absolute_error: 2.3484\n",
      "Epoch 8/80\n",
      "404/404 [==============================] - 1s 3ms/step - loss: 10.8141 - mean_absolute_error: 2.2993\n",
      "Epoch 9/80\n",
      "404/404 [==============================] - 1s 3ms/step - loss: 10.3168 - mean_absolute_error: 2.1607\n",
      "Epoch 10/80\n",
      "404/404 [==============================] - 1s 3ms/step - loss: 9.6751 - mean_absolute_error: 2.1560\n",
      "Epoch 11/80\n",
      "404/404 [==============================] - 1s 3ms/step - loss: 9.7674 - mean_absolute_error: 2.1166\n",
      "Epoch 12/80\n",
      "404/404 [==============================] - 1s 3ms/step - loss: 8.2158 - mean_absolute_error: 1.9942\n",
      "Epoch 13/80\n",
      "404/404 [==============================] - 1s 3ms/step - loss: 8.9927 - mean_absolute_error: 2.0871\n",
      "Epoch 14/80\n",
      "404/404 [==============================] - 1s 3ms/step - loss: 9.0112 - mean_absolute_error: 2.0699\n",
      "Epoch 15/80\n",
      "404/404 [==============================] - 1s 3ms/step - loss: 8.4297 - mean_absolute_error: 2.0114\n",
      "Epoch 16/80\n",
      "404/404 [==============================] - 1s 3ms/step - loss: 8.7945 - mean_absolute_error: 1.9451\n",
      "Epoch 17/80\n",
      "404/404 [==============================] - 1s 3ms/step - loss: 8.3627 - mean_absolute_error: 1.9707\n",
      "Epoch 18/80\n",
      "404/404 [==============================] - 1s 3ms/step - loss: 7.7041 - mean_absolute_error: 1.9281\n",
      "Epoch 19/80\n",
      "404/404 [==============================] - 1s 3ms/step - loss: 7.8402 - mean_absolute_error: 1.9414\n",
      "Epoch 20/80\n",
      "404/404 [==============================] - 1s 3ms/step - loss: 7.5556 - mean_absolute_error: 1.8461\n",
      "Epoch 21/80\n",
      "404/404 [==============================] - 1s 3ms/step - loss: 7.6567 - mean_absolute_error: 1.8482\n",
      "Epoch 22/80\n",
      "404/404 [==============================] - 1s 3ms/step - loss: 7.5510 - mean_absolute_error: 1.9261\n",
      "Epoch 23/80\n",
      "404/404 [==============================] - 1s 3ms/step - loss: 7.0246 - mean_absolute_error: 1.8793\n",
      "Epoch 24/80\n",
      "404/404 [==============================] - 1s 3ms/step - loss: 7.3749 - mean_absolute_error: 1.8488\n",
      "Epoch 25/80\n",
      "404/404 [==============================] - 1s 3ms/step - loss: 7.1456 - mean_absolute_error: 1.8594\n",
      "Epoch 26/80\n",
      "404/404 [==============================] - 1s 3ms/step - loss: 6.6962 - mean_absolute_error: 1.6959\n",
      "Epoch 27/80\n",
      "404/404 [==============================] - 1s 3ms/step - loss: 6.8785 - mean_absolute_error: 1.8023\n",
      "Epoch 28/80\n",
      "404/404 [==============================] - 1s 3ms/step - loss: 6.8668 - mean_absolute_error: 1.8091\n",
      "Epoch 29/80\n",
      "404/404 [==============================] - 1s 3ms/step - loss: 6.6735 - mean_absolute_error: 1.7596\n",
      "Epoch 30/80\n",
      "404/404 [==============================] - 1s 3ms/step - loss: 6.2725 - mean_absolute_error: 1.8033\n",
      "Epoch 31/80\n",
      "404/404 [==============================] - 1s 3ms/step - loss: 6.5216 - mean_absolute_error: 1.8012\n",
      "Epoch 32/80\n",
      "404/404 [==============================] - 1s 3ms/step - loss: 6.5242 - mean_absolute_error: 1.7368\n",
      "Epoch 33/80\n",
      "404/404 [==============================] - 1s 3ms/step - loss: 6.2751 - mean_absolute_error: 1.7100\n",
      "Epoch 34/80\n",
      "404/404 [==============================] - 1s 3ms/step - loss: 5.9631 - mean_absolute_error: 1.7047\n",
      "Epoch 35/80\n",
      "404/404 [==============================] - 1s 3ms/step - loss: 5.8778 - mean_absolute_error: 1.7232\n",
      "Epoch 36/80\n",
      "404/404 [==============================] - 1s 3ms/step - loss: 5.4702 - mean_absolute_error: 1.6817\n",
      "Epoch 37/80\n",
      "404/404 [==============================] - 1s 3ms/step - loss: 6.4664 - mean_absolute_error: 1.7572\n",
      "Epoch 38/80\n",
      "404/404 [==============================] - 1s 3ms/step - loss: 5.6291 - mean_absolute_error: 1.6203\n",
      "Epoch 39/80\n",
      "404/404 [==============================] - 1s 3ms/step - loss: 5.8244 - mean_absolute_error: 1.6129\n",
      "Epoch 40/80\n",
      "404/404 [==============================] - 1s 3ms/step - loss: 5.7610 - mean_absolute_error: 1.6954\n",
      "Epoch 41/80\n",
      "404/404 [==============================] - 1s 3ms/step - loss: 5.9520 - mean_absolute_error: 1.6739\n",
      "Epoch 42/80\n",
      "404/404 [==============================] - 1s 3ms/step - loss: 5.0603 - mean_absolute_error: 1.6063\n",
      "Epoch 43/80\n",
      "404/404 [==============================] - 1s 3ms/step - loss: 5.3659 - mean_absolute_error: 1.6035\n",
      "Epoch 44/80\n",
      "404/404 [==============================] - 1s 3ms/step - loss: 5.3941 - mean_absolute_error: 1.6333\n",
      "Epoch 45/80\n",
      "404/404 [==============================] - 1s 3ms/step - loss: 4.9479 - mean_absolute_error: 1.5279\n",
      "Epoch 46/80\n",
      "404/404 [==============================] - 1s 3ms/step - loss: 5.5476 - mean_absolute_error: 1.6365\n",
      "Epoch 47/80\n",
      "404/404 [==============================] - 1s 3ms/step - loss: 5.0818 - mean_absolute_error: 1.5939\n",
      "Epoch 48/80\n",
      "404/404 [==============================] - 1s 3ms/step - loss: 5.0846 - mean_absolute_error: 1.4987\n",
      "Epoch 49/80\n",
      "404/404 [==============================] - 1s 3ms/step - loss: 5.1830 - mean_absolute_error: 1.5578\n",
      "Epoch 50/80\n",
      "404/404 [==============================] - 1s 3ms/step - loss: 5.0373 - mean_absolute_error: 1.5690\n",
      "Epoch 51/80\n",
      "404/404 [==============================] - 1s 3ms/step - loss: 5.0631 - mean_absolute_error: 1.5758\n",
      "Epoch 52/80\n",
      "404/404 [==============================] - 1s 3ms/step - loss: 4.8590 - mean_absolute_error: 1.5672\n",
      "Epoch 53/80\n",
      "404/404 [==============================] - 1s 3ms/step - loss: 4.7968 - mean_absolute_error: 1.4790\n",
      "Epoch 54/80\n",
      "404/404 [==============================] - 1s 3ms/step - loss: 4.5200 - mean_absolute_error: 1.5114\n",
      "Epoch 55/80\n",
      "404/404 [==============================] - 1s 3ms/step - loss: 4.6447 - mean_absolute_error: 1.5381\n",
      "Epoch 56/80\n",
      "404/404 [==============================] - 1s 3ms/step - loss: 4.6680 - mean_absolute_error: 1.5290\n",
      "Epoch 57/80\n",
      "404/404 [==============================] - 1s 3ms/step - loss: 4.4001 - mean_absolute_error: 1.5027\n",
      "Epoch 58/80\n",
      "404/404 [==============================] - 1s 3ms/step - loss: 4.3159 - mean_absolute_error: 1.4570\n",
      "Epoch 59/80\n",
      "404/404 [==============================] - 1s 3ms/step - loss: 4.8234 - mean_absolute_error: 1.5090\n",
      "Epoch 60/80\n",
      "404/404 [==============================] - 1s 3ms/step - loss: 4.4927 - mean_absolute_error: 1.5215\n",
      "Epoch 61/80\n",
      "404/404 [==============================] - 1s 3ms/step - loss: 4.3976 - mean_absolute_error: 1.4985\n",
      "Epoch 62/80\n",
      "404/404 [==============================] - 1s 3ms/step - loss: 4.4790 - mean_absolute_error: 1.5064\n",
      "Epoch 63/80\n",
      "404/404 [==============================] - 1s 3ms/step - loss: 4.4980 - mean_absolute_error: 1.5270\n",
      "Epoch 64/80\n",
      "404/404 [==============================] - 1s 3ms/step - loss: 4.6781 - mean_absolute_error: 1.5027\n",
      "Epoch 65/80\n",
      "404/404 [==============================] - 1s 3ms/step - loss: 4.6143 - mean_absolute_error: 1.4670\n",
      "Epoch 66/80\n",
      "404/404 [==============================] - 1s 3ms/step - loss: 4.4583 - mean_absolute_error: 1.4405\n",
      "Epoch 67/80\n",
      "404/404 [==============================] - 1s 3ms/step - loss: 4.2305 - mean_absolute_error: 1.4889\n",
      "Epoch 68/80\n",
      "404/404 [==============================] - 1s 3ms/step - loss: 4.1492 - mean_absolute_error: 1.4611\n",
      "Epoch 69/80\n",
      "404/404 [==============================] - 1s 3ms/step - loss: 4.2691 - mean_absolute_error: 1.4449\n",
      "Epoch 70/80\n",
      "404/404 [==============================] - 1s 3ms/step - loss: 4.2919 - mean_absolute_error: 1.4825\n",
      "Epoch 71/80\n",
      "404/404 [==============================] - 1s 3ms/step - loss: 3.8981 - mean_absolute_error: 1.3902\n",
      "Epoch 72/80\n",
      "404/404 [==============================] - 1s 3ms/step - loss: 4.2564 - mean_absolute_error: 1.4821\n",
      "Epoch 73/80\n",
      "404/404 [==============================] - 1s 3ms/step - loss: 4.2407 - mean_absolute_error: 1.4238\n",
      "Epoch 74/80\n"
     ]
    },
    {
     "name": "stdout",
     "output_type": "stream",
     "text": [
      "404/404 [==============================] - 1s 3ms/step - loss: 3.9763 - mean_absolute_error: 1.4413\n",
      "Epoch 75/80\n",
      "404/404 [==============================] - 1s 3ms/step - loss: 3.9792 - mean_absolute_error: 1.3660\n",
      "Epoch 76/80\n",
      "404/404 [==============================] - 1s 3ms/step - loss: 4.0976 - mean_absolute_error: 1.4272\n",
      "Epoch 77/80\n",
      "404/404 [==============================] - 1s 3ms/step - loss: 4.1120 - mean_absolute_error: 1.4080\n",
      "Epoch 78/80\n",
      "404/404 [==============================] - 1s 3ms/step - loss: 4.0255 - mean_absolute_error: 1.3942\n",
      "Epoch 79/80\n",
      "404/404 [==============================] - 1s 3ms/step - loss: 3.7127 - mean_absolute_error: 1.3952\n",
      "Epoch 80/80\n",
      "404/404 [==============================] - 1s 3ms/step - loss: 3.9773 - mean_absolute_error: 1.4055\n",
      "102/102 [==============================] - 0s 4ms/step\n"
     ]
    }
   ],
   "source": [
    "history = final_model.fit(train_data, train_targets, epochs=80, batch_size=1)\n",
    "val_mse, val_mae = final_model.evaluate(test_data, test_targets)"
   ]
  },
  {
   "cell_type": "code",
   "execution_count": 179,
   "metadata": {},
   "outputs": [
    {
     "name": "stdout",
     "output_type": "stream",
     "text": [
      "My test set MSE is:  9.645709037780762\n"
     ]
    }
   ],
   "source": [
    "print(\"My test set MSE is: \", val_mse)"
   ]
  },
  {
   "cell_type": "code",
   "execution_count": 180,
   "metadata": {},
   "outputs": [
    {
     "name": "stdout",
     "output_type": "stream",
     "text": [
      "My test set MAE is:  2.205759385052849\n"
     ]
    }
   ],
   "source": [
    "print(\"My test set MAE is: \", val_mae)"
   ]
  },
  {
   "cell_type": "code",
   "execution_count": null,
   "metadata": {},
   "outputs": [],
   "source": []
  }
 ],
 "metadata": {
  "kernelspec": {
   "display_name": "Python 3",
   "language": "python",
   "name": "python3"
  },
  "language_info": {
   "codemirror_mode": {
    "name": "ipython",
    "version": 3
   },
   "file_extension": ".py",
   "mimetype": "text/x-python",
   "name": "python",
   "nbconvert_exporter": "python",
   "pygments_lexer": "ipython3",
   "version": "3.5.2"
  }
 },
 "nbformat": 4,
 "nbformat_minor": 2
}
